{
 "cells": [
  {
   "cell_type": "markdown",
   "id": "42e606ad",
   "metadata": {},
   "source": [
    "**Проект: Статистический анализ данных**\n",
    "\n",
    "Вы аналитик популярного сервиса аренды самокатов GoFast. Вам передали данные о некоторых пользователях из нескольких городов, а также об их поездках. Проанализируйте данные и проверьте некоторые гипотезы, которые могут помочь бизнесу вырасти.\n",
    "\n",
    "Чтобы совершать поездки по городу, пользователи сервиса GoFast пользуются мобильным приложением. Сервисом можно пользоваться:\n",
    "1. без подписки\n",
    "- абонентская плата отсутствует;\n",
    "- стоимость одной минуты поездки — 8 рублей;\n",
    "- стоимость старта (начала поездки) — 50 рублей;\n",
    "2. с подпиской Ultra\n",
    "- абонентская плата — 199 рублей в месяц;\n",
    "- стоимость одной минуты поездки — 6 рублей;\n",
    "- стоимость старта — бесплатно."
   ]
  },
  {
   "cell_type": "markdown",
   "id": "cd37b5b9",
   "metadata": {},
   "source": [
    "**Описание данных**\n",
    "В основных данных есть информация о пользователях, их поездках и подписках.\n",
    "Пользователи — `users_go.csv`\n",
    "\n",
    "- `user_id` — уникальный идентификатор пользователя\n",
    "- `name` — имя пользователя\n",
    "- `age` — возраст\n",
    "- `city` — город\n",
    "- `subscription_type` — тип подписки (free, ultra)\n",
    "\n",
    "Поездки — `rides_go.csv` \n",
    "\n",
    "- `user_id` — уникальный идентификатор пользователя\n",
    "- `distance` — расстояние, которое пользователь проехал в текущей сессии (в метрах)\n",
    "- `duration` — продолжительность сессии (в минутах) — время с того момента, как пользователь нажал кнопку «Начать поездку» до момента, как он нажал кнопку «Завершить поездку»\n",
    "- `dateдата` — совершения поездки\n",
    "\n",
    "Подписки — `subscriptions_go.csv`\n",
    "\n",
    "- `subscription_type` — тип подписки\n",
    "- `minute_price` — стоимость одной минуты поездки по данной подписке\n",
    "- `start_ride_price` — стоимость начала поездки\n",
    "- `subscription_fee` — стоимость ежемесячного платежа"
   ]
  },
  {
   "cell_type": "code",
   "execution_count": 1,
   "id": "72576667",
   "metadata": {},
   "outputs": [],
   "source": [
    "# Импортируем необходимые библиотеки\n",
    "\n",
    "# pandas для работы с данными в табличном виде (DataFrame)\n",
    "import pandas as pd\n",
    "\n",
    "# numpy для работы с массивами и математическими функциями\n",
    "import numpy as np \n",
    "\n",
    "# импортируем функцию factorial для вычисления факториала, exp для экспоненты и sqrt для извлечения квадратного корня\n",
    "from math import factorial, exp, sqrt\n",
    "\n",
    "# для построения графиков\n",
    "import matplotlib.pyplot as plt \n",
    "\n",
    "# scipy предоставляет статистические функции и тесты\n",
    "from scipy import stats as st\n",
    "# Импортируем распределения для работы с биномиальным и пуассоновским распределениями, а также нормальным распределением\n",
    "from scipy.stats import binom, poisson, norm\n",
    "\n",
    "# seaborn для удобного построения статистических графиков\n",
    "import seaborn as sns"
   ]
  },
  {
   "cell_type": "markdown",
   "id": "c42cbe00",
   "metadata": {},
   "source": [
    "#### Шаг 1. Загрузка данных"
   ]
  },
  {
   "cell_type": "markdown",
   "id": "2d9f15b7",
   "metadata": {},
   "source": [
    "1.1 Считайте CSV-файлы с данными с помощью библиотеки pandas и сохраните их в датафреймы. Пути к файлам:\n",
    "- /datasets/users_go.csv\n",
    "- /datasets/rides_go.csv\n",
    "- /datasets/subscriptions_go.csv\n",
    "1.2 Выведите первые строки каждого набора данных. Изучите общую информацию о каждом датафрейме."
   ]
  },
  {
   "cell_type": "code",
   "execution_count": 2,
   "id": "eff9f206",
   "metadata": {},
   "outputs": [
    {
     "name": "stdout",
     "output_type": "stream",
     "text": [
      "<class 'pandas.core.frame.DataFrame'>\n",
      "RangeIndex: 1565 entries, 0 to 1564\n",
      "Data columns (total 5 columns):\n",
      " #   Column             Non-Null Count  Dtype \n",
      "---  ------             --------------  ----- \n",
      " 0   user_id            1565 non-null   int64 \n",
      " 1   name               1565 non-null   object\n",
      " 2   age                1565 non-null   int64 \n",
      " 3   city               1565 non-null   object\n",
      " 4   subscription_type  1565 non-null   object\n",
      "dtypes: int64(2), object(3)\n",
      "memory usage: 61.3+ KB\n"
     ]
    },
    {
     "data": {
      "text/html": [
       "<div>\n",
       "<style scoped>\n",
       "    .dataframe tbody tr th:only-of-type {\n",
       "        vertical-align: middle;\n",
       "    }\n",
       "\n",
       "    .dataframe tbody tr th {\n",
       "        vertical-align: top;\n",
       "    }\n",
       "\n",
       "    .dataframe thead th {\n",
       "        text-align: right;\n",
       "    }\n",
       "</style>\n",
       "<table border=\"1\" class=\"dataframe\">\n",
       "  <thead>\n",
       "    <tr style=\"text-align: right;\">\n",
       "      <th></th>\n",
       "      <th>user_id</th>\n",
       "      <th>name</th>\n",
       "      <th>age</th>\n",
       "      <th>city</th>\n",
       "      <th>subscription_type</th>\n",
       "    </tr>\n",
       "  </thead>\n",
       "  <tbody>\n",
       "    <tr>\n",
       "      <th>0</th>\n",
       "      <td>1</td>\n",
       "      <td>Кира</td>\n",
       "      <td>22</td>\n",
       "      <td>Тюмень</td>\n",
       "      <td>ultra</td>\n",
       "    </tr>\n",
       "    <tr>\n",
       "      <th>1</th>\n",
       "      <td>2</td>\n",
       "      <td>Станислав</td>\n",
       "      <td>31</td>\n",
       "      <td>Омск</td>\n",
       "      <td>ultra</td>\n",
       "    </tr>\n",
       "    <tr>\n",
       "      <th>2</th>\n",
       "      <td>3</td>\n",
       "      <td>Алексей</td>\n",
       "      <td>20</td>\n",
       "      <td>Москва</td>\n",
       "      <td>ultra</td>\n",
       "    </tr>\n",
       "    <tr>\n",
       "      <th>3</th>\n",
       "      <td>4</td>\n",
       "      <td>Константин</td>\n",
       "      <td>26</td>\n",
       "      <td>Ростов-на-Дону</td>\n",
       "      <td>ultra</td>\n",
       "    </tr>\n",
       "    <tr>\n",
       "      <th>4</th>\n",
       "      <td>5</td>\n",
       "      <td>Адель</td>\n",
       "      <td>28</td>\n",
       "      <td>Омск</td>\n",
       "      <td>ultra</td>\n",
       "    </tr>\n",
       "  </tbody>\n",
       "</table>\n",
       "</div>"
      ],
      "text/plain": [
       "   user_id        name  age            city subscription_type\n",
       "0        1        Кира   22          Тюмень             ultra\n",
       "1        2   Станислав   31            Омск             ultra\n",
       "2        3     Алексей   20          Москва             ultra\n",
       "3        4  Константин   26  Ростов-на-Дону             ultra\n",
       "4        5       Адель   28            Омск             ultra"
      ]
     },
     "metadata": {},
     "output_type": "display_data"
    },
    {
     "data": {
      "text/plain": [
       "'rides'"
      ]
     },
     "metadata": {},
     "output_type": "display_data"
    },
    {
     "name": "stdout",
     "output_type": "stream",
     "text": [
      "<class 'pandas.core.frame.DataFrame'>\n",
      "RangeIndex: 18068 entries, 0 to 18067\n",
      "Data columns (total 4 columns):\n",
      " #   Column    Non-Null Count  Dtype  \n",
      "---  ------    --------------  -----  \n",
      " 0   user_id   18068 non-null  int64  \n",
      " 1   distance  18068 non-null  float64\n",
      " 2   duration  18068 non-null  float64\n",
      " 3   date      18068 non-null  object \n",
      "dtypes: float64(2), int64(1), object(1)\n",
      "memory usage: 564.8+ KB\n"
     ]
    },
    {
     "data": {
      "text/html": [
       "<div>\n",
       "<style scoped>\n",
       "    .dataframe tbody tr th:only-of-type {\n",
       "        vertical-align: middle;\n",
       "    }\n",
       "\n",
       "    .dataframe tbody tr th {\n",
       "        vertical-align: top;\n",
       "    }\n",
       "\n",
       "    .dataframe thead th {\n",
       "        text-align: right;\n",
       "    }\n",
       "</style>\n",
       "<table border=\"1\" class=\"dataframe\">\n",
       "  <thead>\n",
       "    <tr style=\"text-align: right;\">\n",
       "      <th></th>\n",
       "      <th>user_id</th>\n",
       "      <th>distance</th>\n",
       "      <th>duration</th>\n",
       "      <th>date</th>\n",
       "    </tr>\n",
       "  </thead>\n",
       "  <tbody>\n",
       "    <tr>\n",
       "      <th>0</th>\n",
       "      <td>1</td>\n",
       "      <td>4409.919140</td>\n",
       "      <td>25.599769</td>\n",
       "      <td>2021-01-01</td>\n",
       "    </tr>\n",
       "    <tr>\n",
       "      <th>1</th>\n",
       "      <td>1</td>\n",
       "      <td>2617.592153</td>\n",
       "      <td>15.816871</td>\n",
       "      <td>2021-01-18</td>\n",
       "    </tr>\n",
       "    <tr>\n",
       "      <th>2</th>\n",
       "      <td>1</td>\n",
       "      <td>754.159807</td>\n",
       "      <td>6.232113</td>\n",
       "      <td>2021-04-20</td>\n",
       "    </tr>\n",
       "    <tr>\n",
       "      <th>3</th>\n",
       "      <td>1</td>\n",
       "      <td>2694.783254</td>\n",
       "      <td>18.511000</td>\n",
       "      <td>2021-08-11</td>\n",
       "    </tr>\n",
       "    <tr>\n",
       "      <th>4</th>\n",
       "      <td>1</td>\n",
       "      <td>4028.687306</td>\n",
       "      <td>26.265803</td>\n",
       "      <td>2021-08-28</td>\n",
       "    </tr>\n",
       "  </tbody>\n",
       "</table>\n",
       "</div>"
      ],
      "text/plain": [
       "   user_id     distance   duration        date\n",
       "0        1  4409.919140  25.599769  2021-01-01\n",
       "1        1  2617.592153  15.816871  2021-01-18\n",
       "2        1   754.159807   6.232113  2021-04-20\n",
       "3        1  2694.783254  18.511000  2021-08-11\n",
       "4        1  4028.687306  26.265803  2021-08-28"
      ]
     },
     "metadata": {},
     "output_type": "display_data"
    },
    {
     "data": {
      "text/plain": [
       "'sub'"
      ]
     },
     "metadata": {},
     "output_type": "display_data"
    },
    {
     "name": "stdout",
     "output_type": "stream",
     "text": [
      "<class 'pandas.core.frame.DataFrame'>\n",
      "RangeIndex: 2 entries, 0 to 1\n",
      "Data columns (total 4 columns):\n",
      " #   Column             Non-Null Count  Dtype \n",
      "---  ------             --------------  ----- \n",
      " 0   subscription_type  2 non-null      object\n",
      " 1   minute_price       2 non-null      int64 \n",
      " 2   start_ride_price   2 non-null      int64 \n",
      " 3   subscription_fee   2 non-null      int64 \n",
      "dtypes: int64(3), object(1)\n",
      "memory usage: 196.0+ bytes\n"
     ]
    },
    {
     "data": {
      "text/html": [
       "<div>\n",
       "<style scoped>\n",
       "    .dataframe tbody tr th:only-of-type {\n",
       "        vertical-align: middle;\n",
       "    }\n",
       "\n",
       "    .dataframe tbody tr th {\n",
       "        vertical-align: top;\n",
       "    }\n",
       "\n",
       "    .dataframe thead th {\n",
       "        text-align: right;\n",
       "    }\n",
       "</style>\n",
       "<table border=\"1\" class=\"dataframe\">\n",
       "  <thead>\n",
       "    <tr style=\"text-align: right;\">\n",
       "      <th></th>\n",
       "      <th>subscription_type</th>\n",
       "      <th>minute_price</th>\n",
       "      <th>start_ride_price</th>\n",
       "      <th>subscription_fee</th>\n",
       "    </tr>\n",
       "  </thead>\n",
       "  <tbody>\n",
       "    <tr>\n",
       "      <th>0</th>\n",
       "      <td>free</td>\n",
       "      <td>8</td>\n",
       "      <td>50</td>\n",
       "      <td>0</td>\n",
       "    </tr>\n",
       "    <tr>\n",
       "      <th>1</th>\n",
       "      <td>ultra</td>\n",
       "      <td>6</td>\n",
       "      <td>0</td>\n",
       "      <td>199</td>\n",
       "    </tr>\n",
       "  </tbody>\n",
       "</table>\n",
       "</div>"
      ],
      "text/plain": [
       "  subscription_type  minute_price  start_ride_price  subscription_fee\n",
       "0              free             8                50                 0\n",
       "1             ultra             6                 0               199"
      ]
     },
     "metadata": {},
     "output_type": "display_data"
    }
   ],
   "source": [
    "# Считываем CSV-файлы с данными и сохраняем их в датафреймы\n",
    "# Чтение данных о пользователях и сохранение в датафрейм df_users\n",
    "\n",
    "url_user_go = 'https://code.s3.yandex.net/datasets/users_go.csv'\n",
    "\n",
    "df_users = pd.read_csv(url_user_go)\n",
    "# Чтение данных о поездках и сохранение в датафрейм df_rides\n",
    "\n",
    "url_rides_go = 'https://code.s3.yandex.net/datasets/rides_go.csv'\n",
    "df_rides = pd.read_csv(url_rides_go)\n",
    "# Чтение данных о подписках и сохранение в датафрейм df_sub\n",
    "\n",
    "url_sub_go = 'https://code.s3.yandex.net/datasets/subscriptions_go.csv'\n",
    "df_sub = pd.read_csv(url_sub_go)\n",
    "# Выводим общую информацию о датафрейме df_users, чтобы понять структуру данных (типы столбцов, количество ненулевых значений)\n",
    "df_users.info()\n",
    "# Выводим первые несколько строк из df_users, чтобы изучить данные\n",
    "display(df_users.head())\n",
    "# Выводим строку 'rides' для наглядности (пометка для следующей части анализа)\n",
    "display('rides')\n",
    "# Выводим общую информацию о датафрейме df_rides\n",
    "df_rides.info()\n",
    "# Выводим первые несколько строк из df_rides, чтобы изучить данные\n",
    "display(df_rides.head())\n",
    "# Выводим строку 'sub' для наглядности (пометка для следующей части анализа)\n",
    "display('sub')\n",
    "# Выводим общую информацию о датафрейме df_sub\n",
    "df_sub.info()\n",
    "# Выводим первые несколько строк из df_sub, чтобы изучить данные\n",
    "display(df_sub.head())"
   ]
  },
  {
   "cell_type": "markdown",
   "id": "cca745cb",
   "metadata": {},
   "source": [
    "**Вывод.** загрузил CSV-файлы с данными с помощью библиотеки pandas и сохранил их в датафреймах. Вывел первые строки каждого набора данных. Изучил общую информацию о каждом датафрейме. \n"
   ]
  },
  {
   "cell_type": "markdown",
   "id": "e95ebca7",
   "metadata": {},
   "source": [
    "#### Шаг 2. Предобработка данных"
   ]
  },
  {
   "cell_type": "markdown",
   "id": "afa86aed",
   "metadata": {},
   "source": [
    "2.1 Приведите столбец `date` к типу даты pandas."
   ]
  },
  {
   "cell_type": "code",
   "execution_count": 3,
   "id": "e718aec7",
   "metadata": {},
   "outputs": [
    {
     "name": "stdout",
     "output_type": "stream",
     "text": [
      "<class 'pandas.core.frame.DataFrame'>\n",
      "RangeIndex: 18068 entries, 0 to 18067\n",
      "Data columns (total 4 columns):\n",
      " #   Column    Non-Null Count  Dtype         \n",
      "---  ------    --------------  -----         \n",
      " 0   user_id   18068 non-null  int64         \n",
      " 1   distance  18068 non-null  float64       \n",
      " 2   duration  18068 non-null  float64       \n",
      " 3   date      18068 non-null  datetime64[ns]\n",
      "dtypes: datetime64[ns](1), float64(2), int64(1)\n",
      "memory usage: 564.8 KB\n"
     ]
    },
    {
     "data": {
      "text/html": [
       "<div>\n",
       "<style scoped>\n",
       "    .dataframe tbody tr th:only-of-type {\n",
       "        vertical-align: middle;\n",
       "    }\n",
       "\n",
       "    .dataframe tbody tr th {\n",
       "        vertical-align: top;\n",
       "    }\n",
       "\n",
       "    .dataframe thead th {\n",
       "        text-align: right;\n",
       "    }\n",
       "</style>\n",
       "<table border=\"1\" class=\"dataframe\">\n",
       "  <thead>\n",
       "    <tr style=\"text-align: right;\">\n",
       "      <th></th>\n",
       "      <th>user_id</th>\n",
       "      <th>distance</th>\n",
       "      <th>duration</th>\n",
       "      <th>date</th>\n",
       "    </tr>\n",
       "  </thead>\n",
       "  <tbody>\n",
       "    <tr>\n",
       "      <th>0</th>\n",
       "      <td>1</td>\n",
       "      <td>4409.919140</td>\n",
       "      <td>25.599769</td>\n",
       "      <td>2021-01-01</td>\n",
       "    </tr>\n",
       "    <tr>\n",
       "      <th>1</th>\n",
       "      <td>1</td>\n",
       "      <td>2617.592153</td>\n",
       "      <td>15.816871</td>\n",
       "      <td>2021-01-18</td>\n",
       "    </tr>\n",
       "    <tr>\n",
       "      <th>2</th>\n",
       "      <td>1</td>\n",
       "      <td>754.159807</td>\n",
       "      <td>6.232113</td>\n",
       "      <td>2021-04-20</td>\n",
       "    </tr>\n",
       "    <tr>\n",
       "      <th>3</th>\n",
       "      <td>1</td>\n",
       "      <td>2694.783254</td>\n",
       "      <td>18.511000</td>\n",
       "      <td>2021-08-11</td>\n",
       "    </tr>\n",
       "    <tr>\n",
       "      <th>4</th>\n",
       "      <td>1</td>\n",
       "      <td>4028.687306</td>\n",
       "      <td>26.265803</td>\n",
       "      <td>2021-08-28</td>\n",
       "    </tr>\n",
       "  </tbody>\n",
       "</table>\n",
       "</div>"
      ],
      "text/plain": [
       "   user_id     distance   duration       date\n",
       "0        1  4409.919140  25.599769 2021-01-01\n",
       "1        1  2617.592153  15.816871 2021-01-18\n",
       "2        1   754.159807   6.232113 2021-04-20\n",
       "3        1  2694.783254  18.511000 2021-08-11\n",
       "4        1  4028.687306  26.265803 2021-08-28"
      ]
     },
     "metadata": {},
     "output_type": "display_data"
    }
   ],
   "source": [
    "# Приводим столбец 'date' в датафрейме df_rides к типу datetime для удобства работы с датами\n",
    "df_rides['date'] = pd.to_datetime(df_rides['date'])\n",
    "\n",
    "# Выводим общую информацию о датафрейме df_rides, чтобы убедиться, что столбец 'date' преобразован в правильный тип\n",
    "df_rides.info()\n",
    "\n",
    "# Выводим первые несколько строк датафрейма df_rides, чтобы проверить преобразование столбца 'date'\n",
    "display(df_rides.head())"
   ]
  },
  {
   "cell_type": "markdown",
   "id": "3135a767",
   "metadata": {},
   "source": [
    "2.2 Создайте новый столбец с номером месяца на основе столбца `date`."
   ]
  },
  {
   "cell_type": "code",
   "execution_count": 4,
   "id": "ddeb6ca2",
   "metadata": {},
   "outputs": [
    {
     "data": {
      "text/html": [
       "<div>\n",
       "<style scoped>\n",
       "    .dataframe tbody tr th:only-of-type {\n",
       "        vertical-align: middle;\n",
       "    }\n",
       "\n",
       "    .dataframe tbody tr th {\n",
       "        vertical-align: top;\n",
       "    }\n",
       "\n",
       "    .dataframe thead th {\n",
       "        text-align: right;\n",
       "    }\n",
       "</style>\n",
       "<table border=\"1\" class=\"dataframe\">\n",
       "  <thead>\n",
       "    <tr style=\"text-align: right;\">\n",
       "      <th></th>\n",
       "      <th>user_id</th>\n",
       "      <th>distance</th>\n",
       "      <th>duration</th>\n",
       "      <th>date</th>\n",
       "      <th>month_number</th>\n",
       "    </tr>\n",
       "  </thead>\n",
       "  <tbody>\n",
       "    <tr>\n",
       "      <th>0</th>\n",
       "      <td>1</td>\n",
       "      <td>4409.919140</td>\n",
       "      <td>25.599769</td>\n",
       "      <td>2021-01-01</td>\n",
       "      <td>1</td>\n",
       "    </tr>\n",
       "    <tr>\n",
       "      <th>1</th>\n",
       "      <td>1</td>\n",
       "      <td>2617.592153</td>\n",
       "      <td>15.816871</td>\n",
       "      <td>2021-01-18</td>\n",
       "      <td>1</td>\n",
       "    </tr>\n",
       "    <tr>\n",
       "      <th>2</th>\n",
       "      <td>1</td>\n",
       "      <td>754.159807</td>\n",
       "      <td>6.232113</td>\n",
       "      <td>2021-04-20</td>\n",
       "      <td>4</td>\n",
       "    </tr>\n",
       "    <tr>\n",
       "      <th>3</th>\n",
       "      <td>1</td>\n",
       "      <td>2694.783254</td>\n",
       "      <td>18.511000</td>\n",
       "      <td>2021-08-11</td>\n",
       "      <td>8</td>\n",
       "    </tr>\n",
       "    <tr>\n",
       "      <th>4</th>\n",
       "      <td>1</td>\n",
       "      <td>4028.687306</td>\n",
       "      <td>26.265803</td>\n",
       "      <td>2021-08-28</td>\n",
       "      <td>8</td>\n",
       "    </tr>\n",
       "  </tbody>\n",
       "</table>\n",
       "</div>"
      ],
      "text/plain": [
       "   user_id     distance   duration       date  month_number\n",
       "0        1  4409.919140  25.599769 2021-01-01             1\n",
       "1        1  2617.592153  15.816871 2021-01-18             1\n",
       "2        1   754.159807   6.232113 2021-04-20             4\n",
       "3        1  2694.783254  18.511000 2021-08-11             8\n",
       "4        1  4028.687306  26.265803 2021-08-28             8"
      ]
     },
     "execution_count": 4,
     "metadata": {},
     "output_type": "execute_result"
    }
   ],
   "source": [
    "# Создаём новый столбец 'month_number', который будет содержать номер месяца, извлечённый из столбца 'date'\n",
    "df_rides['month_number'] = df_rides['date'].dt.month\n",
    "\n",
    "# Выводим первые строки датафрейма df_rides, чтобы проверить добавление нового столбца\n",
    "df_rides.head()"
   ]
  },
  {
   "cell_type": "markdown",
   "id": "156f745b",
   "metadata": {},
   "source": [
    "2.3 Проверьте наличие пропущенных значений и дубликатов в датафреймах. Обработайте их, если такие значения присутствуют."
   ]
  },
  {
   "cell_type": "code",
   "execution_count": 5,
   "id": "7f24c5bd",
   "metadata": {},
   "outputs": [
    {
     "data": {
      "text/plain": [
       "31"
      ]
     },
     "metadata": {},
     "output_type": "display_data"
    },
    {
     "data": {
      "text/plain": [
       "0"
      ]
     },
     "metadata": {},
     "output_type": "display_data"
    },
    {
     "data": {
      "text/plain": [
       "0"
      ]
     },
     "metadata": {},
     "output_type": "display_data"
    }
   ],
   "source": [
    "# Метод .duplicated() возвращает серию булевых значений, где True — это дубликат. Мы суммируем их, чтобы узнать общее количество дубликатов.\n",
    "display(df_users.duplicated().sum())\n",
    "\n",
    "# Проверяем на наличие дубликатов в датафрейме df_rides\n",
    "display(df_rides.duplicated().sum())\n",
    "\n",
    "# Проверяем на наличие дубликатов в датафрейме df_sub\n",
    "display(df_sub.duplicated().sum()) "
   ]
  },
  {
   "cell_type": "code",
   "execution_count": 6,
   "id": "674f8e27",
   "metadata": {},
   "outputs": [
    {
     "data": {
      "text/plain": [
       "0"
      ]
     },
     "metadata": {},
     "output_type": "display_data"
    }
   ],
   "source": [
    "# Удаляем дубликаты из датафрейма df_users, если они присутствуют\n",
    "df_users = df_users.drop_duplicates()\n",
    "\n",
    "# Проверяем, остались ли дубликаты в датафрейме df_users после удаления\n",
    "display(df_users.duplicated().sum()) "
   ]
  },
  {
   "cell_type": "markdown",
   "id": "e3af2820",
   "metadata": {},
   "source": [
    "**Вывод.** Все типы данных были правильны, кроме стобцы `date` в талице поездок (df_rides). Создал новый столбец с номером месяца на основе столбца date. Проверил наличие дубликатов. Дубликаты присутствовали в таблице пользователей (df_users) в количестве 31 ед. Убрал все дубликаты "
   ]
  },
  {
   "cell_type": "markdown",
   "id": "212593c7",
   "metadata": {},
   "source": [
    "#### Шаг 3. Исследовательский анализ данных"
   ]
  },
  {
   "cell_type": "markdown",
   "id": "ee0909a4",
   "metadata": {},
   "source": [
    "Опишите и визуализируйте общую информацию о пользователях и поездках:\n",
    "\n",
    "3.1 частота встречаемости городов;"
   ]
  },
  {
   "cell_type": "code",
   "execution_count": 29,
   "id": "3daf60b0",
   "metadata": {},
   "outputs": [
    {
     "data": {
      "text/html": [
       "<div>\n",
       "<style scoped>\n",
       "    .dataframe tbody tr th:only-of-type {\n",
       "        vertical-align: middle;\n",
       "    }\n",
       "\n",
       "    .dataframe tbody tr th {\n",
       "        vertical-align: top;\n",
       "    }\n",
       "\n",
       "    .dataframe thead th {\n",
       "        text-align: right;\n",
       "    }\n",
       "</style>\n",
       "<table border=\"1\" class=\"dataframe\">\n",
       "  <thead>\n",
       "    <tr style=\"text-align: right;\">\n",
       "      <th></th>\n",
       "      <th>user_id</th>\n",
       "      <th>percent</th>\n",
       "    </tr>\n",
       "    <tr>\n",
       "      <th>city</th>\n",
       "      <th></th>\n",
       "      <th></th>\n",
       "    </tr>\n",
       "  </thead>\n",
       "  <tbody>\n",
       "    <tr>\n",
       "      <th>Пятигорск</th>\n",
       "      <td>219</td>\n",
       "      <td>14.28</td>\n",
       "    </tr>\n",
       "    <tr>\n",
       "      <th>Екатеринбург</th>\n",
       "      <td>204</td>\n",
       "      <td>13.30</td>\n",
       "    </tr>\n",
       "    <tr>\n",
       "      <th>Ростов-на-Дону</th>\n",
       "      <td>198</td>\n",
       "      <td>12.91</td>\n",
       "    </tr>\n",
       "    <tr>\n",
       "      <th>Краснодар</th>\n",
       "      <td>193</td>\n",
       "      <td>12.58</td>\n",
       "    </tr>\n",
       "    <tr>\n",
       "      <th>Сочи</th>\n",
       "      <td>189</td>\n",
       "      <td>12.32</td>\n",
       "    </tr>\n",
       "    <tr>\n",
       "      <th>Омск</th>\n",
       "      <td>183</td>\n",
       "      <td>11.93</td>\n",
       "    </tr>\n",
       "    <tr>\n",
       "      <th>Тюмень</th>\n",
       "      <td>180</td>\n",
       "      <td>11.73</td>\n",
       "    </tr>\n",
       "    <tr>\n",
       "      <th>Москва</th>\n",
       "      <td>168</td>\n",
       "      <td>10.95</td>\n",
       "    </tr>\n",
       "  </tbody>\n",
       "</table>\n",
       "</div>"
      ],
      "text/plain": [
       "                user_id  percent\n",
       "city                            \n",
       "Пятигорск           219    14.28\n",
       "Екатеринбург        204    13.30\n",
       "Ростов-на-Дону      198    12.91\n",
       "Краснодар           193    12.58\n",
       "Сочи                189    12.32\n",
       "Омск                183    11.93\n",
       "Тюмень              180    11.73\n",
       "Москва              168    10.95"
      ]
     },
     "metadata": {},
     "output_type": "display_data"
    },
    {
     "data": {
      "image/png": "[encoded data removed]",
      "text/plain": [
       "<Figure size 1000x500 with 1 Axes>"
      ]
     },
     "metadata": {},
     "output_type": "display_data"
    }
   ],
   "source": [
    "# Создаём сводную таблицу для подсчёта количества пользователей по каждому городу\n",
    "df_users_city = df_users.pivot_table(index='city',  # Индексируем по столбцу 'city'\n",
    "                                     values='user_id',  # Используем столбец 'user_id' для подсчёта\n",
    "                                     aggfunc='count')  # Аггрегируем, считая количество уникальных пользователей\n",
    "# Сортируем города по количеству пользователей (по убыванию)\n",
    "df_users_city = df_users_city.sort_values(by='user_id', ascending=False)\n",
    "\n",
    "# Рассчитываем процентное соотношение количества пользователей по каждому городу\n",
    "df_users_city['percent'] = (100 * df_users_city['user_id'] / df_users_city['user_id'].sum()).round(2)\n",
    "\n",
    "# Отображаем таблицу с количеством пользователей и процентным распределением\n",
    "display(df_users_city)\n",
    "\n",
    "# Строим столбчатую диаграмму для визуализации частоты встречаемости городов\n",
    "df_users_city.plot(kind='bar', grid=True, figsize=(10, 5))\n",
    "\n",
    "# Добавляем заголовок и подписи осей\n",
    "plt.title('Частота встречаемости городов')\n",
    "plt.xlabel('Города')\n",
    "plt.ylabel('Количество записей по городам')\n",
    "\n",
    "# Добавляем легенду с соответствующими метками\n",
    "plt.legend(title='Показатели', labels=['Количество пользователей', 'Процент'])\n",
    "\n",
    "# Отображаем график\n",
    "plt.show()"
   ]
  },
  {
   "cell_type": "markdown",
   "id": "a9f14c54",
   "metadata": {},
   "source": [
    "**Вывод.**\n",
    "В таблице всего 8 городов из которых в топ-3 входят Пятигорск (14.3%), Екатеринбург (13.3%) и Ростов-на-Дону (12.91%)"
   ]
  },
  {
   "cell_type": "markdown",
   "id": "c09d986b",
   "metadata": {},
   "source": [
    "3.2 соотношение пользователей с подпиской и без подписки;"
   ]
  },
  {
   "cell_type": "code",
   "execution_count": 8,
   "id": "dd1757c1",
   "metadata": {},
   "outputs": [
    {
     "data": {
      "text/html": [
       "<div>\n",
       "<style scoped>\n",
       "    .dataframe tbody tr th:only-of-type {\n",
       "        vertical-align: middle;\n",
       "    }\n",
       "\n",
       "    .dataframe tbody tr th {\n",
       "        vertical-align: top;\n",
       "    }\n",
       "\n",
       "    .dataframe thead th {\n",
       "        text-align: right;\n",
       "    }\n",
       "</style>\n",
       "<table border=\"1\" class=\"dataframe\">\n",
       "  <thead>\n",
       "    <tr style=\"text-align: right;\">\n",
       "      <th></th>\n",
       "      <th>user_id</th>\n",
       "      <th>percent</th>\n",
       "    </tr>\n",
       "    <tr>\n",
       "      <th>subscription_type</th>\n",
       "      <th></th>\n",
       "      <th></th>\n",
       "    </tr>\n",
       "  </thead>\n",
       "  <tbody>\n",
       "    <tr>\n",
       "      <th>free</th>\n",
       "      <td>835</td>\n",
       "      <td>54.43</td>\n",
       "    </tr>\n",
       "    <tr>\n",
       "      <th>ultra</th>\n",
       "      <td>699</td>\n",
       "      <td>45.57</td>\n",
       "    </tr>\n",
       "  </tbody>\n",
       "</table>\n",
       "</div>"
      ],
      "text/plain": [
       "                   user_id  percent\n",
       "subscription_type                  \n",
       "free                   835    54.43\n",
       "ultra                  699    45.57"
      ]
     },
     "metadata": {},
     "output_type": "display_data"
    },
    {
     "data": {
      "image/png": "[encoded data removed]",
      "text/plain": [
       "<Figure size 500x500 with 1 Axes>"
      ]
     },
     "metadata": {},
     "output_type": "display_data"
    }
   ],
   "source": [
    "# Создаём сводную таблицу для подсчёта количества пользователей по типу подписки\n",
    "df_users_sub = df_users.pivot_table(index='subscription_type',  # Индексируем по типу подписки\n",
    "                                    values='user_id',  # Используем столбец 'user_id' для подсчёта\n",
    "                                    aggfunc='count')  # Аггрегируем, считая количество пользователей\n",
    "# Сортируем по количеству пользователей (по убыванию)\n",
    "df_users_sub = df_users_sub.sort_values(by='user_id', ascending=False)\n",
    "\n",
    "# Рассчитываем процентное соотношение пользователей по каждому типу подписки\n",
    "df_users_sub['percent'] = (100 * df_users_sub['user_id'] / df_users_sub['user_id'].sum()).round(2)\n",
    "\n",
    "# Создаём отдельную переменную с процентами для дальнейшей визуализации\n",
    "df_users_sub_per = (100 * df_users_sub['user_id'] / df_users_sub['user_id'].sum()).round(2)\n",
    "\n",
    "# Отображаем таблицу с количеством пользователей и процентным распределением\n",
    "display(df_users_sub)\n",
    "\n",
    "# Строим круговую диаграмму для визуализации соотношения пользователей с подпиской и без\n",
    "df_users_sub_per.plot(kind='pie', grid=True, figsize=(5, 5), autopct='%1.1f%%', labels=df_users_sub.index)\n",
    "\n",
    "# Добавляем заголовок графика\n",
    "plt.title('Соотношение пользователей с подпиской и без подписки')\n",
    "\n",
    "# Отображаем график\n",
    "plt.show()"
   ]
  },
  {
   "cell_type": "markdown",
   "id": "9b114311",
   "metadata": {},
   "source": [
    "**Вывод.** Бесплатные - подписки 54.43%, платные - 45.57%"
   ]
  },
  {
   "cell_type": "markdown",
   "id": "d304df60",
   "metadata": {},
   "source": [
    "3.3 возраст пользователей;"
   ]
  },
  {
   "cell_type": "code",
   "execution_count": 9,
   "id": "ca51b466",
   "metadata": {},
   "outputs": [
    {
     "data": {
      "text/plain": [
       "age\n",
       "25    145\n",
       "24    132\n",
       "26    131\n",
       "23    129\n",
       "22    119\n",
       "27    119\n",
       "28    112\n",
       "21     93\n",
       "20     71\n",
       "30     68\n",
       "29     68\n",
       "31     48\n",
       "19     47\n",
       "18     46\n",
       "32     41\n",
       "33     39\n",
       "17     26\n",
       "16     19\n",
       "34     19\n",
       "35     15\n",
       "15     13\n",
       "14      9\n",
       "13      8\n",
       "36      6\n",
       "12      4\n",
       "38      3\n",
       "37      2\n",
       "39      1\n",
       "43      1\n",
       "Name: count, dtype: int64"
      ]
     },
     "metadata": {},
     "output_type": "display_data"
    },
    {
     "data": {
      "text/plain": [
       "count    1534.000000\n",
       "mean       24.903520\n",
       "std         4.572367\n",
       "min        12.000000\n",
       "25%        22.000000\n",
       "50%        25.000000\n",
       "75%        28.000000\n",
       "max        43.000000\n",
       "Name: age, dtype: float64"
      ]
     },
     "metadata": {},
     "output_type": "display_data"
    },
    {
     "data": {
      "image/png": "[encoded data removed]",
      "text/plain": [
       "<Figure size 800x600 with 1 Axes>"
      ]
     },
     "metadata": {},
     "output_type": "display_data"
    }
   ],
   "source": [
    "# Выводим количество пользователей по каждому возрасту (считаем уникальные значения возраста)\n",
    "display(df_users['age'].value_counts())\n",
    "\n",
    "# Выводим статистическое описание возрастов (среднее, стандартное отклонение, минимальное, максимальное значения и т.д.)\n",
    "display(df_users['age'].describe())\n",
    "\n",
    "# Строим гистограмму для отображения распределения возраста пользователей\n",
    "plt.figure(figsize=(8, 6))  # Устанавливаем размер графика\n",
    "plt.hist(df_users['age'], bins=50, label='Возраст пользователей')  # Создаём гистограмму с 50 корзинами (bins)\n",
    "\n",
    "# Добавляем заголовок и подписи осей\n",
    "plt.title('Количество пользователей по возрасту')\n",
    "plt.xlabel('Возраст пользователей')\n",
    "plt.ylabel('Количество пользователей')\n",
    "\n",
    "# Добавляем легенду\n",
    "plt.legend(loc='upper right')  \n",
    "\n",
    "# Отображаем график\n",
    "plt.show()"
   ]
  },
  {
   "cell_type": "markdown",
   "id": "f93605a1",
   "metadata": {},
   "source": [
    "**Вывод.** Возраст пользователей разные и  варьируется 12 - 43 лет. Возраст самых частых пользователей находиться в отрезке 22 - 28 лет. в ТОП-3, 25, 24, 26 летные пользователи "
   ]
  },
  {
   "cell_type": "markdown",
   "id": "6c0256a2",
   "metadata": {},
   "source": [
    "3.4 расстояние, которое пользователь преодолел за одну поездку;"
   ]
  },
  {
   "cell_type": "code",
   "execution_count": 10,
   "id": "37675b1e",
   "metadata": {},
   "outputs": [
    {
     "data": {
      "text/plain": [
       "count    18068.000000\n",
       "mean      3070.659992\n",
       "std       1116.831222\n",
       "min          0.860000\n",
       "25%       2543.227500\n",
       "50%       3133.610000\n",
       "75%       3776.220000\n",
       "max       7211.010000\n",
       "Name: distance, dtype: float64"
      ]
     },
     "metadata": {},
     "output_type": "display_data"
    },
    {
     "data": {
      "image/png": "[encoded data removed]",
      "text/plain": [
       "<Figure size 640x480 with 1 Axes>"
      ]
     },
     "metadata": {},
     "output_type": "display_data"
    }
   ],
   "source": [
    "# Округляем значения расстояния до двух знаков после запятой для улучшения точности\n",
    "df_rides['distance'] = df_rides['distance'].round(2)\n",
    "\n",
    "# Выводим статистическое описание расстояний (среднее, стандартное отклонение, минимальное, максимальное значения и т.д.)\n",
    "display(df_rides['distance'].describe())\n",
    "\n",
    "# Строим боксплот для визуализации распределения расстояний\n",
    "df_rides.boxplot(column='distance')\n",
    "\n",
    "# Ограничиваем ось Y от 0 до 8000, чтобы лучше видно было распределение данных\n",
    "plt.ylim(0, 8000)\n",
    "\n",
    "# Отображаем график\n",
    "plt.show()"
   ]
  },
  {
   "cell_type": "markdown",
   "id": "c3801743",
   "metadata": {},
   "source": [
    "**Вывод.** Расстояние которое пользователи преодолели за одну поездку составляет в среднем 3070 м, медиана 3133м. Минимальное значение не будет и 1-го метра, что является выбросами, максимальное 7211 м, что тоже является выбросами, так как подобных случаев очень мало! Чаще всего поездки в отрезке от 2543 м - до 3776м "
   ]
  },
  {
   "cell_type": "markdown",
   "id": "c373e425",
   "metadata": {},
   "source": [
    "3.5 продолжительность поездок."
   ]
  },
  {
   "cell_type": "code",
   "execution_count": 11,
   "id": "c0b614c7",
   "metadata": {},
   "outputs": [
    {
     "data": {
      "text/plain": [
       "count    18068.000000\n",
       "mean        17.805017\n",
       "std          6.091071\n",
       "min          0.500000\n",
       "25%         13.600000\n",
       "50%         17.680000\n",
       "75%         21.722500\n",
       "max         40.820000\n",
       "Name: duration, dtype: float64"
      ]
     },
     "metadata": {},
     "output_type": "display_data"
    },
    {
     "data": {
      "image/png": "[encoded data removed]",
      "text/plain": [
       "<Figure size 800x600 with 1 Axes>"
      ]
     },
     "metadata": {},
     "output_type": "display_data"
    }
   ],
   "source": [
    "# Округляем значения продолжительности поездок до двух знаков после запятой\n",
    "df_rides['duration'] = df_rides['duration'].round(2)\n",
    "\n",
    "# Выводим статистическое описание продолжительности поездок (среднее, стандартное отклонение, минимальное, максимальное значения и т.д.)\n",
    "display(df_rides['duration'].describe())\n",
    "\n",
    "# Строим гистограмму для отображения распределения продолжительности поездок\n",
    "plt.figure(figsize=(8, 6))  # Устанавливаем размер графика\n",
    "plt.hist(df_rides['duration'], bins=50, label='Продолжительность поездок в зависимости от времени')  # Создаём гистограмму с 50 корзинами (bins)\n",
    "\n",
    "# Добавляем заголовок и подписи осей\n",
    "plt.title('Продолжительность поездок')\n",
    "plt.xlabel('Время, мин')\n",
    "plt.ylabel('Количество поездок')\n",
    "\n",
    "# Добавляем легенду\n",
    "plt.legend(loc='upper right')  \n",
    "\n",
    "# Отображаем график\n",
    "plt.show()"
   ]
  },
  {
   "cell_type": "markdown",
   "id": "9710b958",
   "metadata": {},
   "source": [
    "**Вывод.** Продолжительность в минутах. Средняя и медиана почти одинакова, по 17,7 минут, почти 18 минут. По гистограмме видно, что даипазон времени поездки входят от 10 мин до 25 мин. В остальные продолжительности поездки были либо меньшими либо большими, т.е. выбросами. "
   ]
  },
  {
   "cell_type": "markdown",
   "id": "4ef51331",
   "metadata": {},
   "source": [
    "#### Шаг 4. Объединение данных"
   ]
  },
  {
   "cell_type": "markdown",
   "id": "3efd18f9",
   "metadata": {},
   "source": [
    "4.1 Объедините данные о пользователях, поездках и подписках в один датафрейм. Для этого воспользуйтесь методом `merge()`."
   ]
  },
  {
   "cell_type": "code",
   "execution_count": 12,
   "id": "49d368e8",
   "metadata": {},
   "outputs": [
    {
     "data": {
      "text/html": [
       "<div>\n",
       "<style scoped>\n",
       "    .dataframe tbody tr th:only-of-type {\n",
       "        vertical-align: middle;\n",
       "    }\n",
       "\n",
       "    .dataframe tbody tr th {\n",
       "        vertical-align: top;\n",
       "    }\n",
       "\n",
       "    .dataframe thead th {\n",
       "        text-align: right;\n",
       "    }\n",
       "</style>\n",
       "<table border=\"1\" class=\"dataframe\">\n",
       "  <thead>\n",
       "    <tr style=\"text-align: right;\">\n",
       "      <th></th>\n",
       "      <th>user_id</th>\n",
       "      <th>name</th>\n",
       "      <th>age</th>\n",
       "      <th>city</th>\n",
       "      <th>subscription_type</th>\n",
       "      <th>distance</th>\n",
       "      <th>duration</th>\n",
       "      <th>date</th>\n",
       "      <th>month_number</th>\n",
       "      <th>minute_price</th>\n",
       "      <th>start_ride_price</th>\n",
       "      <th>subscription_fee</th>\n",
       "    </tr>\n",
       "  </thead>\n",
       "  <tbody>\n",
       "    <tr>\n",
       "      <th>0</th>\n",
       "      <td>1</td>\n",
       "      <td>Кира</td>\n",
       "      <td>22</td>\n",
       "      <td>Тюмень</td>\n",
       "      <td>ultra</td>\n",
       "      <td>4409.92</td>\n",
       "      <td>25.60</td>\n",
       "      <td>2021-01-01</td>\n",
       "      <td>1</td>\n",
       "      <td>6</td>\n",
       "      <td>0</td>\n",
       "      <td>199</td>\n",
       "    </tr>\n",
       "    <tr>\n",
       "      <th>1</th>\n",
       "      <td>1</td>\n",
       "      <td>Кира</td>\n",
       "      <td>22</td>\n",
       "      <td>Тюмень</td>\n",
       "      <td>ultra</td>\n",
       "      <td>2617.59</td>\n",
       "      <td>15.82</td>\n",
       "      <td>2021-01-18</td>\n",
       "      <td>1</td>\n",
       "      <td>6</td>\n",
       "      <td>0</td>\n",
       "      <td>199</td>\n",
       "    </tr>\n",
       "    <tr>\n",
       "      <th>2</th>\n",
       "      <td>1</td>\n",
       "      <td>Кира</td>\n",
       "      <td>22</td>\n",
       "      <td>Тюмень</td>\n",
       "      <td>ultra</td>\n",
       "      <td>754.16</td>\n",
       "      <td>6.23</td>\n",
       "      <td>2021-04-20</td>\n",
       "      <td>4</td>\n",
       "      <td>6</td>\n",
       "      <td>0</td>\n",
       "      <td>199</td>\n",
       "    </tr>\n",
       "    <tr>\n",
       "      <th>3</th>\n",
       "      <td>1</td>\n",
       "      <td>Кира</td>\n",
       "      <td>22</td>\n",
       "      <td>Тюмень</td>\n",
       "      <td>ultra</td>\n",
       "      <td>2694.78</td>\n",
       "      <td>18.51</td>\n",
       "      <td>2021-08-11</td>\n",
       "      <td>8</td>\n",
       "      <td>6</td>\n",
       "      <td>0</td>\n",
       "      <td>199</td>\n",
       "    </tr>\n",
       "    <tr>\n",
       "      <th>4</th>\n",
       "      <td>1</td>\n",
       "      <td>Кира</td>\n",
       "      <td>22</td>\n",
       "      <td>Тюмень</td>\n",
       "      <td>ultra</td>\n",
       "      <td>4028.69</td>\n",
       "      <td>26.27</td>\n",
       "      <td>2021-08-28</td>\n",
       "      <td>8</td>\n",
       "      <td>6</td>\n",
       "      <td>0</td>\n",
       "      <td>199</td>\n",
       "    </tr>\n",
       "    <tr>\n",
       "      <th>...</th>\n",
       "      <td>...</td>\n",
       "      <td>...</td>\n",
       "      <td>...</td>\n",
       "      <td>...</td>\n",
       "      <td>...</td>\n",
       "      <td>...</td>\n",
       "      <td>...</td>\n",
       "      <td>...</td>\n",
       "      <td>...</td>\n",
       "      <td>...</td>\n",
       "      <td>...</td>\n",
       "      <td>...</td>\n",
       "    </tr>\n",
       "    <tr>\n",
       "      <th>18063</th>\n",
       "      <td>1534</td>\n",
       "      <td>Альберт</td>\n",
       "      <td>25</td>\n",
       "      <td>Краснодар</td>\n",
       "      <td>free</td>\n",
       "      <td>3781.10</td>\n",
       "      <td>19.82</td>\n",
       "      <td>2021-11-04</td>\n",
       "      <td>11</td>\n",
       "      <td>8</td>\n",
       "      <td>50</td>\n",
       "      <td>0</td>\n",
       "    </tr>\n",
       "    <tr>\n",
       "      <th>18064</th>\n",
       "      <td>1534</td>\n",
       "      <td>Альберт</td>\n",
       "      <td>25</td>\n",
       "      <td>Краснодар</td>\n",
       "      <td>free</td>\n",
       "      <td>2840.42</td>\n",
       "      <td>21.41</td>\n",
       "      <td>2021-11-16</td>\n",
       "      <td>11</td>\n",
       "      <td>8</td>\n",
       "      <td>50</td>\n",
       "      <td>0</td>\n",
       "    </tr>\n",
       "    <tr>\n",
       "      <th>18065</th>\n",
       "      <td>1534</td>\n",
       "      <td>Альберт</td>\n",
       "      <td>25</td>\n",
       "      <td>Краснодар</td>\n",
       "      <td>free</td>\n",
       "      <td>3826.19</td>\n",
       "      <td>18.44</td>\n",
       "      <td>2021-11-18</td>\n",
       "      <td>11</td>\n",
       "      <td>8</td>\n",
       "      <td>50</td>\n",
       "      <td>0</td>\n",
       "    </tr>\n",
       "    <tr>\n",
       "      <th>18066</th>\n",
       "      <td>1534</td>\n",
       "      <td>Альберт</td>\n",
       "      <td>25</td>\n",
       "      <td>Краснодар</td>\n",
       "      <td>free</td>\n",
       "      <td>2902.31</td>\n",
       "      <td>16.67</td>\n",
       "      <td>2021-11-27</td>\n",
       "      <td>11</td>\n",
       "      <td>8</td>\n",
       "      <td>50</td>\n",
       "      <td>0</td>\n",
       "    </tr>\n",
       "    <tr>\n",
       "      <th>18067</th>\n",
       "      <td>1534</td>\n",
       "      <td>Альберт</td>\n",
       "      <td>25</td>\n",
       "      <td>Краснодар</td>\n",
       "      <td>free</td>\n",
       "      <td>2371.71</td>\n",
       "      <td>15.89</td>\n",
       "      <td>2021-12-29</td>\n",
       "      <td>12</td>\n",
       "      <td>8</td>\n",
       "      <td>50</td>\n",
       "      <td>0</td>\n",
       "    </tr>\n",
       "  </tbody>\n",
       "</table>\n",
       "<p>18068 rows × 12 columns</p>\n",
       "</div>"
      ],
      "text/plain": [
       "       user_id     name  age       city subscription_type  distance  duration  \\\n",
       "0            1     Кира   22     Тюмень             ultra   4409.92     25.60   \n",
       "1            1     Кира   22     Тюмень             ultra   2617.59     15.82   \n",
       "2            1     Кира   22     Тюмень             ultra    754.16      6.23   \n",
       "3            1     Кира   22     Тюмень             ultra   2694.78     18.51   \n",
       "4            1     Кира   22     Тюмень             ultra   4028.69     26.27   \n",
       "...        ...      ...  ...        ...               ...       ...       ...   \n",
       "18063     1534  Альберт   25  Краснодар              free   3781.10     19.82   \n",
       "18064     1534  Альберт   25  Краснодар              free   2840.42     21.41   \n",
       "18065     1534  Альберт   25  Краснодар              free   3826.19     18.44   \n",
       "18066     1534  Альберт   25  Краснодар              free   2902.31     16.67   \n",
       "18067     1534  Альберт   25  Краснодар              free   2371.71     15.89   \n",
       "\n",
       "            date  month_number  minute_price  start_ride_price  \\\n",
       "0     2021-01-01             1             6                 0   \n",
       "1     2021-01-18             1             6                 0   \n",
       "2     2021-04-20             4             6                 0   \n",
       "3     2021-08-11             8             6                 0   \n",
       "4     2021-08-28             8             6                 0   \n",
       "...          ...           ...           ...               ...   \n",
       "18063 2021-11-04            11             8                50   \n",
       "18064 2021-11-16            11             8                50   \n",
       "18065 2021-11-18            11             8                50   \n",
       "18066 2021-11-27            11             8                50   \n",
       "18067 2021-12-29            12             8                50   \n",
       "\n",
       "       subscription_fee  \n",
       "0                   199  \n",
       "1                   199  \n",
       "2                   199  \n",
       "3                   199  \n",
       "4                   199  \n",
       "...                 ...  \n",
       "18063                 0  \n",
       "18064                 0  \n",
       "18065                 0  \n",
       "18066                 0  \n",
       "18067                 0  \n",
       "\n",
       "[18068 rows x 12 columns]"
      ]
     },
     "execution_count": 12,
     "metadata": {},
     "output_type": "execute_result"
    }
   ],
   "source": [
    "# Объединяем данные о пользователях (df_users) с данными о поездках (df_rides) по общему столбцу 'user_id'\n",
    "df_1 = df_users.merge(df_rides, on='user_id')\n",
    "\n",
    "# Далее объединяем df_1 (объединённые пользователи и поездки) с данными о подписках (df_sub) по столбцу 'subscription_type'\n",
    "df_2 = df_1.merge(df_sub, on='subscription_type')\n",
    "\n",
    "# Отображаем итоговый датафрейм df_2, который содержит информацию о пользователях, их поездках и подписках\n",
    "df_2"
   ]
  },
  {
   "cell_type": "markdown",
   "id": "4f2c4653",
   "metadata": {},
   "source": [
    "4.2 Создайте ещё два датафрейма из датафрейма, созданного на этапе 4.1:\n",
    "- c данными о пользователях без подписки;\n",
    "- с данными о пользователях с подпиской."
   ]
  },
  {
   "cell_type": "code",
   "execution_count": 13,
   "id": "1f62a4b8",
   "metadata": {},
   "outputs": [
    {
     "data": {
      "text/html": [
       "<div>\n",
       "<style scoped>\n",
       "    .dataframe tbody tr th:only-of-type {\n",
       "        vertical-align: middle;\n",
       "    }\n",
       "\n",
       "    .dataframe tbody tr th {\n",
       "        vertical-align: top;\n",
       "    }\n",
       "\n",
       "    .dataframe thead th {\n",
       "        text-align: right;\n",
       "    }\n",
       "</style>\n",
       "<table border=\"1\" class=\"dataframe\">\n",
       "  <thead>\n",
       "    <tr style=\"text-align: right;\">\n",
       "      <th></th>\n",
       "      <th>user_id</th>\n",
       "      <th>name</th>\n",
       "      <th>age</th>\n",
       "      <th>city</th>\n",
       "      <th>subscription_type</th>\n",
       "      <th>distance</th>\n",
       "      <th>duration</th>\n",
       "      <th>date</th>\n",
       "      <th>month_number</th>\n",
       "      <th>minute_price</th>\n",
       "      <th>start_ride_price</th>\n",
       "      <th>subscription_fee</th>\n",
       "    </tr>\n",
       "  </thead>\n",
       "  <tbody>\n",
       "    <tr>\n",
       "      <th>6500</th>\n",
       "      <td>700</td>\n",
       "      <td>Айдар</td>\n",
       "      <td>22</td>\n",
       "      <td>Омск</td>\n",
       "      <td>free</td>\n",
       "      <td>2515.69</td>\n",
       "      <td>14.94</td>\n",
       "      <td>2021-01-02</td>\n",
       "      <td>1</td>\n",
       "      <td>8</td>\n",
       "      <td>50</td>\n",
       "      <td>0</td>\n",
       "    </tr>\n",
       "    <tr>\n",
       "      <th>6501</th>\n",
       "      <td>700</td>\n",
       "      <td>Айдар</td>\n",
       "      <td>22</td>\n",
       "      <td>Омск</td>\n",
       "      <td>free</td>\n",
       "      <td>846.93</td>\n",
       "      <td>16.23</td>\n",
       "      <td>2021-02-01</td>\n",
       "      <td>2</td>\n",
       "      <td>8</td>\n",
       "      <td>50</td>\n",
       "      <td>0</td>\n",
       "    </tr>\n",
       "    <tr>\n",
       "      <th>6502</th>\n",
       "      <td>700</td>\n",
       "      <td>Айдар</td>\n",
       "      <td>22</td>\n",
       "      <td>Омск</td>\n",
       "      <td>free</td>\n",
       "      <td>4004.43</td>\n",
       "      <td>20.02</td>\n",
       "      <td>2021-02-04</td>\n",
       "      <td>2</td>\n",
       "      <td>8</td>\n",
       "      <td>50</td>\n",
       "      <td>0</td>\n",
       "    </tr>\n",
       "    <tr>\n",
       "      <th>6503</th>\n",
       "      <td>700</td>\n",
       "      <td>Айдар</td>\n",
       "      <td>22</td>\n",
       "      <td>Омск</td>\n",
       "      <td>free</td>\n",
       "      <td>1205.91</td>\n",
       "      <td>9.78</td>\n",
       "      <td>2021-02-10</td>\n",
       "      <td>2</td>\n",
       "      <td>8</td>\n",
       "      <td>50</td>\n",
       "      <td>0</td>\n",
       "    </tr>\n",
       "    <tr>\n",
       "      <th>6504</th>\n",
       "      <td>700</td>\n",
       "      <td>Айдар</td>\n",
       "      <td>22</td>\n",
       "      <td>Омск</td>\n",
       "      <td>free</td>\n",
       "      <td>3047.38</td>\n",
       "      <td>17.43</td>\n",
       "      <td>2021-02-14</td>\n",
       "      <td>2</td>\n",
       "      <td>8</td>\n",
       "      <td>50</td>\n",
       "      <td>0</td>\n",
       "    </tr>\n",
       "    <tr>\n",
       "      <th>...</th>\n",
       "      <td>...</td>\n",
       "      <td>...</td>\n",
       "      <td>...</td>\n",
       "      <td>...</td>\n",
       "      <td>...</td>\n",
       "      <td>...</td>\n",
       "      <td>...</td>\n",
       "      <td>...</td>\n",
       "      <td>...</td>\n",
       "      <td>...</td>\n",
       "      <td>...</td>\n",
       "      <td>...</td>\n",
       "    </tr>\n",
       "    <tr>\n",
       "      <th>18063</th>\n",
       "      <td>1534</td>\n",
       "      <td>Альберт</td>\n",
       "      <td>25</td>\n",
       "      <td>Краснодар</td>\n",
       "      <td>free</td>\n",
       "      <td>3781.10</td>\n",
       "      <td>19.82</td>\n",
       "      <td>2021-11-04</td>\n",
       "      <td>11</td>\n",
       "      <td>8</td>\n",
       "      <td>50</td>\n",
       "      <td>0</td>\n",
       "    </tr>\n",
       "    <tr>\n",
       "      <th>18064</th>\n",
       "      <td>1534</td>\n",
       "      <td>Альберт</td>\n",
       "      <td>25</td>\n",
       "      <td>Краснодар</td>\n",
       "      <td>free</td>\n",
       "      <td>2840.42</td>\n",
       "      <td>21.41</td>\n",
       "      <td>2021-11-16</td>\n",
       "      <td>11</td>\n",
       "      <td>8</td>\n",
       "      <td>50</td>\n",
       "      <td>0</td>\n",
       "    </tr>\n",
       "    <tr>\n",
       "      <th>18065</th>\n",
       "      <td>1534</td>\n",
       "      <td>Альберт</td>\n",
       "      <td>25</td>\n",
       "      <td>Краснодар</td>\n",
       "      <td>free</td>\n",
       "      <td>3826.19</td>\n",
       "      <td>18.44</td>\n",
       "      <td>2021-11-18</td>\n",
       "      <td>11</td>\n",
       "      <td>8</td>\n",
       "      <td>50</td>\n",
       "      <td>0</td>\n",
       "    </tr>\n",
       "    <tr>\n",
       "      <th>18066</th>\n",
       "      <td>1534</td>\n",
       "      <td>Альберт</td>\n",
       "      <td>25</td>\n",
       "      <td>Краснодар</td>\n",
       "      <td>free</td>\n",
       "      <td>2902.31</td>\n",
       "      <td>16.67</td>\n",
       "      <td>2021-11-27</td>\n",
       "      <td>11</td>\n",
       "      <td>8</td>\n",
       "      <td>50</td>\n",
       "      <td>0</td>\n",
       "    </tr>\n",
       "    <tr>\n",
       "      <th>18067</th>\n",
       "      <td>1534</td>\n",
       "      <td>Альберт</td>\n",
       "      <td>25</td>\n",
       "      <td>Краснодар</td>\n",
       "      <td>free</td>\n",
       "      <td>2371.71</td>\n",
       "      <td>15.89</td>\n",
       "      <td>2021-12-29</td>\n",
       "      <td>12</td>\n",
       "      <td>8</td>\n",
       "      <td>50</td>\n",
       "      <td>0</td>\n",
       "    </tr>\n",
       "  </tbody>\n",
       "</table>\n",
       "<p>11568 rows × 12 columns</p>\n",
       "</div>"
      ],
      "text/plain": [
       "       user_id     name  age       city subscription_type  distance  duration  \\\n",
       "6500       700    Айдар   22       Омск              free   2515.69     14.94   \n",
       "6501       700    Айдар   22       Омск              free    846.93     16.23   \n",
       "6502       700    Айдар   22       Омск              free   4004.43     20.02   \n",
       "6503       700    Айдар   22       Омск              free   1205.91      9.78   \n",
       "6504       700    Айдар   22       Омск              free   3047.38     17.43   \n",
       "...        ...      ...  ...        ...               ...       ...       ...   \n",
       "18063     1534  Альберт   25  Краснодар              free   3781.10     19.82   \n",
       "18064     1534  Альберт   25  Краснодар              free   2840.42     21.41   \n",
       "18065     1534  Альберт   25  Краснодар              free   3826.19     18.44   \n",
       "18066     1534  Альберт   25  Краснодар              free   2902.31     16.67   \n",
       "18067     1534  Альберт   25  Краснодар              free   2371.71     15.89   \n",
       "\n",
       "            date  month_number  minute_price  start_ride_price  \\\n",
       "6500  2021-01-02             1             8                50   \n",
       "6501  2021-02-01             2             8                50   \n",
       "6502  2021-02-04             2             8                50   \n",
       "6503  2021-02-10             2             8                50   \n",
       "6504  2021-02-14             2             8                50   \n",
       "...          ...           ...           ...               ...   \n",
       "18063 2021-11-04            11             8                50   \n",
       "18064 2021-11-16            11             8                50   \n",
       "18065 2021-11-18            11             8                50   \n",
       "18066 2021-11-27            11             8                50   \n",
       "18067 2021-12-29            12             8                50   \n",
       "\n",
       "       subscription_fee  \n",
       "6500                  0  \n",
       "6501                  0  \n",
       "6502                  0  \n",
       "6503                  0  \n",
       "6504                  0  \n",
       "...                 ...  \n",
       "18063                 0  \n",
       "18064                 0  \n",
       "18065                 0  \n",
       "18066                 0  \n",
       "18067                 0  \n",
       "\n",
       "[11568 rows x 12 columns]"
      ]
     },
     "metadata": {},
     "output_type": "display_data"
    },
    {
     "data": {
      "text/html": [
       "<div>\n",
       "<style scoped>\n",
       "    .dataframe tbody tr th:only-of-type {\n",
       "        vertical-align: middle;\n",
       "    }\n",
       "\n",
       "    .dataframe tbody tr th {\n",
       "        vertical-align: top;\n",
       "    }\n",
       "\n",
       "    .dataframe thead th {\n",
       "        text-align: right;\n",
       "    }\n",
       "</style>\n",
       "<table border=\"1\" class=\"dataframe\">\n",
       "  <thead>\n",
       "    <tr style=\"text-align: right;\">\n",
       "      <th></th>\n",
       "      <th>user_id</th>\n",
       "      <th>name</th>\n",
       "      <th>age</th>\n",
       "      <th>city</th>\n",
       "      <th>subscription_type</th>\n",
       "      <th>distance</th>\n",
       "      <th>duration</th>\n",
       "      <th>date</th>\n",
       "      <th>month_number</th>\n",
       "      <th>minute_price</th>\n",
       "      <th>start_ride_price</th>\n",
       "      <th>subscription_fee</th>\n",
       "    </tr>\n",
       "  </thead>\n",
       "  <tbody>\n",
       "    <tr>\n",
       "      <th>0</th>\n",
       "      <td>1</td>\n",
       "      <td>Кира</td>\n",
       "      <td>22</td>\n",
       "      <td>Тюмень</td>\n",
       "      <td>ultra</td>\n",
       "      <td>4409.92</td>\n",
       "      <td>25.60</td>\n",
       "      <td>2021-01-01</td>\n",
       "      <td>1</td>\n",
       "      <td>6</td>\n",
       "      <td>0</td>\n",
       "      <td>199</td>\n",
       "    </tr>\n",
       "    <tr>\n",
       "      <th>1</th>\n",
       "      <td>1</td>\n",
       "      <td>Кира</td>\n",
       "      <td>22</td>\n",
       "      <td>Тюмень</td>\n",
       "      <td>ultra</td>\n",
       "      <td>2617.59</td>\n",
       "      <td>15.82</td>\n",
       "      <td>2021-01-18</td>\n",
       "      <td>1</td>\n",
       "      <td>6</td>\n",
       "      <td>0</td>\n",
       "      <td>199</td>\n",
       "    </tr>\n",
       "    <tr>\n",
       "      <th>2</th>\n",
       "      <td>1</td>\n",
       "      <td>Кира</td>\n",
       "      <td>22</td>\n",
       "      <td>Тюмень</td>\n",
       "      <td>ultra</td>\n",
       "      <td>754.16</td>\n",
       "      <td>6.23</td>\n",
       "      <td>2021-04-20</td>\n",
       "      <td>4</td>\n",
       "      <td>6</td>\n",
       "      <td>0</td>\n",
       "      <td>199</td>\n",
       "    </tr>\n",
       "    <tr>\n",
       "      <th>3</th>\n",
       "      <td>1</td>\n",
       "      <td>Кира</td>\n",
       "      <td>22</td>\n",
       "      <td>Тюмень</td>\n",
       "      <td>ultra</td>\n",
       "      <td>2694.78</td>\n",
       "      <td>18.51</td>\n",
       "      <td>2021-08-11</td>\n",
       "      <td>8</td>\n",
       "      <td>6</td>\n",
       "      <td>0</td>\n",
       "      <td>199</td>\n",
       "    </tr>\n",
       "    <tr>\n",
       "      <th>4</th>\n",
       "      <td>1</td>\n",
       "      <td>Кира</td>\n",
       "      <td>22</td>\n",
       "      <td>Тюмень</td>\n",
       "      <td>ultra</td>\n",
       "      <td>4028.69</td>\n",
       "      <td>26.27</td>\n",
       "      <td>2021-08-28</td>\n",
       "      <td>8</td>\n",
       "      <td>6</td>\n",
       "      <td>0</td>\n",
       "      <td>199</td>\n",
       "    </tr>\n",
       "    <tr>\n",
       "      <th>...</th>\n",
       "      <td>...</td>\n",
       "      <td>...</td>\n",
       "      <td>...</td>\n",
       "      <td>...</td>\n",
       "      <td>...</td>\n",
       "      <td>...</td>\n",
       "      <td>...</td>\n",
       "      <td>...</td>\n",
       "      <td>...</td>\n",
       "      <td>...</td>\n",
       "      <td>...</td>\n",
       "      <td>...</td>\n",
       "    </tr>\n",
       "    <tr>\n",
       "      <th>6495</th>\n",
       "      <td>699</td>\n",
       "      <td>Оксана</td>\n",
       "      <td>22</td>\n",
       "      <td>Москва</td>\n",
       "      <td>ultra</td>\n",
       "      <td>3973.05</td>\n",
       "      <td>24.67</td>\n",
       "      <td>2021-08-29</td>\n",
       "      <td>8</td>\n",
       "      <td>6</td>\n",
       "      <td>0</td>\n",
       "      <td>199</td>\n",
       "    </tr>\n",
       "    <tr>\n",
       "      <th>6496</th>\n",
       "      <td>699</td>\n",
       "      <td>Оксана</td>\n",
       "      <td>22</td>\n",
       "      <td>Москва</td>\n",
       "      <td>ultra</td>\n",
       "      <td>3288.70</td>\n",
       "      <td>15.89</td>\n",
       "      <td>2021-09-12</td>\n",
       "      <td>9</td>\n",
       "      <td>6</td>\n",
       "      <td>0</td>\n",
       "      <td>199</td>\n",
       "    </tr>\n",
       "    <tr>\n",
       "      <th>6497</th>\n",
       "      <td>699</td>\n",
       "      <td>Оксана</td>\n",
       "      <td>22</td>\n",
       "      <td>Москва</td>\n",
       "      <td>ultra</td>\n",
       "      <td>3076.16</td>\n",
       "      <td>14.39</td>\n",
       "      <td>2021-09-26</td>\n",
       "      <td>9</td>\n",
       "      <td>6</td>\n",
       "      <td>0</td>\n",
       "      <td>199</td>\n",
       "    </tr>\n",
       "    <tr>\n",
       "      <th>6498</th>\n",
       "      <td>699</td>\n",
       "      <td>Оксана</td>\n",
       "      <td>22</td>\n",
       "      <td>Москва</td>\n",
       "      <td>ultra</td>\n",
       "      <td>4707.85</td>\n",
       "      <td>15.84</td>\n",
       "      <td>2021-10-17</td>\n",
       "      <td>10</td>\n",
       "      <td>6</td>\n",
       "      <td>0</td>\n",
       "      <td>199</td>\n",
       "    </tr>\n",
       "    <tr>\n",
       "      <th>6499</th>\n",
       "      <td>699</td>\n",
       "      <td>Оксана</td>\n",
       "      <td>22</td>\n",
       "      <td>Москва</td>\n",
       "      <td>ultra</td>\n",
       "      <td>3202.89</td>\n",
       "      <td>25.22</td>\n",
       "      <td>2021-12-03</td>\n",
       "      <td>12</td>\n",
       "      <td>6</td>\n",
       "      <td>0</td>\n",
       "      <td>199</td>\n",
       "    </tr>\n",
       "  </tbody>\n",
       "</table>\n",
       "<p>6500 rows × 12 columns</p>\n",
       "</div>"
      ],
      "text/plain": [
       "      user_id    name  age    city subscription_type  distance  duration  \\\n",
       "0           1    Кира   22  Тюмень             ultra   4409.92     25.60   \n",
       "1           1    Кира   22  Тюмень             ultra   2617.59     15.82   \n",
       "2           1    Кира   22  Тюмень             ultra    754.16      6.23   \n",
       "3           1    Кира   22  Тюмень             ultra   2694.78     18.51   \n",
       "4           1    Кира   22  Тюмень             ultra   4028.69     26.27   \n",
       "...       ...     ...  ...     ...               ...       ...       ...   \n",
       "6495      699  Оксана   22  Москва             ultra   3973.05     24.67   \n",
       "6496      699  Оксана   22  Москва             ultra   3288.70     15.89   \n",
       "6497      699  Оксана   22  Москва             ultra   3076.16     14.39   \n",
       "6498      699  Оксана   22  Москва             ultra   4707.85     15.84   \n",
       "6499      699  Оксана   22  Москва             ultra   3202.89     25.22   \n",
       "\n",
       "           date  month_number  minute_price  start_ride_price  \\\n",
       "0    2021-01-01             1             6                 0   \n",
       "1    2021-01-18             1             6                 0   \n",
       "2    2021-04-20             4             6                 0   \n",
       "3    2021-08-11             8             6                 0   \n",
       "4    2021-08-28             8             6                 0   \n",
       "...         ...           ...           ...               ...   \n",
       "6495 2021-08-29             8             6                 0   \n",
       "6496 2021-09-12             9             6                 0   \n",
       "6497 2021-09-26             9             6                 0   \n",
       "6498 2021-10-17            10             6                 0   \n",
       "6499 2021-12-03            12             6                 0   \n",
       "\n",
       "      subscription_fee  \n",
       "0                  199  \n",
       "1                  199  \n",
       "2                  199  \n",
       "3                  199  \n",
       "4                  199  \n",
       "...                ...  \n",
       "6495               199  \n",
       "6496               199  \n",
       "6497               199  \n",
       "6498               199  \n",
       "6499               199  \n",
       "\n",
       "[6500 rows x 12 columns]"
      ]
     },
     "metadata": {},
     "output_type": "display_data"
    }
   ],
   "source": [
    "# Создаём датафрейм с данными о пользователях без подписки\n",
    "df_without_sub = df_2[df_2['subscription_type'] == 'free']\n",
    "\n",
    "# Создаём датафрейм с данными о пользователях с подпиской (выбираем все, где тип подписки не 'free')\n",
    "df_with_sub = df_2[df_2['subscription_type'] != 'free']\n",
    "\n",
    "# Отображаем датафрейм с пользователями без подписки\n",
    "display(df_without_sub)\n",
    "\n",
    "# Отображаем датафрейм с пользователями с подпиской\n",
    "display(df_with_sub)"
   ]
  },
  {
   "cell_type": "markdown",
   "id": "987c8f96",
   "metadata": {},
   "source": [
    "**Вывод.** Соединил таблицы по столбцам user_id и subscription_type. И разделил на 2 разные талблицы по subscription_type, где пользователи с подпиской и без"
   ]
  },
  {
   "cell_type": "markdown",
   "id": "e5aa6d21",
   "metadata": {},
   "source": [
    "4.3 Визуализируйте информацию о расстоянии и времени поездок для пользователей обеих категорий."
   ]
  },
  {
   "cell_type": "code",
   "execution_count": 14,
   "id": "69ca035f",
   "metadata": {},
   "outputs": [
    {
     "data": {
      "text/plain": [
       "'Информация о времени поездки для пользователей с подпиской'"
      ]
     },
     "metadata": {},
     "output_type": "display_data"
    },
    {
     "data": {
      "text/plain": [
       "count    6500.000000\n",
       "mean       18.542017\n",
       "std         5.572065\n",
       "min         3.760000\n",
       "25%        14.527500\n",
       "50%        18.180000\n",
       "75%        21.880000\n",
       "max        40.820000\n",
       "Name: duration, dtype: float64"
      ]
     },
     "metadata": {},
     "output_type": "display_data"
    },
    {
     "data": {
      "text/plain": [
       "'Информация о времени поездки для пользователей без подписки'"
      ]
     },
     "metadata": {},
     "output_type": "display_data"
    },
    {
     "data": {
      "text/plain": [
       "count    11473.000000\n",
       "mean        17.530762\n",
       "std          6.162628\n",
       "min          2.040000\n",
       "25%         13.090000\n",
       "50%         17.380000\n",
       "75%         21.640000\n",
       "max         34.950000\n",
       "Name: duration, dtype: float64"
      ]
     },
     "metadata": {},
     "output_type": "display_data"
    },
    {
     "data": {
      "image/png": "[encoded data removed]",
      "text/plain": [
       "<Figure size 1000x600 with 1 Axes>"
      ]
     },
     "metadata": {},
     "output_type": "display_data"
    }
   ],
   "source": [
    "# Фильтруем пользователей без подписки, исключая те поездки, где продолжительность меньше или равна 1 минуте\n",
    "df_without_sub = df_without_sub[df_without_sub['duration'] > 1]\n",
    "\n",
    "# Выводим статистику по продолжительности поездок для пользователей с подпиской\n",
    "display('Информация о времени поездки для пользователей с подпиской', df_with_sub['duration'].describe())\n",
    "\n",
    "# Выводим статистику по продолжительности поездок для пользователей без подписки\n",
    "display('Информация о времени поездки для пользователей без подписки', df_without_sub['duration'].describe())\n",
    "\n",
    "# Строим гистограмму для отображения распределения продолжительности поездок для пользователей с подпиской и без\n",
    "plt.figure(figsize=(10, 6))  # Устанавливаем размер графика\n",
    "plt.hist(df_with_sub['duration'], bins=150, alpha=0.5, label='С подпиской', color='blue')  # Гистограмма для пользователей с подпиской\n",
    "plt.hist(df_without_sub['duration'], bins=150, alpha=0.5, label='Без подписки', color='orange')  # Гистограмма для пользователей без подписки\n",
    "\n",
    "# Добавляем заголовок и подписи осей\n",
    "plt.title('Распределение времени поездки')\n",
    "plt.xlabel('Время, мин')\n",
    "plt.ylabel('Количество поездок')\n",
    "\n",
    "# Добавляем легенду для различения категорий\n",
    "plt.legend(loc='upper right')\n",
    "\n",
    "# Отображаем график\n",
    "plt.show()"
   ]
  },
  {
   "cell_type": "code",
   "execution_count": 15,
   "id": "6bf288b5",
   "metadata": {},
   "outputs": [
    {
     "data": {
      "text/plain": [
       "'Информация о расстоянии для пользователей с подпиской'"
      ]
     },
     "metadata": {},
     "output_type": "display_data"
    },
    {
     "data": {
      "text/plain": [
       "count    6500.000000\n",
       "mean     3115.445431\n",
       "std       836.895369\n",
       "min       244.210000\n",
       "25%      2785.447500\n",
       "50%      3148.640000\n",
       "75%      3560.577500\n",
       "max      5699.770000\n",
       "Name: distance, dtype: float64"
      ]
     },
     "metadata": {},
     "output_type": "display_data"
    },
    {
     "data": {
      "text/plain": [
       "'Информация о расстоянии для пользователей без подписки'"
      ]
     },
     "metadata": {},
     "output_type": "display_data"
    },
    {
     "data": {
      "text/plain": [
       "count    11473.000000\n",
       "mean      3028.374240\n",
       "std       1235.541051\n",
       "min          0.860000\n",
       "25%       2360.880000\n",
       "50%       3102.080000\n",
       "75%       3883.980000\n",
       "max       7066.000000\n",
       "Name: distance, dtype: float64"
      ]
     },
     "metadata": {},
     "output_type": "display_data"
    },
    {
     "data": {
      "image/png": "[encoded data removed]",
      "text/plain": [
       "<Figure size 1000x600 with 1 Axes>"
      ]
     },
     "metadata": {},
     "output_type": "display_data"
    }
   ],
   "source": [
    "# Выводим статистику по расстояниям поездок для пользователей с подпиской\n",
    "display('Информация о расстоянии для пользователей с подпиской', df_with_sub['distance'].describe())\n",
    "\n",
    "# Выводим статистику по расстояниям поездок для пользователей без подписки\n",
    "display('Информация о расстоянии для пользователей без подписки', df_without_sub['distance'].describe())\n",
    "\n",
    "# Строим гистограмму для отображения распределения расстояний поездок для пользователей с подпиской и без\n",
    "plt.figure(figsize=(10, 6))  # Устанавливаем размер графика\n",
    "plt.hist(df_with_sub['distance'], bins=150, alpha=0.5, label='С подпиской', color='blue')  # Гистограмма для пользователей с подпиской\n",
    "plt.hist(df_without_sub['distance'], bins=150, alpha=0.5, label='Без подписки', color='orange')  # Гистограмма для пользователей без подписки\n",
    "\n",
    "# Добавляем заголовок и подписи осей\n",
    "plt.title('Распределение расстояний поездок')\n",
    "plt.xlabel('Расстояние')\n",
    "plt.ylabel('Количество поездок')\n",
    "\n",
    "# Добавляем легенду для различения категорий\n",
    "plt.legend(loc='upper right')\n",
    "\n",
    "# Отображаем график\n",
    "plt.show()"
   ]
  },
  {
   "cell_type": "markdown",
   "id": "884ee3bb",
   "metadata": {},
   "source": [
    "**Вывод.** По гистограмме видно, что пользователей без подписки больше \n",
    "1. Время поездки \n",
    "- Пользователи без подписки в количестве 95 единиц приезжали до своего место назначения менее чем за минуту в дистанции от 4000 до 7000 м. Это означает, что пользователь выключил навигатор/приложение как только вел маршрут и такие данные нужно убрать, т.к. они искажают общую картину. \n",
    "- Для 11442 единиц пользователей без подписки (после очистки подписчиков), время поездки среднее - 17,5 мин, мадианное - 17,4 мин\n",
    "- Для пользователей с подпиской среднее время пользования - 18,5 мин, медианное - 18,2 мин \n",
    "2. Расстояние поездки\n",
    "- Для 6500 единиц подписчиков: расстояние среднее - 3115м, мадианное - 3148м; время поездки среднее - 17,4мин, мадианное - 17,3мин\n",
    "- Для 11473 единиц пользователей без подписки (после очистки подписчиков), расстояние среднее - 3028м, мадианное - 3102м\n",
    "\n"
   ]
  },
  {
   "cell_type": "markdown",
   "id": "402d620f",
   "metadata": {},
   "source": [
    "#### Шаг 5. Подсчёт выручки"
   ]
  },
  {
   "cell_type": "markdown",
   "id": "39fe0afa",
   "metadata": {},
   "source": [
    "5.1 Создайте датафрейм с агрегированными данными о поездках на основе датафрейма с объединёнными данными из шага 4: найдите суммарное расстояние, количество поездок и суммарное время для каждого пользователя за каждый месяц."
   ]
  },
  {
   "cell_type": "code",
   "execution_count": 16,
   "id": "5a042606",
   "metadata": {},
   "outputs": [
    {
     "name": "stderr",
     "output_type": "stream",
     "text": [
      "C:\\Users\\Lenovo\\AppData\\Local\\Temp\\ipykernel_4136\\750277877.py:2: SettingWithCopyWarning: \n",
      "A value is trying to be set on a copy of a slice from a DataFrame.\n",
      "Try using .loc[row_indexer,col_indexer] = value instead\n",
      "\n",
      "See the caveats in the documentation: https://pandas.pydata.org/pandas-docs/stable/user_guide/indexing.html#returning-a-view-versus-a-copy\n",
      "  df_with_sub['duration'] = np.ceil(df_with_sub['duration'])\n"
     ]
    },
    {
     "data": {
      "text/html": [
       "<div>\n",
       "<style scoped>\n",
       "    .dataframe tbody tr th:only-of-type {\n",
       "        vertical-align: middle;\n",
       "    }\n",
       "\n",
       "    .dataframe tbody tr th {\n",
       "        vertical-align: top;\n",
       "    }\n",
       "\n",
       "    .dataframe thead th {\n",
       "        text-align: right;\n",
       "    }\n",
       "</style>\n",
       "<table border=\"1\" class=\"dataframe\">\n",
       "  <thead>\n",
       "    <tr style=\"text-align: right;\">\n",
       "      <th></th>\n",
       "      <th>user_id</th>\n",
       "      <th>month_number</th>\n",
       "      <th>trip_count</th>\n",
       "      <th>distance_sum</th>\n",
       "      <th>duration_sum</th>\n",
       "    </tr>\n",
       "  </thead>\n",
       "  <tbody>\n",
       "    <tr>\n",
       "      <th>0</th>\n",
       "      <td>700</td>\n",
       "      <td>1</td>\n",
       "      <td>1</td>\n",
       "      <td>2515.69</td>\n",
       "      <td>15.0</td>\n",
       "    </tr>\n",
       "    <tr>\n",
       "      <th>1</th>\n",
       "      <td>700</td>\n",
       "      <td>2</td>\n",
       "      <td>5</td>\n",
       "      <td>13446.65</td>\n",
       "      <td>89.0</td>\n",
       "    </tr>\n",
       "    <tr>\n",
       "      <th>2</th>\n",
       "      <td>700</td>\n",
       "      <td>3</td>\n",
       "      <td>1</td>\n",
       "      <td>3798.33</td>\n",
       "      <td>19.0</td>\n",
       "    </tr>\n",
       "    <tr>\n",
       "      <th>3</th>\n",
       "      <td>700</td>\n",
       "      <td>4</td>\n",
       "      <td>1</td>\n",
       "      <td>2984.55</td>\n",
       "      <td>16.0</td>\n",
       "    </tr>\n",
       "    <tr>\n",
       "      <th>4</th>\n",
       "      <td>700</td>\n",
       "      <td>6</td>\n",
       "      <td>2</td>\n",
       "      <td>5927.65</td>\n",
       "      <td>29.0</td>\n",
       "    </tr>\n",
       "  </tbody>\n",
       "</table>\n",
       "</div>"
      ],
      "text/plain": [
       "   user_id  month_number  trip_count  distance_sum  duration_sum\n",
       "0      700             1           1       2515.69          15.0\n",
       "1      700             2           5      13446.65          89.0\n",
       "2      700             3           1       3798.33          19.0\n",
       "3      700             4           1       2984.55          16.0\n",
       "4      700             6           2       5927.65          29.0"
      ]
     },
     "metadata": {},
     "output_type": "display_data"
    },
    {
     "data": {
      "text/html": [
       "<div>\n",
       "<style scoped>\n",
       "    .dataframe tbody tr th:only-of-type {\n",
       "        vertical-align: middle;\n",
       "    }\n",
       "\n",
       "    .dataframe tbody tr th {\n",
       "        vertical-align: top;\n",
       "    }\n",
       "\n",
       "    .dataframe thead th {\n",
       "        text-align: right;\n",
       "    }\n",
       "</style>\n",
       "<table border=\"1\" class=\"dataframe\">\n",
       "  <thead>\n",
       "    <tr style=\"text-align: right;\">\n",
       "      <th></th>\n",
       "      <th>user_id</th>\n",
       "      <th>month_number</th>\n",
       "      <th>trip_count</th>\n",
       "      <th>distance_sum</th>\n",
       "      <th>duration_sum</th>\n",
       "    </tr>\n",
       "  </thead>\n",
       "  <tbody>\n",
       "    <tr>\n",
       "      <th>0</th>\n",
       "      <td>1</td>\n",
       "      <td>1</td>\n",
       "      <td>2</td>\n",
       "      <td>7027.51</td>\n",
       "      <td>42.0</td>\n",
       "    </tr>\n",
       "    <tr>\n",
       "      <th>1</th>\n",
       "      <td>1</td>\n",
       "      <td>4</td>\n",
       "      <td>1</td>\n",
       "      <td>754.16</td>\n",
       "      <td>7.0</td>\n",
       "    </tr>\n",
       "    <tr>\n",
       "      <th>2</th>\n",
       "      <td>1</td>\n",
       "      <td>8</td>\n",
       "      <td>2</td>\n",
       "      <td>6723.47</td>\n",
       "      <td>46.0</td>\n",
       "    </tr>\n",
       "    <tr>\n",
       "      <th>3</th>\n",
       "      <td>1</td>\n",
       "      <td>10</td>\n",
       "      <td>2</td>\n",
       "      <td>5809.91</td>\n",
       "      <td>32.0</td>\n",
       "    </tr>\n",
       "    <tr>\n",
       "      <th>4</th>\n",
       "      <td>1</td>\n",
       "      <td>11</td>\n",
       "      <td>3</td>\n",
       "      <td>7003.50</td>\n",
       "      <td>56.0</td>\n",
       "    </tr>\n",
       "  </tbody>\n",
       "</table>\n",
       "</div>"
      ],
      "text/plain": [
       "   user_id  month_number  trip_count  distance_sum  duration_sum\n",
       "0        1             1           2       7027.51          42.0\n",
       "1        1             4           1        754.16           7.0\n",
       "2        1             8           2       6723.47          46.0\n",
       "3        1            10           2       5809.91          32.0\n",
       "4        1            11           3       7003.50          56.0"
      ]
     },
     "metadata": {},
     "output_type": "display_data"
    }
   ],
   "source": [
    "# Округляем продолжительность поездки до целых значений для обоих датафреймов (с подпиской и без подписки)\n",
    "df_with_sub['duration'] = np.ceil(df_with_sub['duration'])\n",
    "df_without_sub['duration'] = np.ceil(df_without_sub['duration'])\n",
    "\n",
    "# Создаём агрегированный датафрейм для пользователей без подписки, используя pivot_table\n",
    "# Считаем суммарное расстояние, количество поездок и суммарное время для каждого пользователя по каждому месяцу\n",
    "df_without_sub_sum_count = df_without_sub.pivot_table(\n",
    "    index=['user_id', 'month_number'],  # Индекс: идентификатор пользователя и месяц\n",
    "    values=['distance', 'duration'],    # Столбцы для агрегации: расстояние и продолжительность\n",
    "    aggfunc={'distance': ['sum', 'count'], 'duration': 'sum'},  # Аггрегация: сумма расстояния, количество поездок и сумма времени\n",
    "    fill_value=0  # Заполняем пропуски нулями\n",
    ").reset_index()  # Сбрасываем индексы для корректного отображения\n",
    "df_without_sub_sum_count.columns = ['user_id', 'month_number', 'trip_count', 'distance_sum', 'duration_sum']  # Переименовываем столбцы для удобства\n",
    "\n",
    "# Отображаем первые строки агрегированного датафрейма для пользователей без подписки\n",
    "display(df_without_sub_sum_count.head())\n",
    "\n",
    "# Создаём агрегированный датафрейм для пользователей с подпиской\n",
    "# Также считаем суммарное расстояние, количество поездок и суммарное время для каждого пользователя по каждому месяцу\n",
    "df_with_sub_sum_count = df_with_sub.pivot_table(\n",
    "    index=['user_id', 'month_number'],  # Индекс: идентификатор пользователя и месяц\n",
    "    values=['distance', 'duration'],    # Столбцы для агрегации: расстояние и продолжительность\n",
    "    aggfunc={'distance': ['sum', 'count'], 'duration': 'sum'},  # Аггрегация: сумма расстояния, количество поездок и сумма времени\n",
    "    fill_value=0  # Заполняем пропуски нулями\n",
    ").reset_index()  # Сбрасываем индексы\n",
    "df_with_sub_sum_count.columns = ['user_id', 'month_number', 'trip_count', 'distance_sum', 'duration_sum']  # Переименовываем столбцы для удобства\n",
    "\n",
    "# Отображаем первые строки агрегированного датафрейма для пользователей с подпиской\n",
    "display(df_with_sub_sum_count.head())"
   ]
  },
  {
   "cell_type": "markdown",
   "id": "6cd0d80a",
   "metadata": {},
   "source": [
    "5.2 В этот же датафрейм добавьте столбец с помесячной выручкой, которую принёс каждый пользователь. Для этого обратитесь к информации об условиях оплаты для подписчиков и тех, у кого нет подписки. Продолжительность каждой поездки в каждой строке исходного датафрейма для подсчёта стоимости округляется до следующего целого числа: например, значения 25.3, 25.5 и 26.0 должны быть преобразованы к 26.\n",
    "\n",
    "без подписки\n",
    "- абонентская плата отсутствует;\n",
    "- стоимость одной минуты поездки — 8 рублей;\n",
    "- стоимость старта (начала поездки) — 50 рублей;\n",
    "\n",
    "\n",
    "с подпиской Ultra\n",
    "- абонентская плата — 199 рублей в месяц;\n",
    "- стоимость одной минуты поездки — 6 рублей;\n",
    "- стоимость старта — бесплатно. \n",
    "\n",
    "\n",
    "Помесячная выручка считается по формуле: \n",
    "стоимость старта поездки ×  количество поездок + стоимость одной минуты поездки × общая продолжительность всех поездок в минутах + стоимость подписки."
   ]
  },
  {
   "cell_type": "code",
   "execution_count": 17,
   "id": "ece10d4c",
   "metadata": {},
   "outputs": [
    {
     "data": {
      "text/html": [
       "<div>\n",
       "<style scoped>\n",
       "    .dataframe tbody tr th:only-of-type {\n",
       "        vertical-align: middle;\n",
       "    }\n",
       "\n",
       "    .dataframe tbody tr th {\n",
       "        vertical-align: top;\n",
       "    }\n",
       "\n",
       "    .dataframe thead th {\n",
       "        text-align: right;\n",
       "    }\n",
       "</style>\n",
       "<table border=\"1\" class=\"dataframe\">\n",
       "  <thead>\n",
       "    <tr style=\"text-align: right;\">\n",
       "      <th></th>\n",
       "      <th>user_id</th>\n",
       "      <th>month_number</th>\n",
       "      <th>trip_count</th>\n",
       "      <th>distance_sum</th>\n",
       "      <th>duration_sum</th>\n",
       "      <th>month_revenue</th>\n",
       "    </tr>\n",
       "  </thead>\n",
       "  <tbody>\n",
       "    <tr>\n",
       "      <th>0</th>\n",
       "      <td>700</td>\n",
       "      <td>1</td>\n",
       "      <td>1</td>\n",
       "      <td>2515.69</td>\n",
       "      <td>15.0</td>\n",
       "      <td>170.0</td>\n",
       "    </tr>\n",
       "    <tr>\n",
       "      <th>1</th>\n",
       "      <td>700</td>\n",
       "      <td>2</td>\n",
       "      <td>5</td>\n",
       "      <td>13446.65</td>\n",
       "      <td>89.0</td>\n",
       "      <td>962.0</td>\n",
       "    </tr>\n",
       "    <tr>\n",
       "      <th>2</th>\n",
       "      <td>700</td>\n",
       "      <td>3</td>\n",
       "      <td>1</td>\n",
       "      <td>3798.33</td>\n",
       "      <td>19.0</td>\n",
       "      <td>202.0</td>\n",
       "    </tr>\n",
       "    <tr>\n",
       "      <th>3</th>\n",
       "      <td>700</td>\n",
       "      <td>4</td>\n",
       "      <td>1</td>\n",
       "      <td>2984.55</td>\n",
       "      <td>16.0</td>\n",
       "      <td>178.0</td>\n",
       "    </tr>\n",
       "    <tr>\n",
       "      <th>4</th>\n",
       "      <td>700</td>\n",
       "      <td>6</td>\n",
       "      <td>2</td>\n",
       "      <td>5927.65</td>\n",
       "      <td>29.0</td>\n",
       "      <td>332.0</td>\n",
       "    </tr>\n",
       "    <tr>\n",
       "      <th>...</th>\n",
       "      <td>...</td>\n",
       "      <td>...</td>\n",
       "      <td>...</td>\n",
       "      <td>...</td>\n",
       "      <td>...</td>\n",
       "      <td>...</td>\n",
       "    </tr>\n",
       "    <tr>\n",
       "      <th>6762</th>\n",
       "      <td>1534</td>\n",
       "      <td>6</td>\n",
       "      <td>2</td>\n",
       "      <td>3409.47</td>\n",
       "      <td>26.0</td>\n",
       "      <td>308.0</td>\n",
       "    </tr>\n",
       "    <tr>\n",
       "      <th>6763</th>\n",
       "      <td>1534</td>\n",
       "      <td>8</td>\n",
       "      <td>2</td>\n",
       "      <td>7622.45</td>\n",
       "      <td>48.0</td>\n",
       "      <td>484.0</td>\n",
       "    </tr>\n",
       "    <tr>\n",
       "      <th>6764</th>\n",
       "      <td>1534</td>\n",
       "      <td>9</td>\n",
       "      <td>1</td>\n",
       "      <td>4928.17</td>\n",
       "      <td>23.0</td>\n",
       "      <td>234.0</td>\n",
       "    </tr>\n",
       "    <tr>\n",
       "      <th>6765</th>\n",
       "      <td>1534</td>\n",
       "      <td>11</td>\n",
       "      <td>4</td>\n",
       "      <td>13350.02</td>\n",
       "      <td>78.0</td>\n",
       "      <td>824.0</td>\n",
       "    </tr>\n",
       "    <tr>\n",
       "      <th>6766</th>\n",
       "      <td>1534</td>\n",
       "      <td>12</td>\n",
       "      <td>1</td>\n",
       "      <td>2371.71</td>\n",
       "      <td>16.0</td>\n",
       "      <td>178.0</td>\n",
       "    </tr>\n",
       "  </tbody>\n",
       "</table>\n",
       "<p>6767 rows × 6 columns</p>\n",
       "</div>"
      ],
      "text/plain": [
       "      user_id  month_number  trip_count  distance_sum  duration_sum  \\\n",
       "0         700             1           1       2515.69          15.0   \n",
       "1         700             2           5      13446.65          89.0   \n",
       "2         700             3           1       3798.33          19.0   \n",
       "3         700             4           1       2984.55          16.0   \n",
       "4         700             6           2       5927.65          29.0   \n",
       "...       ...           ...         ...           ...           ...   \n",
       "6762     1534             6           2       3409.47          26.0   \n",
       "6763     1534             8           2       7622.45          48.0   \n",
       "6764     1534             9           1       4928.17          23.0   \n",
       "6765     1534            11           4      13350.02          78.0   \n",
       "6766     1534            12           1       2371.71          16.0   \n",
       "\n",
       "      month_revenue  \n",
       "0             170.0  \n",
       "1             962.0  \n",
       "2             202.0  \n",
       "3             178.0  \n",
       "4             332.0  \n",
       "...             ...  \n",
       "6762          308.0  \n",
       "6763          484.0  \n",
       "6764          234.0  \n",
       "6765          824.0  \n",
       "6766          178.0  \n",
       "\n",
       "[6767 rows x 6 columns]"
      ]
     },
     "metadata": {},
     "output_type": "display_data"
    },
    {
     "data": {
      "text/html": [
       "<div>\n",
       "<style scoped>\n",
       "    .dataframe tbody tr th:only-of-type {\n",
       "        vertical-align: middle;\n",
       "    }\n",
       "\n",
       "    .dataframe tbody tr th {\n",
       "        vertical-align: top;\n",
       "    }\n",
       "\n",
       "    .dataframe thead th {\n",
       "        text-align: right;\n",
       "    }\n",
       "</style>\n",
       "<table border=\"1\" class=\"dataframe\">\n",
       "  <thead>\n",
       "    <tr style=\"text-align: right;\">\n",
       "      <th></th>\n",
       "      <th>user_id</th>\n",
       "      <th>month_number</th>\n",
       "      <th>trip_count</th>\n",
       "      <th>distance_sum</th>\n",
       "      <th>duration_sum</th>\n",
       "      <th>month_revenue</th>\n",
       "    </tr>\n",
       "  </thead>\n",
       "  <tbody>\n",
       "    <tr>\n",
       "      <th>0</th>\n",
       "      <td>1</td>\n",
       "      <td>1</td>\n",
       "      <td>2</td>\n",
       "      <td>7027.51</td>\n",
       "      <td>42.0</td>\n",
       "      <td>451.0</td>\n",
       "    </tr>\n",
       "    <tr>\n",
       "      <th>1</th>\n",
       "      <td>1</td>\n",
       "      <td>4</td>\n",
       "      <td>1</td>\n",
       "      <td>754.16</td>\n",
       "      <td>7.0</td>\n",
       "      <td>241.0</td>\n",
       "    </tr>\n",
       "    <tr>\n",
       "      <th>2</th>\n",
       "      <td>1</td>\n",
       "      <td>8</td>\n",
       "      <td>2</td>\n",
       "      <td>6723.47</td>\n",
       "      <td>46.0</td>\n",
       "      <td>475.0</td>\n",
       "    </tr>\n",
       "    <tr>\n",
       "      <th>3</th>\n",
       "      <td>1</td>\n",
       "      <td>10</td>\n",
       "      <td>2</td>\n",
       "      <td>5809.91</td>\n",
       "      <td>32.0</td>\n",
       "      <td>391.0</td>\n",
       "    </tr>\n",
       "    <tr>\n",
       "      <th>4</th>\n",
       "      <td>1</td>\n",
       "      <td>11</td>\n",
       "      <td>3</td>\n",
       "      <td>7003.50</td>\n",
       "      <td>56.0</td>\n",
       "      <td>535.0</td>\n",
       "    </tr>\n",
       "    <tr>\n",
       "      <th>...</th>\n",
       "      <td>...</td>\n",
       "      <td>...</td>\n",
       "      <td>...</td>\n",
       "      <td>...</td>\n",
       "      <td>...</td>\n",
       "      <td>...</td>\n",
       "    </tr>\n",
       "    <tr>\n",
       "      <th>4528</th>\n",
       "      <td>699</td>\n",
       "      <td>6</td>\n",
       "      <td>1</td>\n",
       "      <td>4072.80</td>\n",
       "      <td>17.0</td>\n",
       "      <td>301.0</td>\n",
       "    </tr>\n",
       "    <tr>\n",
       "      <th>4529</th>\n",
       "      <td>699</td>\n",
       "      <td>8</td>\n",
       "      <td>2</td>\n",
       "      <td>7018.33</td>\n",
       "      <td>45.0</td>\n",
       "      <td>469.0</td>\n",
       "    </tr>\n",
       "    <tr>\n",
       "      <th>4530</th>\n",
       "      <td>699</td>\n",
       "      <td>9</td>\n",
       "      <td>2</td>\n",
       "      <td>6364.86</td>\n",
       "      <td>31.0</td>\n",
       "      <td>385.0</td>\n",
       "    </tr>\n",
       "    <tr>\n",
       "      <th>4531</th>\n",
       "      <td>699</td>\n",
       "      <td>10</td>\n",
       "      <td>1</td>\n",
       "      <td>4707.85</td>\n",
       "      <td>16.0</td>\n",
       "      <td>295.0</td>\n",
       "    </tr>\n",
       "    <tr>\n",
       "      <th>4532</th>\n",
       "      <td>699</td>\n",
       "      <td>12</td>\n",
       "      <td>1</td>\n",
       "      <td>3202.89</td>\n",
       "      <td>26.0</td>\n",
       "      <td>355.0</td>\n",
       "    </tr>\n",
       "  </tbody>\n",
       "</table>\n",
       "<p>4533 rows × 6 columns</p>\n",
       "</div>"
      ],
      "text/plain": [
       "      user_id  month_number  trip_count  distance_sum  duration_sum  \\\n",
       "0           1             1           2       7027.51          42.0   \n",
       "1           1             4           1        754.16           7.0   \n",
       "2           1             8           2       6723.47          46.0   \n",
       "3           1            10           2       5809.91          32.0   \n",
       "4           1            11           3       7003.50          56.0   \n",
       "...       ...           ...         ...           ...           ...   \n",
       "4528      699             6           1       4072.80          17.0   \n",
       "4529      699             8           2       7018.33          45.0   \n",
       "4530      699             9           2       6364.86          31.0   \n",
       "4531      699            10           1       4707.85          16.0   \n",
       "4532      699            12           1       3202.89          26.0   \n",
       "\n",
       "      month_revenue  \n",
       "0             451.0  \n",
       "1             241.0  \n",
       "2             475.0  \n",
       "3             391.0  \n",
       "4             535.0  \n",
       "...             ...  \n",
       "4528          301.0  \n",
       "4529          469.0  \n",
       "4530          385.0  \n",
       "4531          295.0  \n",
       "4532          355.0  \n",
       "\n",
       "[4533 rows x 6 columns]"
      ]
     },
     "metadata": {},
     "output_type": "display_data"
    }
   ],
   "source": [
    "# Для пользователей без подписки вычисляем помесячную выручку\n",
    "# Формула: (стоимость старта * количество поездок) + (стоимость одной минуты * общая продолжительность всех поездок) + (абонентская плата)\n",
    "# Для пользователей без подписки абонентская плата = 0, стоимость минуты = 8 рублей, стоимость старта = 50 рублей\n",
    "subscription_fee_for_free = 0  # Абонентская плата для пользователей без подписки\n",
    "one_min_cost_free = 8  # Стоимость одной минуты для пользователей без подписки\n",
    "start_cost_free = 50  # Стоимость старта для пользователей без подписки\n",
    "\n",
    "# Вычисляем помесячную выручку для пользователей без подписки\n",
    "df_without_sub_sum_count['month_revenue'] = (start_cost_free * df_without_sub_sum_count['trip_count'] + \n",
    "                                              df_without_sub_sum_count['duration_sum'] * one_min_cost_free + \n",
    "                                              subscription_fee_for_free)\n",
    "\n",
    "# Для пользователей с подпиской вычисляем помесячную выручку\n",
    "# Формула аналогична, но с другими значениями для подписки: абонентская плата = 199 рублей, стоимость минуты = 6 рублей, стоимость старта = 0 рублей\n",
    "subscription_fee = 199  # Абонентская плата для пользователей с подпиской\n",
    "one_min_cost = 6  # Стоимость одной минуты для пользователей с подпиской\n",
    "start_cost = 0  # Стоимость старта для пользователей с подпиской\n",
    "\n",
    "# Вычисляем помесячную выручку для пользователей с подпиской\n",
    "df_with_sub_sum_count['month_revenue'] = (start_cost * df_with_sub_sum_count['trip_count'] + \n",
    "                                           df_with_sub_sum_count['duration_sum'] * one_min_cost + \n",
    "                                           subscription_fee)\n",
    "\n",
    "# Отображаем датафреймы с помесячной выручкой для пользователей с подпиской и без подписки\n",
    "display(df_without_sub_sum_count)\n",
    "display(df_with_sub_sum_count)"
   ]
  },
  {
   "cell_type": "markdown",
   "id": "469f3b06",
   "metadata": {},
   "source": [
    "**Вывод.** Помесячная выручка посчитана по указанной формуле. "
   ]
  },
  {
   "cell_type": "markdown",
   "id": "41545ac0",
   "metadata": {},
   "source": [
    "#### Шаг 6. Проверка гипотез"
   ]
  },
  {
   "cell_type": "markdown",
   "id": "2060345d",
   "metadata": {},
   "source": [
    "Продакт-менеджеры сервиса хотят увеличить количество пользователей с подпиской. Для этого они будут проводить различные акции, но сначала нужно выяснить несколько важных моментов.\n",
    "\n",
    "6.1 Важно понять, тратят ли пользователи с подпиской больше времени на поездки? Если да, то пользователи с подпиской могут быть «выгоднее» для компании. Проверьте гипотезу. Используйте исходные данные о продолжительности каждой сессии — отдельно для подписчиков и тех, у кого нет подписки."
   ]
  },
  {
   "cell_type": "code",
   "execution_count": 18,
   "id": "7f3eeb5d",
   "metadata": {},
   "outputs": [
    {
     "name": "stdout",
     "output_type": "stream",
     "text": [
      "p-value: 1.37652087248219e-24\n",
      "Отвергаем нулевую гипотезу: средняя продолжительность поездки у пользователей с подпиской отличается от без подписки.\n"
     ]
    }
   ],
   "source": [
    "# Проверка гипотезы о продолжительности поездок для пользователей с и без подписки\n",
    "\n",
    "# Формулировка гипотез:\n",
    "# Нулевая гипотеза (H₀): Средняя продолжительность поездки у пользователей с подпиской равна средней продолжительности у пользователей без подписки.\n",
    "# Альтернативная гипотеза (H₁): Средняя продолжительность поездки у пользователей с подпиской отличается от средней продолжительности у пользователей без подписки.\n",
    "\n",
    "# Выполняем независимый t-тест для двух выборок (пользователи с подпиской и без подписки)\n",
    "# Используем продолжительность поездки по столбцу 'duration_sum' в агрегированных данных\n",
    "results = st.ttest_ind(df_with_sub_sum_count['duration_sum'], df_without_sub_sum_count['duration_sum'])\n",
    "\n",
    "# Уровень значимости для теста (по умолчанию 0.05)\n",
    "alpha = 0.05\n",
    "\n",
    "# Выводим p-value для проверки гипотезы\n",
    "print(f'p-value: {results.pvalue}')\n",
    "\n",
    "# Проверка гипотезы:\n",
    "# Если p-value меньше уровня значимости, отвергаем нулевую гипотезу, иначе не отвергаем.\n",
    "if results.pvalue < alpha:\n",
    "    print(\"Отвергаем нулевую гипотезу: средняя продолжительность поездки у пользователей с подпиской отличается от без подписки.\")\n",
    "else:\n",
    "    print(\"Не отвергаем нулевую гипотезу: нет статистически значимой разницы в средней продолжительности поездки.\")"
   ]
  },
  {
   "cell_type": "code",
   "execution_count": 19,
   "id": "6b035505",
   "metadata": {},
   "outputs": [
    {
     "data": {
      "text/plain": [
       "count    6767.000000\n",
       "mean       30.561844\n",
       "std        17.798731\n",
       "min         3.000000\n",
       "25%        18.000000\n",
       "50%        26.000000\n",
       "75%        40.000000\n",
       "max       143.000000\n",
       "Name: duration_sum, dtype: float64"
      ]
     },
     "metadata": {},
     "output_type": "display_data"
    },
    {
     "data": {
      "text/plain": [
       "count    4533.000000\n",
       "mean       27.287668\n",
       "std        14.706956\n",
       "min         4.000000\n",
       "25%        17.000000\n",
       "50%        22.000000\n",
       "75%        35.000000\n",
       "max       126.000000\n",
       "Name: duration_sum, dtype: float64"
      ]
     },
     "metadata": {},
     "output_type": "display_data"
    },
    {
     "data": {
      "text/plain": [
       "'суммарная длительность пользования без подписки'"
      ]
     },
     "metadata": {},
     "output_type": "display_data"
    },
    {
     "data": {
      "text/plain": [
       "206812.0"
      ]
     },
     "metadata": {},
     "output_type": "display_data"
    },
    {
     "data": {
      "text/plain": [
       "'суммарная длительность пользования с подпиской'"
      ]
     },
     "metadata": {},
     "output_type": "display_data"
    },
    {
     "data": {
      "text/plain": [
       "123695.0"
      ]
     },
     "metadata": {},
     "output_type": "display_data"
    }
   ],
   "source": [
    "# Просмотр описательной статистики по суммарной продолжительности поездок для пользователей без подписки\n",
    "display(df_without_sub_sum_count['duration_sum'].describe())  # Показываем статистику по продолжительности для пользователей без подписки\n",
    "\n",
    "# Просмотр описательной статистики по суммарной продолжительности поездок для пользователей с подпиской\n",
    "display(df_with_sub_sum_count['duration_sum'].describe())  # Показываем статистику по продолжительности для пользователей с подпиской\n",
    "\n",
    "# Проверяем суммарную продолжительность всех поездок для пользователей без подписки\n",
    "display('суммарная длительность пользования без подписки', df_without_sub_sum_count['duration_sum'].sum())  # Суммируем продолжительность для пользователей без подписки\n",
    "\n",
    "# Проверяем суммарную продолжительность всех поездок для пользователей с подпиской\n",
    "display('суммарная длительность пользования с подпиской', df_with_sub_sum_count['duration_sum'].sum())  # Суммируем продолжительность для пользователей с подпиской"
   ]
  },
  {
   "cell_type": "markdown",
   "id": "11186f2e",
   "metadata": {},
   "source": [
    "**Вывод.** \n",
    "Гипотезы: \n",
    "1. Нулевая гипотеза (H₀): Средняя продолжительность поездки у пользователей с подпиской равна средней продолжительности у пользователей без подписки.\n",
    "2. Альтернативная гипотеза (H₁): Средняя продолжительность поездки у пользователей с подпиской отличается от средней продолжительности у пользователей без подписки.\n",
    "р-значение p-value: 1.37652087248219e-24 и это означает отвергаем нулевую гипотезу: средняя продолжительность поездки у пользователей с подпиской отличается от без подписки.\n",
    "\n",
    "Без подписки пользователи пользуются:\n",
    "- Без подписки в среднем - 30,5 мин и в медиане - 26 мин, суммарное время пользование - 207 тыс мин\n",
    "- С подпиской в среднем - 27,3 мин и в медиане - 22 мин, суммарное время пользование - 124 тыс мин\n",
    "\n",
    "Таким образом, средный проезд и суммарное время пользование пользователей без подписки больше, чем с подпиской!"
   ]
  },
  {
   "cell_type": "markdown",
   "id": "2fbf791a",
   "metadata": {},
   "source": [
    "6.2 Расстояние одной поездки в 3130 метров — оптимальное с точки зрения износа самоката. Можно ли сказать, что среднее расстояние, которое проезжают пользователи с подпиской за одну поездку, не превышает 3130 метров? Проверьте гипотезу и сделайте выводы."
   ]
  },
  {
   "cell_type": "code",
   "execution_count": 20,
   "id": "8780f3a3",
   "metadata": {},
   "outputs": [
    {
     "name": "stdout",
     "output_type": "stream",
     "text": [
      "p-значение: 0.9195362605842414\n",
      "Не получилось отвергнуть нулевую гипотезу: Среднее расстояние не больше 3130 метров\n",
      "count    6500.000000\n",
      "mean     3115.445431\n",
      "std       836.895369\n",
      "min       244.210000\n",
      "25%      2785.447500\n",
      "50%      3148.640000\n",
      "75%      3560.577500\n",
      "max      5699.770000\n",
      "Name: distance, dtype: float64\n"
     ]
    }
   ],
   "source": [
    "# Формулировка гипотез:\n",
    "# Нулевая гипотеза (H₀): Среднее расстояние на поездки у пользователей с подпиской = 3130 метров\n",
    "# Альтернативная гипотеза (H₁): Среднее расстояние на поездки у пользователей с подпиской <= 3130 метров\n",
    "\n",
    "# Задаем интересующее нас значение (3130 метров)\n",
    "interested_value = 3130\n",
    "\n",
    "# Уровень значимости для теста (по умолчанию 0.05)\n",
    "alpha = 0.05\n",
    "\n",
    "# Выполняем однообразный t-тест для одной выборки.\n",
    "# Мы проверяем, отличается ли среднее расстояние пользователей с подпиской от 3130 метров.\n",
    "# Здесь используем параметр 'greater' для теста на одну сторону, так как гипотеза предполагает, что среднее не должно превышать 3130 метров.\n",
    "results = st.ttest_1samp(df_with_sub['distance'], interested_value, alternative='greater')\n",
    "\n",
    "# Выводим p-value для проверки гипотезы\n",
    "print('p-значение:', results.pvalue)\n",
    "\n",
    "# Проверка гипотезы:\n",
    "# Если p-value меньше уровня значимости, отвергаем нулевую гипотезу, иначе не отвергаем.\n",
    "if results.pvalue < alpha:\n",
    "    print('Отвергаем нулевую гипотезу: Среднее расстояние больше 3130 метров')\n",
    "else:\n",
    "    print('Не получилось отвергнуть нулевую гипотезу: Среднее расстояние не больше 3130 метров')\n",
    "\n",
    "# Описательная статистика для расстояний у пользователей с подпиской\n",
    "print(df_with_sub['distance'].describe())"
   ]
  },
  {
   "cell_type": "markdown",
   "id": "f4c06ed2",
   "metadata": {},
   "source": [
    "**Вывод.** \n",
    "\n",
    "**Вывод.** \n",
    "Гипотезы: \n",
    "1. Нулевая гипотеза H₀: Среднее расстояние на поездки у пользователей с подпиской = 3130\n",
    "2. Альтернативная гипотеза H₁: Среднее время на поездки у пользователей с подпиской <= 3130\n",
    "\n",
    "p-значение: 0.9195362605842414\n",
    "Не получилось отвергнуть нулевую гипотезу: Среднее расстояние не больше 3130 метров\n",
    "\n",
    "Проверил гипотезу, не превышает ли поездка 3130 метров. Действительно, среднее расстояние, которое проезжают пользователи с подпиской за одну поездку, не превышает 3130 метров!\n",
    "\n",
    "Для проверки, проверил среднее значение на предмет разделение письменном виде диаграммы размаха. Не получилось отвергнуть нулевую гипотезу"
   ]
  },
  {
   "cell_type": "markdown",
   "id": "f1314412",
   "metadata": {},
   "source": [
    "6.3 Проверьте гипотезу о том, будет ли помесячная выручка от пользователей с подпиской по месяцам выше, чем выручка от пользователей без подписки. Сделайте вывод."
   ]
  },
  {
   "cell_type": "code",
   "execution_count": 21,
   "id": "6d4a551a",
   "metadata": {},
   "outputs": [
    {
     "name": "stdout",
     "output_type": "stream",
     "text": [
      "p-значение: 1.957394033609321e-30\n",
      "Отвергаем нулевую гипотезу: выручка от пользователей с подпиской больше.\n"
     ]
    }
   ],
   "source": [
    "# Выделяем данные о помесячной выручке для пользователей с подпиской и без подписки\n",
    "df_with_sub_revenue = df_with_sub_sum_count['month_revenue']\n",
    "df_without_sub_revenue = df_without_sub_sum_count['month_revenue']\n",
    "\n",
    "# Формулировка гипотез:\n",
    "# Нулевая гипотеза (H₀): Средняя выручка от пользователей с подпиской равна средней выручке от пользователей без подписки.\n",
    "# Альтернативная гипотеза (H₁): Средняя выручка от пользователей с подпиской больше, чем от пользователей без подписки.\n",
    "\n",
    "# Уровень значимости\n",
    "alpha = 0.05\n",
    "\n",
    "# Выполняем t-тест для двух независимых выборок, проверяя, отличается ли средняя выручка от подписчиков от выручки без подписки.\n",
    "# Параметр 'greater' указывает на то, что мы проверяем гипотезу, что выручка от пользователей с подпиской выше.\n",
    "results = st.ttest_ind(df_with_sub_revenue, df_without_sub_revenue, alternative='greater')\n",
    "\n",
    "# Выводим p-value для проверки гипотезы\n",
    "print('p-значение:', results.pvalue)\n",
    "\n",
    "# Проверка гипотезы:\n",
    "# Если p-value меньше уровня значимости, отвергаем нулевую гипотезу и утверждаем, что выручка от пользователей с подпиской больше.\n",
    "# Если p-value больше или равно уровню значимости, не отвергаем нулевую гипотезу.\n",
    "if results.pvalue < alpha:\n",
    "    print('Отвергаем нулевую гипотезу: выручка от пользователей с подпиской больше.')\n",
    "else:\n",
    "    print('Не получилось отвергнуть нулевую гипотезу: выручка от пользователей с подпиской не больше.')"
   ]
  },
  {
   "cell_type": "code",
   "execution_count": 22,
   "id": "d2212ecf",
   "metadata": {},
   "outputs": [
    {
     "data": {
      "text/plain": [
       "count    4533.000000\n",
       "mean      362.726009\n",
       "std        88.241734\n",
       "min       223.000000\n",
       "25%       301.000000\n",
       "50%       331.000000\n",
       "75%       409.000000\n",
       "max       955.000000\n",
       "Name: month_revenue, dtype: float64"
      ]
     },
     "metadata": {},
     "output_type": "display_data"
    },
    {
     "data": {
      "text/plain": [
       "count    6767.000000\n",
       "mean      329.266440\n",
       "std       183.215022\n",
       "min        74.000000\n",
       "25%       194.000000\n",
       "50%       274.000000\n",
       "75%       428.000000\n",
       "max      1444.000000\n",
       "Name: month_revenue, dtype: float64"
      ]
     },
     "metadata": {},
     "output_type": "display_data"
    }
   ],
   "source": [
    "# Выводим описание статистики по помесячной выручке для пользователей с подпиской\n",
    "display(df_with_sub_sum_count['month_revenue'].describe())\n",
    "\n",
    "# Выводим описание статистики по помесячной выручке для пользователей без подписки\n",
    "display(df_without_sub_sum_count['month_revenue'].describe())"
   ]
  },
  {
   "cell_type": "markdown",
   "id": "f68db7f4",
   "metadata": {},
   "source": [
    "**Вывод.** \n",
    "\n",
    "**Вывод.** \n",
    "Гипотезы: \n",
    "1. Нулевая гипотеза H₀: Средняя выручка от пользователей с подпиской = Средняя выручка от пользователей без подписки\n",
    "2. Альтернативная гипотеза H₁: Средняя выручка от пользователей с подпиской > Средняя выручка от пользователей без подписки\n",
    "\n",
    "p-значение: 1.957394033609321e-30\n",
    "Отвергаем нулевую гипотезу. Средняя выручка от пользователей с подпиской больше средней выручки от пользователей без подписки\n",
    "\n",
    "Результат теста показывает, что средняя выручка пользователей с подпиской действительно выше, чем у пользователей без подписки, на статистически значимом уровне. \n",
    "- С подпиской: средняя - 362 руб, медиана - 331 руб\n",
    "- Без подписки: средняя - 329 руб, медиана - 274 руб"
   ]
  },
  {
   "cell_type": "markdown",
   "id": "afbb786c",
   "metadata": {},
   "source": [
    "6.4 Представьте такую ситуацию: техническая команда сервиса обновила сервера, с которыми взаимодействует мобильное приложение. Она надеется, что из-за этого количество обращений в техподдержку значимо снизилось. Некоторый файл содержит для каждого пользователя данные о количестве обращений до обновления и после него. Какой тест вам понадобился бы для проверки этой гипотезы?"
   ]
  },
  {
   "cell_type": "markdown",
   "id": "541cafcc",
   "metadata": {},
   "source": [
    "**Вывод.** \n",
    "\n",
    "как проверять гипотезу, если вы анализируете одну генеральную совокупность, с которой произошли некоторые изменения. В этом случае вы будете проверять, равны ли средние совокупности до и после этого изменения.\n",
    "Гипотезы в таком случае будут сформулированы так: \n",
    "- Н0: μ1 = μ2\n",
    "- Н1: μ1 != μ2\n",
    "\n",
    "где, μ1, μ2 средние значения до и после изменения.\n",
    "\n",
    "Таким образом, используется **Гипотеза о равенстве средних для зависимых (парных) выборок**"
   ]
  },
  {
   "cell_type": "markdown",
   "id": "61213c5e",
   "metadata": {},
   "source": [
    "#### Шаг 7. Распределения"
   ]
  },
  {
   "cell_type": "markdown",
   "id": "be11b906",
   "metadata": {},
   "source": [
    "7.1 Отделу маркетинга GoFast поставили задачу: нужно провести акцию с раздачей промокодов на один бесплатный месяц подписки, в рамках которой как минимум 100 существующих клиентов должны продлить эту подписку. То есть по завершении периода действия подписки пользователь может либо отказаться от неё, либо продлить, совершив соответствующий платёж. \n",
    "\n",
    "Эта акция уже проводилась ранее и по итогу выяснилось, что после бесплатного пробного периода подписку продлевают 10 % пользователей. Выясните, какое минимальное количество промокодов нужно разослать, чтобы вероятность не выполнить план была примерно 5 %. Подберите параметры распределения, описывающего эту ситуацию, постройте график распределения и сформулируйте ответ на вопрос о количестве промокодов."
   ]
  },
  {
   "cell_type": "code",
   "execution_count": 23,
   "id": "dc22534e",
   "metadata": {},
   "outputs": [
    {
     "name": "stdout",
     "output_type": "stream",
     "text": [
      "Минимальное количество промокодов: 1161\n",
      "Вероятность P(X < 100) = 0.0498\n",
      "Минимальное количество промокодов, которое нужно разослать: 1161\n"
     ]
    }
   ],
   "source": [
    "p = 0.1  # Вероятность продления подписки\n",
    "k = 100  # Минимальное количество продлений\n",
    "target_prob = 0.05  # Целевая вероятность невыполнения плана\n",
    "\n",
    "# Перебираем n в цикле\n",
    "for n in range(1, 2000):  # Проверяем n от 1 до 2000\n",
    "    # Вычисляем P(X < 100) для текущего n\n",
    "    prob = binom.cdf(k - 1, n, p)  # P(X < 100) = P(X <= 99)\n",
    "    \n",
    "    # Если вероятность <= 0.05, останавливаем цикл\n",
    "    if prob <= target_prob:\n",
    "        print(f\"Минимальное количество промокодов: {n}\")\n",
    "        print(f\"Вероятность P(X < 100) = {prob:.4f}\")\n",
    "        break\n",
    "# Выводим минимальное количество промокодов\n",
    "print(f\"Минимальное количество промокодов, которое нужно разослать: {n}\")"
   ]
  },
  {
   "cell_type": "markdown",
   "id": "6603cf9e",
   "metadata": {},
   "source": [
    "7.2 Отдел маркетинга рассылает клиентам push-уведомления в мобильном приложении. Клиенты могут открыть его или не открывать. Известно, что уведомления открывают около 40 % получивших клиентов. Отдел планирует разослать 1 млн уведомлений. С помощью аппроксимации постройте примерный график распределения и оцените вероятность того, что уведомление откроют не более 399,5 тыс. пользователей."
   ]
  },
  {
   "cell_type": "code",
   "execution_count": 24,
   "id": "3be685d3",
   "metadata": {},
   "outputs": [
    {
     "name": "stdout",
     "output_type": "stream",
     "text": [
      "Вероятность того, что откроют уведомление не более 399500 пользователей: 0.1537\n"
     ]
    }
   ],
   "source": [
    "# Параметры задачи\n",
    "n = 1000000  # количество уведомлений\n",
    "p = 0.4  # вероятность того, что клиент откроет уведомление\n",
    "k = 399500  # количество пользователей, которые открыли уведомление\n",
    "\n",
    "# Аппроксимация биномиального распределения нормальным\n",
    "mu = n * p  # Среднее значение\n",
    "sigma = np.sqrt(n * p * (1 - p))  # Стандартное отклонение\n",
    "\n",
    "# Нормализуем к Z-значению для нормального распределения\n",
    "z = (k - mu) / sigma\n",
    "\n",
    "# Вероятность того, что уведомление откроет не более 399500 пользователей\n",
    "probability = norm.cdf(z)\n",
    "\n",
    "# Выводим вероятность\n",
    "print(f\"Вероятность того, что откроют уведомление не более 399500 пользователей: {probability:.4f}\")"
   ]
  },
  {
   "cell_type": "markdown",
   "id": "896eb9b6",
   "metadata": {},
   "source": [
    "**Вывод**\n",
    "\n",
    "Видимо я плохо понял эту тему, мне необходимо заново пройти тему распределений. Так как, я не смог решить эти задачи "
   ]
  },
  {
   "cell_type": "markdown",
   "id": "77df5bb9",
   "metadata": {},
   "source": [
    "**Задача.** Проанализировать данные сервиса аренды самокатов GoFast и проверить некоторые гипотезы, которые могут помочь бизнесу вырасти.\n",
    "\n",
    "**Дано.** Данные о некоторых пользователях из нескольких городов, а также об их поездках. \n",
    "\n",
    "Чтобы совершать поездки по городу, пользователи сервиса GoFast пользуются мобильным приложением. Сервисом можно пользоваться:\n",
    "1. без подписки\n",
    "- абонентская плата отсутствует;\n",
    "- стоимость одной минуты поездки — 8 рублей;\n",
    "- стоимость старта (начала поездки) — 50 рублей;\n",
    "2. с подпиской Ultra\n",
    "- абонентская плата — 199 рублей в месяц;\n",
    "- стоимость одной минуты поездки — 6 рублей;\n",
    "- стоимость старта — бесплатно.\n",
    "\n",
    "**Проделанная работа.** \n",
    "1. Загрузка данных\n",
    "- Были загружены данные и изучены общие информации.  \n",
    "2. Предобработка данных\n",
    "- Проверка типов данных, наличие дубликатов с последующим их удалением и добавление столбца с номер порядкового месяца. \n",
    "3. Исследовательский анализ данных. \n",
    "- частота встречаемости городов. В таблице всего 8 городов из которых в топ-3 входят Пятигорск (14.3%), Екатеринбург (13.3%) и Ростов-на-Дону (12.91%)\n",
    "- соотношение пользователей с подпиской и без подписки. Без подписки - 54.43%, платные - 45.57%\n",
    "- Возраст пользователей. Возраст пользователей разные и варьируется 12 - 43 лет. Возраст самых частых пользователей находиться в отрезке 22 - 28 лет.\n",
    "- Расстояние, которое пользователь преодолел за одну поездку - составляет в среднем 3070 м, медиана 3133м. \n",
    "- Продолжительность поездок. Средняя и медиана почти одинакова, по 17,7 минут, почти 18 минут. В гистограмме, что диапазон времени поездки входят от 10 мин до 25 мин.  \n",
    "4. Объединение данных\n",
    "- Объедините данные о пользователях в один датафрейм.\n",
    "- Разделить на 2 датафрейма данными о пользователях с/без подписки.\n",
    "- Визуализируйте информацию о расстоянии и времени поездок для пользователей обеих категорий. Удаление аномалий. Для 6500 единиц подписчиков: расстояние среднее - 3115м, медианное - 3148м; время поездки среднее - 17,4мин, медианное - 17,3мин. Для 11473 пользователей без подписки расстояние среднее - 3028м, медианное - 3102м; время поездки среднее - 17,5 мин, медианное - 17,4 мин\n",
    "5. Подсчёт выручки. Месячная выручка подсчитана. \n",
    "6. Проверка гипотез.\n",
    "- тратят ли пользователи с подпиской больше времени на поездки? Были проведены гипотезы и  выяснилось, что нулевая гипотеза отвергается: средняя продолжительность поездки у пользователей с подпиской отличается от без подписки.\n",
    "Без подписки в среднем - 30,5 мин и в медиане - 26 мин, суммарное время пользование - 207 тыс мин.\n",
    "С подпиской в среднем - 27,3 мин и в медиане - 22 мин, суммарное время пользование - 124 тыс мин. \n",
    "- Можно ли сказать, что среднее расстояние, которое проезжают пользователи с подпиской за одну поездку, не превышает 3130 м? Были проведены гипотезы и  выяснилось, что нулевая гипотеза не отвергается: Среднее расстояние не больше 3130 метров. Среднее расстояние, которое проезжают пользователи с подпиской за одну поездку, не превышает 3130 метров! \n",
    "- Проверьте гипотезу о том, будет ли помесячная выручка от пользователей с подпиской по месяцам выше, чем выручка от пользователей без подписки? Были проведены гипотезы и  выяснилось, что нулевая гипотеза отвергается: p-значение 1.957394033609321e-30 Отвергаем нулевую гипотезу. Средняя выручка от пользователей с подпиской больше средней выручки от пользователей без подписки. \n",
    "Средняя выручка пользователей с подпиской действительно выше, чем у пользователей без подписки. С подпиской: средняя - 362 руб, медиана - 331 руб, без подписки: средняя - 329 руб, медиана - 274 руб\n",
    "\n",
    "\n",
    "\n",
    "**Итог.** \n",
    "\n",
    "Подписчики показывают более высокие показатели по выручке, но тратят меньше времени на поездки и преодолевают меньшее расстояние по сравнению с пользователями без подписки. По этой причине, увеличивать количество подписчиков прямо пропорционально увеличению дохода. "
   ]
  }
 ],
 "metadata": {
  "ExecuteTimeLog": [
   {
    "duration": 1360,
    "start_time": "2025-01-27T04:32:54.614Z"
   },
   {
    "duration": 55,
    "start_time": "2025-01-27T04:34:43.487Z"
   },
   {
    "duration": 65,
    "start_time": "2025-01-27T04:34:54.865Z"
   },
   {
    "duration": 67,
    "start_time": "2025-01-27T04:35:34.960Z"
   },
   {
    "duration": 97,
    "start_time": "2025-01-27T04:35:56.215Z"
   },
   {
    "duration": 122,
    "start_time": "2025-01-27T04:36:33.801Z"
   },
   {
    "duration": 119,
    "start_time": "2025-01-27T04:37:11.823Z"
   },
   {
    "duration": 140,
    "start_time": "2025-01-27T04:37:34.376Z"
   },
   {
    "duration": 110,
    "start_time": "2025-01-27T04:39:12.313Z"
   },
   {
    "duration": 101,
    "start_time": "2025-01-27T04:40:02.078Z"
   },
   {
    "duration": 115,
    "start_time": "2025-01-27T04:58:29.605Z"
   },
   {
    "duration": 18,
    "start_time": "2025-01-27T04:58:42.614Z"
   },
   {
    "duration": 101,
    "start_time": "2025-01-27T05:24:36.292Z"
   },
   {
    "duration": 22,
    "start_time": "2025-01-27T05:25:02.535Z"
   },
   {
    "duration": 10,
    "start_time": "2025-01-27T05:27:52.425Z"
   },
   {
    "duration": 7,
    "start_time": "2025-01-27T05:28:27.828Z"
   },
   {
    "duration": 7,
    "start_time": "2025-01-27T05:28:51.482Z"
   },
   {
    "duration": 27,
    "start_time": "2025-01-27T05:29:13.851Z"
   },
   {
    "duration": 10,
    "start_time": "2025-01-27T05:29:47.985Z"
   },
   {
    "duration": 8,
    "start_time": "2025-01-27T05:29:55.932Z"
   },
   {
    "duration": 12,
    "start_time": "2025-01-27T05:30:23.012Z"
   },
   {
    "duration": 8,
    "start_time": "2025-01-27T05:32:22.241Z"
   },
   {
    "duration": 5,
    "start_time": "2025-01-27T05:32:28.008Z"
   },
   {
    "duration": 12,
    "start_time": "2025-01-27T05:32:31.120Z"
   },
   {
    "duration": 24,
    "start_time": "2025-01-27T05:35:27.001Z"
   },
   {
    "duration": 17,
    "start_time": "2025-01-27T05:35:27.476Z"
   },
   {
    "duration": 28,
    "start_time": "2025-01-27T05:35:27.961Z"
   },
   {
    "duration": 7,
    "start_time": "2025-01-27T05:35:28.239Z"
   },
   {
    "duration": 2,
    "start_time": "2025-01-27T05:35:40.009Z"
   },
   {
    "duration": 111,
    "start_time": "2025-01-27T05:35:40.575Z"
   },
   {
    "duration": 20,
    "start_time": "2025-01-27T05:35:41.275Z"
   },
   {
    "duration": 10,
    "start_time": "2025-01-27T05:35:41.629Z"
   },
   {
    "duration": 13,
    "start_time": "2025-01-27T05:35:42.108Z"
   },
   {
    "duration": 19,
    "start_time": "2025-01-27T05:35:42.454Z"
   },
   {
    "duration": 8,
    "start_time": "2025-01-27T05:37:58.812Z"
   },
   {
    "duration": 5,
    "start_time": "2025-01-27T05:38:23.889Z"
   },
   {
    "duration": 20,
    "start_time": "2025-01-27T05:41:05.391Z"
   },
   {
    "duration": 14,
    "start_time": "2025-01-27T05:41:41.110Z"
   },
   {
    "duration": 12,
    "start_time": "2025-01-27T05:44:40.094Z"
   },
   {
    "duration": 168,
    "start_time": "2025-01-27T05:45:05.170Z"
   },
   {
    "duration": 163,
    "start_time": "2025-01-27T05:45:39.910Z"
   },
   {
    "duration": 155,
    "start_time": "2025-01-27T05:48:28.815Z"
   },
   {
    "duration": 167,
    "start_time": "2025-01-27T05:49:55.126Z"
   },
   {
    "duration": 156,
    "start_time": "2025-01-27T05:50:14.242Z"
   },
   {
    "duration": 11,
    "start_time": "2025-01-27T05:50:53.980Z"
   },
   {
    "duration": 22,
    "start_time": "2025-01-27T05:51:26.945Z"
   },
   {
    "duration": 161,
    "start_time": "2025-01-27T05:52:10.307Z"
   },
   {
    "duration": 157,
    "start_time": "2025-01-27T05:52:20.407Z"
   },
   {
    "duration": 149,
    "start_time": "2025-01-27T05:52:25.618Z"
   },
   {
    "duration": 213,
    "start_time": "2025-01-27T05:52:29.514Z"
   },
   {
    "duration": 143,
    "start_time": "2025-01-27T05:52:34.472Z"
   },
   {
    "duration": 3,
    "start_time": "2025-01-27T12:38:27.232Z"
   },
   {
    "duration": 104,
    "start_time": "2025-01-27T12:38:28.440Z"
   },
   {
    "duration": 21,
    "start_time": "2025-01-27T12:38:29.866Z"
   },
   {
    "duration": 11,
    "start_time": "2025-01-27T12:38:30.401Z"
   },
   {
    "duration": 13,
    "start_time": "2025-01-27T12:38:31.027Z"
   },
   {
    "duration": 7,
    "start_time": "2025-01-27T12:38:31.280Z"
   },
   {
    "duration": 166,
    "start_time": "2025-01-27T12:38:32.190Z"
   },
   {
    "duration": 135,
    "start_time": "2025-01-27T12:38:33.051Z"
   },
   {
    "duration": 12,
    "start_time": "2025-01-27T12:39:02.272Z"
   },
   {
    "duration": 16,
    "start_time": "2025-01-27T12:39:45.871Z"
   },
   {
    "duration": 214,
    "start_time": "2025-01-27T12:40:08.879Z"
   },
   {
    "duration": 277,
    "start_time": "2025-01-27T12:40:40.599Z"
   },
   {
    "duration": 191,
    "start_time": "2025-01-27T12:40:56.953Z"
   },
   {
    "duration": 163,
    "start_time": "2025-01-27T12:41:12.662Z"
   },
   {
    "duration": 161,
    "start_time": "2025-01-27T12:41:18.064Z"
   },
   {
    "duration": 175,
    "start_time": "2025-01-27T12:41:53.671Z"
   },
   {
    "duration": 14,
    "start_time": "2025-01-27T12:42:31.876Z"
   },
   {
    "duration": 20,
    "start_time": "2025-01-27T12:43:31.718Z"
   },
   {
    "duration": 10,
    "start_time": "2025-01-27T12:43:44.331Z"
   },
   {
    "duration": 118,
    "start_time": "2025-01-27T12:44:38.167Z"
   },
   {
    "duration": 12,
    "start_time": "2025-01-27T12:45:34.970Z"
   },
   {
    "duration": 4,
    "start_time": "2025-01-27T12:47:11.677Z"
   },
   {
    "duration": 13,
    "start_time": "2025-01-27T12:47:17.174Z"
   },
   {
    "duration": 14,
    "start_time": "2025-01-27T12:48:02.616Z"
   },
   {
    "duration": 17,
    "start_time": "2025-01-27T12:48:06.883Z"
   },
   {
    "duration": 13,
    "start_time": "2025-01-27T12:48:13.248Z"
   },
   {
    "duration": 4,
    "start_time": "2025-01-27T13:05:17.272Z"
   },
   {
    "duration": 104,
    "start_time": "2025-01-27T13:05:17.757Z"
   },
   {
    "duration": 23,
    "start_time": "2025-01-27T13:05:18.462Z"
   },
   {
    "duration": 10,
    "start_time": "2025-01-27T13:05:18.835Z"
   },
   {
    "duration": 14,
    "start_time": "2025-01-27T13:05:19.379Z"
   },
   {
    "duration": 8,
    "start_time": "2025-01-27T13:05:19.448Z"
   },
   {
    "duration": 157,
    "start_time": "2025-01-27T13:05:19.537Z"
   },
   {
    "duration": 137,
    "start_time": "2025-01-27T13:05:19.696Z"
   },
   {
    "duration": 189,
    "start_time": "2025-01-27T13:05:19.834Z"
   },
   {
    "duration": 134,
    "start_time": "2025-01-27T13:05:20.024Z"
   },
   {
    "duration": 14,
    "start_time": "2025-01-27T13:05:20.159Z"
   },
   {
    "duration": 20,
    "start_time": "2025-01-27T13:05:48.053Z"
   },
   {
    "duration": 9,
    "start_time": "2025-01-27T13:05:55.590Z"
   },
   {
    "duration": 100,
    "start_time": "2025-01-27T13:06:51.381Z"
   },
   {
    "duration": 227,
    "start_time": "2025-01-27T13:07:01.507Z"
   },
   {
    "duration": 177,
    "start_time": "2025-01-27T13:08:14.222Z"
   },
   {
    "duration": 179,
    "start_time": "2025-01-27T13:08:25.031Z"
   },
   {
    "duration": 10,
    "start_time": "2025-01-27T13:20:01.750Z"
   },
   {
    "duration": 8,
    "start_time": "2025-01-27T13:20:07.856Z"
   },
   {
    "duration": 20,
    "start_time": "2025-01-27T13:20:18.582Z"
   },
   {
    "duration": 96,
    "start_time": "2025-01-27T13:25:17.925Z"
   },
   {
    "duration": 17,
    "start_time": "2025-01-27T13:25:24.587Z"
   },
   {
    "duration": 30,
    "start_time": "2025-01-27T13:25:32.867Z"
   },
   {
    "duration": 80,
    "start_time": "2025-01-27T13:39:01.443Z"
   },
   {
    "duration": 9,
    "start_time": "2025-01-27T13:39:06.114Z"
   },
   {
    "duration": 23,
    "start_time": "2025-01-27T13:39:28.077Z"
   },
   {
    "duration": 23,
    "start_time": "2025-01-27T13:39:48.289Z"
   },
   {
    "duration": 53,
    "start_time": "2025-01-27T16:57:25.747Z"
   },
   {
    "duration": 1306,
    "start_time": "2025-01-27T16:57:31.739Z"
   },
   {
    "duration": 121,
    "start_time": "2025-01-27T16:57:33.047Z"
   },
   {
    "duration": 28,
    "start_time": "2025-01-27T16:57:33.170Z"
   },
   {
    "duration": 15,
    "start_time": "2025-01-27T16:57:33.603Z"
   },
   {
    "duration": 13,
    "start_time": "2025-01-27T16:57:34.175Z"
   },
   {
    "duration": 10,
    "start_time": "2025-01-27T16:57:34.581Z"
   },
   {
    "duration": 210,
    "start_time": "2025-01-27T16:57:36.786Z"
   },
   {
    "duration": 188,
    "start_time": "2025-01-27T17:01:01.647Z"
   },
   {
    "duration": 209,
    "start_time": "2025-01-27T17:02:42.249Z"
   },
   {
    "duration": 211,
    "start_time": "2025-01-27T17:02:54.966Z"
   },
   {
    "duration": 202,
    "start_time": "2025-01-27T17:03:14.900Z"
   },
   {
    "duration": 219,
    "start_time": "2025-01-27T17:03:23.481Z"
   },
   {
    "duration": 187,
    "start_time": "2025-01-27T17:04:22.567Z"
   },
   {
    "duration": 1011,
    "start_time": "2025-01-27T17:04:41.097Z"
   },
   {
    "duration": 205,
    "start_time": "2025-01-27T17:04:45.820Z"
   },
   {
    "duration": 215,
    "start_time": "2025-01-27T17:06:18.743Z"
   },
   {
    "duration": 118,
    "start_time": "2025-01-27T17:07:52.571Z"
   },
   {
    "duration": 120,
    "start_time": "2025-01-27T17:08:51.339Z"
   },
   {
    "duration": 141,
    "start_time": "2025-01-27T17:27:45.572Z"
   },
   {
    "duration": 210,
    "start_time": "2025-01-27T17:27:48.944Z"
   },
   {
    "duration": 34,
    "start_time": "2025-01-27T17:27:56.062Z"
   },
   {
    "duration": 31,
    "start_time": "2025-01-27T17:28:05.391Z"
   },
   {
    "duration": 11,
    "start_time": "2025-01-27T17:28:33.700Z"
   },
   {
    "duration": 10,
    "start_time": "2025-01-27T17:30:28.397Z"
   },
   {
    "duration": 12,
    "start_time": "2025-01-27T17:30:58.849Z"
   },
   {
    "duration": 14,
    "start_time": "2025-01-27T17:31:12.719Z"
   },
   {
    "duration": 31,
    "start_time": "2025-01-27T17:39:05.424Z"
   },
   {
    "duration": 31,
    "start_time": "2025-01-27T17:40:07.035Z"
   },
   {
    "duration": 8080,
    "start_time": "2025-01-27T17:41:25.289Z"
   },
   {
    "duration": 4,
    "start_time": "2025-01-27T17:41:45.318Z"
   },
   {
    "duration": 100,
    "start_time": "2025-01-27T17:41:45.423Z"
   },
   {
    "duration": 20,
    "start_time": "2025-01-27T17:41:45.528Z"
   },
   {
    "duration": 11,
    "start_time": "2025-01-27T17:41:45.590Z"
   },
   {
    "duration": 13,
    "start_time": "2025-01-27T17:41:45.657Z"
   },
   {
    "duration": 7,
    "start_time": "2025-01-27T17:41:45.685Z"
   },
   {
    "duration": 206,
    "start_time": "2025-01-27T17:41:45.813Z"
   },
   {
    "duration": 139,
    "start_time": "2025-01-27T17:41:46.021Z"
   },
   {
    "duration": 205,
    "start_time": "2025-01-27T17:41:46.162Z"
   },
   {
    "duration": 161,
    "start_time": "2025-01-27T17:41:46.369Z"
   },
   {
    "duration": 196,
    "start_time": "2025-01-27T17:41:46.863Z"
   },
   {
    "duration": 32,
    "start_time": "2025-01-27T17:41:47.870Z"
   },
   {
    "duration": 30,
    "start_time": "2025-01-27T17:41:48.481Z"
   },
   {
    "duration": 8653,
    "start_time": "2025-01-27T17:41:49.488Z"
   },
   {
    "duration": 8624,
    "start_time": "2025-01-27T17:42:11.621Z"
   },
   {
    "duration": 124,
    "start_time": "2025-01-27T17:44:09.800Z"
   },
   {
    "duration": 152,
    "start_time": "2025-01-27T17:44:45.891Z"
   },
   {
    "duration": 778,
    "start_time": "2025-01-27T17:45:04.727Z"
   },
   {
    "duration": 1539,
    "start_time": "2025-01-28T03:45:44.301Z"
   },
   {
    "duration": 118,
    "start_time": "2025-01-28T03:45:45.842Z"
   },
   {
    "duration": 19,
    "start_time": "2025-01-28T03:45:45.961Z"
   },
   {
    "duration": 10,
    "start_time": "2025-01-28T03:45:45.982Z"
   },
   {
    "duration": 86,
    "start_time": "2025-01-28T03:45:45.994Z"
   },
   {
    "duration": 7,
    "start_time": "2025-01-28T03:45:46.081Z"
   },
   {
    "duration": 246,
    "start_time": "2025-01-28T03:45:46.090Z"
   },
   {
    "duration": 131,
    "start_time": "2025-01-28T03:45:46.338Z"
   },
   {
    "duration": 181,
    "start_time": "2025-01-28T03:45:46.470Z"
   },
   {
    "duration": 135,
    "start_time": "2025-01-28T03:45:46.654Z"
   },
   {
    "duration": 193,
    "start_time": "2025-01-28T03:45:46.790Z"
   },
   {
    "duration": 38,
    "start_time": "2025-01-28T03:45:46.985Z"
   },
   {
    "duration": 33,
    "start_time": "2025-01-28T03:45:47.025Z"
   },
   {
    "duration": 175,
    "start_time": "2025-01-28T03:45:47.060Z"
   },
   {
    "duration": 16,
    "start_time": "2025-01-28T03:45:47.237Z"
   },
   {
    "duration": 112,
    "start_time": "2025-01-28T05:18:28.675Z"
   },
   {
    "duration": 56,
    "start_time": "2025-01-28T05:18:56.568Z"
   },
   {
    "duration": 104,
    "start_time": "2025-01-28T05:18:57.421Z"
   },
   {
    "duration": 19,
    "start_time": "2025-01-28T05:18:57.537Z"
   },
   {
    "duration": 10,
    "start_time": "2025-01-28T05:18:57.601Z"
   },
   {
    "duration": 13,
    "start_time": "2025-01-28T05:18:57.672Z"
   },
   {
    "duration": 7,
    "start_time": "2025-01-28T05:18:57.690Z"
   },
   {
    "duration": 198,
    "start_time": "2025-01-28T05:18:57.823Z"
   },
   {
    "duration": 185,
    "start_time": "2025-01-28T05:18:58.023Z"
   },
   {
    "duration": 200,
    "start_time": "2025-01-28T05:18:58.209Z"
   },
   {
    "duration": 119,
    "start_time": "2025-01-28T05:18:58.629Z"
   },
   {
    "duration": 176,
    "start_time": "2025-01-28T05:18:59.245Z"
   },
   {
    "duration": 30,
    "start_time": "2025-01-28T05:19:00.060Z"
   },
   {
    "duration": 28,
    "start_time": "2025-01-28T05:19:00.515Z"
   },
   {
    "duration": 131,
    "start_time": "2025-01-28T05:19:01.682Z"
   },
   {
    "duration": 537,
    "start_time": "2025-01-28T05:19:02.217Z"
   },
   {
    "duration": 340,
    "start_time": "2025-01-28T05:21:09.195Z"
   },
   {
    "duration": 489,
    "start_time": "2025-01-28T08:00:54.543Z"
   },
   {
    "duration": 455,
    "start_time": "2025-01-28T08:01:25.344Z"
   },
   {
    "duration": 20,
    "start_time": "2025-01-28T08:23:07.230Z"
   },
   {
    "duration": 18,
    "start_time": "2025-01-28T08:24:24.788Z"
   },
   {
    "duration": 18,
    "start_time": "2025-01-28T08:24:57.745Z"
   },
   {
    "duration": 22,
    "start_time": "2025-01-28T08:25:55.316Z"
   },
   {
    "duration": 18,
    "start_time": "2025-01-28T08:26:09.043Z"
   },
   {
    "duration": 24,
    "start_time": "2025-01-28T08:27:31.941Z"
   },
   {
    "duration": 18,
    "start_time": "2025-01-28T08:28:32.540Z"
   },
   {
    "duration": 61,
    "start_time": "2025-01-28T08:28:56.783Z"
   },
   {
    "duration": 61,
    "start_time": "2025-01-28T08:29:06.771Z"
   },
   {
    "duration": 24,
    "start_time": "2025-01-28T08:29:26.100Z"
   },
   {
    "duration": 24,
    "start_time": "2025-01-28T08:31:26.133Z"
   },
   {
    "duration": 363,
    "start_time": "2025-01-28T08:34:07.838Z"
   },
   {
    "duration": 346,
    "start_time": "2025-01-28T08:34:16.294Z"
   },
   {
    "duration": 444,
    "start_time": "2025-01-28T08:34:38.482Z"
   },
   {
    "duration": 470,
    "start_time": "2025-01-28T08:35:10.513Z"
   },
   {
    "duration": 23,
    "start_time": "2025-01-28T08:36:10.067Z"
   },
   {
    "duration": 17,
    "start_time": "2025-01-28T08:39:45.699Z"
   },
   {
    "duration": 51,
    "start_time": "2025-01-28T08:40:21.432Z"
   },
   {
    "duration": 42,
    "start_time": "2025-01-28T08:44:40.014Z"
   },
   {
    "duration": 44,
    "start_time": "2025-01-28T08:44:46.145Z"
   },
   {
    "duration": 58,
    "start_time": "2025-01-28T08:45:31.361Z"
   },
   {
    "duration": 18,
    "start_time": "2025-01-28T08:46:24.913Z"
   },
   {
    "duration": 16,
    "start_time": "2025-01-28T08:48:21.285Z"
   },
   {
    "duration": 25,
    "start_time": "2025-01-28T08:48:29.903Z"
   },
   {
    "duration": 23,
    "start_time": "2025-01-28T08:51:07.676Z"
   },
   {
    "duration": 43,
    "start_time": "2025-01-28T08:51:18.417Z"
   },
   {
    "duration": 57,
    "start_time": "2025-01-28T08:51:24.203Z"
   },
   {
    "duration": 26,
    "start_time": "2025-01-28T08:55:40.815Z"
   },
   {
    "duration": 27,
    "start_time": "2025-01-28T08:56:10.918Z"
   },
   {
    "duration": 25,
    "start_time": "2025-01-28T08:56:21.339Z"
   },
   {
    "duration": 44,
    "start_time": "2025-01-28T09:00:14.607Z"
   },
   {
    "duration": 67,
    "start_time": "2025-01-28T09:00:21.671Z"
   },
   {
    "duration": 69,
    "start_time": "2025-01-28T09:01:10.668Z"
   },
   {
    "duration": 0,
    "start_time": "2025-01-28T09:21:55.473Z"
   },
   {
    "duration": 0,
    "start_time": "2025-01-28T09:21:55.475Z"
   },
   {
    "duration": 0,
    "start_time": "2025-01-28T09:21:55.476Z"
   },
   {
    "duration": 0,
    "start_time": "2025-01-28T09:21:55.477Z"
   },
   {
    "duration": 0,
    "start_time": "2025-01-28T09:21:55.478Z"
   },
   {
    "duration": 0,
    "start_time": "2025-01-28T09:21:55.480Z"
   },
   {
    "duration": 0,
    "start_time": "2025-01-28T09:21:55.481Z"
   },
   {
    "duration": 0,
    "start_time": "2025-01-28T09:21:55.483Z"
   },
   {
    "duration": 0,
    "start_time": "2025-01-28T09:21:55.484Z"
   },
   {
    "duration": 0,
    "start_time": "2025-01-28T09:21:55.485Z"
   },
   {
    "duration": 0,
    "start_time": "2025-01-28T09:21:55.487Z"
   },
   {
    "duration": 1314,
    "start_time": "2025-01-28T09:55:58.704Z"
   },
   {
    "duration": 217,
    "start_time": "2025-01-28T09:56:00.020Z"
   },
   {
    "duration": 19,
    "start_time": "2025-01-28T09:56:00.238Z"
   },
   {
    "duration": 11,
    "start_time": "2025-01-28T09:56:00.259Z"
   },
   {
    "duration": 30,
    "start_time": "2025-01-28T09:56:00.271Z"
   },
   {
    "duration": 15,
    "start_time": "2025-01-28T09:56:00.302Z"
   },
   {
    "duration": 206,
    "start_time": "2025-01-28T09:56:00.319Z"
   },
   {
    "duration": 115,
    "start_time": "2025-01-28T09:56:00.526Z"
   },
   {
    "duration": 182,
    "start_time": "2025-01-28T09:56:00.643Z"
   },
   {
    "duration": 137,
    "start_time": "2025-01-28T09:56:00.827Z"
   },
   {
    "duration": 194,
    "start_time": "2025-01-28T09:56:00.966Z"
   },
   {
    "duration": 31,
    "start_time": "2025-01-28T09:56:01.162Z"
   },
   {
    "duration": 34,
    "start_time": "2025-01-28T09:56:01.194Z"
   },
   {
    "duration": 417,
    "start_time": "2025-01-28T09:56:01.229Z"
   },
   {
    "duration": 461,
    "start_time": "2025-01-28T09:56:01.648Z"
   },
   {
    "duration": 472,
    "start_time": "2025-01-28T09:56:02.111Z"
   },
   {
    "duration": 78,
    "start_time": "2025-01-28T09:56:02.584Z"
   },
   {
    "duration": 33,
    "start_time": "2025-01-28T09:57:08.630Z"
   },
   {
    "duration": 35,
    "start_time": "2025-01-28T09:57:18.190Z"
   },
   {
    "duration": 90,
    "start_time": "2025-01-28T09:58:29.844Z"
   },
   {
    "duration": 33,
    "start_time": "2025-01-28T09:58:34.357Z"
   },
   {
    "duration": 23,
    "start_time": "2025-01-28T09:59:45.281Z"
   },
   {
    "duration": 36,
    "start_time": "2025-01-28T09:59:52.858Z"
   },
   {
    "duration": 27,
    "start_time": "2025-01-28T10:01:48.439Z"
   },
   {
    "duration": 70,
    "start_time": "2025-01-28T10:02:33.650Z"
   },
   {
    "duration": 54,
    "start_time": "2025-01-28T10:12:49.152Z"
   },
   {
    "duration": 70,
    "start_time": "2025-01-28T10:13:13.904Z"
   },
   {
    "duration": 4,
    "start_time": "2025-01-28T10:13:24.241Z"
   },
   {
    "duration": 123,
    "start_time": "2025-01-28T10:13:24.335Z"
   },
   {
    "duration": 20,
    "start_time": "2025-01-28T10:13:24.461Z"
   },
   {
    "duration": 11,
    "start_time": "2025-01-28T10:13:24.519Z"
   },
   {
    "duration": 13,
    "start_time": "2025-01-28T10:13:24.595Z"
   },
   {
    "duration": 7,
    "start_time": "2025-01-28T10:13:24.662Z"
   },
   {
    "duration": 197,
    "start_time": "2025-01-28T10:13:24.736Z"
   },
   {
    "duration": 129,
    "start_time": "2025-01-28T10:13:24.934Z"
   },
   {
    "duration": 224,
    "start_time": "2025-01-28T10:13:25.065Z"
   },
   {
    "duration": 144,
    "start_time": "2025-01-28T10:13:25.291Z"
   },
   {
    "duration": 208,
    "start_time": "2025-01-28T10:13:26.004Z"
   },
   {
    "duration": 29,
    "start_time": "2025-01-28T10:13:26.707Z"
   },
   {
    "duration": 27,
    "start_time": "2025-01-28T10:13:27.099Z"
   },
   {
    "duration": 373,
    "start_time": "2025-01-28T10:13:27.697Z"
   },
   {
    "duration": 531,
    "start_time": "2025-01-28T10:13:28.073Z"
   },
   {
    "duration": 497,
    "start_time": "2025-01-28T10:13:28.606Z"
   },
   {
    "duration": 61,
    "start_time": "2025-01-28T10:13:31.052Z"
   },
   {
    "duration": 49,
    "start_time": "2025-01-28T10:15:14.511Z"
   },
   {
    "duration": 56,
    "start_time": "2025-01-28T10:15:41.682Z"
   },
   {
    "duration": 55,
    "start_time": "2025-01-28T10:15:48.597Z"
   },
   {
    "duration": 3,
    "start_time": "2025-01-28T10:18:20.454Z"
   },
   {
    "duration": 28,
    "start_time": "2025-01-28T10:18:20.838Z"
   },
   {
    "duration": 26,
    "start_time": "2025-01-28T10:18:32.522Z"
   },
   {
    "duration": 372,
    "start_time": "2025-01-28T10:18:33.344Z"
   },
   {
    "duration": 503,
    "start_time": "2025-01-28T10:18:33.718Z"
   },
   {
    "duration": 488,
    "start_time": "2025-01-28T10:18:34.222Z"
   },
   {
    "duration": 139,
    "start_time": "2025-01-28T10:18:34.713Z"
   },
   {
    "duration": 87,
    "start_time": "2025-01-28T10:24:14.295Z"
   },
   {
    "duration": 93,
    "start_time": "2025-01-28T10:24:27.815Z"
   },
   {
    "duration": 5,
    "start_time": "2025-01-28T10:24:32.135Z"
   },
   {
    "duration": 23,
    "start_time": "2025-01-28T10:26:47.693Z"
   },
   {
    "duration": 18,
    "start_time": "2025-01-28T10:32:49.904Z"
   },
   {
    "duration": 14,
    "start_time": "2025-01-28T10:34:23.140Z"
   },
   {
    "duration": 1458,
    "start_time": "2025-01-28T10:34:44.129Z"
   },
   {
    "duration": 15,
    "start_time": "2025-01-28T10:35:04.918Z"
   },
   {
    "duration": 728,
    "start_time": "2025-01-28T10:35:21.858Z"
   },
   {
    "duration": 16,
    "start_time": "2025-01-28T10:35:55.298Z"
   },
   {
    "duration": 28,
    "start_time": "2025-01-28T10:36:17.956Z"
   },
   {
    "duration": 269,
    "start_time": "2025-01-28T10:36:58.562Z"
   },
   {
    "duration": 638,
    "start_time": "2025-01-28T10:37:32.109Z"
   },
   {
    "duration": 1258,
    "start_time": "2025-01-28T12:19:33.736Z"
   },
   {
    "duration": 451,
    "start_time": "2025-01-28T12:19:38.971Z"
   },
   {
    "duration": 449,
    "start_time": "2025-01-28T12:19:51.577Z"
   },
   {
    "duration": 594,
    "start_time": "2025-01-28T12:20:09.866Z"
   },
   {
    "duration": 489,
    "start_time": "2025-01-28T12:21:15.062Z"
   },
   {
    "duration": 465,
    "start_time": "2025-01-28T12:21:36.238Z"
   },
   {
    "duration": 466,
    "start_time": "2025-01-28T12:22:11.023Z"
   },
   {
    "duration": 3,
    "start_time": "2025-01-28T12:31:28.003Z"
   },
   {
    "duration": 92,
    "start_time": "2025-01-28T12:31:28.106Z"
   },
   {
    "duration": 18,
    "start_time": "2025-01-28T12:31:28.220Z"
   },
   {
    "duration": 11,
    "start_time": "2025-01-28T12:31:28.280Z"
   },
   {
    "duration": 13,
    "start_time": "2025-01-28T12:31:28.353Z"
   },
   {
    "duration": 7,
    "start_time": "2025-01-28T12:31:28.422Z"
   },
   {
    "duration": 186,
    "start_time": "2025-01-28T12:31:28.513Z"
   },
   {
    "duration": 126,
    "start_time": "2025-01-28T12:31:28.701Z"
   },
   {
    "duration": 361,
    "start_time": "2025-01-28T12:31:28.829Z"
   },
   {
    "duration": 131,
    "start_time": "2025-01-28T12:31:29.192Z"
   },
   {
    "duration": 193,
    "start_time": "2025-01-28T12:31:29.324Z"
   },
   {
    "duration": 4,
    "start_time": "2025-01-28T12:31:29.518Z"
   },
   {
    "duration": 40,
    "start_time": "2025-01-28T12:31:29.524Z"
   },
   {
    "duration": 26,
    "start_time": "2025-01-28T12:31:29.565Z"
   },
   {
    "duration": 369,
    "start_time": "2025-01-28T12:31:29.593Z"
   },
   {
    "duration": 494,
    "start_time": "2025-01-28T12:31:29.963Z"
   },
   {
    "duration": 472,
    "start_time": "2025-01-28T12:31:30.459Z"
   },
   {
    "duration": 49,
    "start_time": "2025-01-28T12:31:31.643Z"
   },
   {
    "duration": 18,
    "start_time": "2025-01-28T12:31:33.807Z"
   },
   {
    "duration": 478,
    "start_time": "2025-01-28T12:31:35.983Z"
   },
   {
    "duration": 3,
    "start_time": "2025-01-28T12:34:20.448Z"
   },
   {
    "duration": 101,
    "start_time": "2025-01-28T12:34:20.536Z"
   },
   {
    "duration": 18,
    "start_time": "2025-01-28T12:34:20.651Z"
   },
   {
    "duration": 10,
    "start_time": "2025-01-28T12:34:20.725Z"
   },
   {
    "duration": 12,
    "start_time": "2025-01-28T12:34:20.795Z"
   },
   {
    "duration": 8,
    "start_time": "2025-01-28T12:34:20.864Z"
   },
   {
    "duration": 227,
    "start_time": "2025-01-28T12:34:20.954Z"
   },
   {
    "duration": 122,
    "start_time": "2025-01-28T12:34:21.183Z"
   },
   {
    "duration": 185,
    "start_time": "2025-01-28T12:34:21.307Z"
   },
   {
    "duration": 154,
    "start_time": "2025-01-28T12:34:21.494Z"
   },
   {
    "duration": 203,
    "start_time": "2025-01-28T12:34:21.650Z"
   },
   {
    "duration": 30,
    "start_time": "2025-01-28T12:34:21.858Z"
   },
   {
    "duration": 27,
    "start_time": "2025-01-28T12:34:21.890Z"
   },
   {
    "duration": 383,
    "start_time": "2025-01-28T12:34:21.919Z"
   },
   {
    "duration": 696,
    "start_time": "2025-01-28T12:34:22.304Z"
   },
   {
    "duration": 478,
    "start_time": "2025-01-28T12:34:23.002Z"
   },
   {
    "duration": 51,
    "start_time": "2025-01-28T12:34:23.481Z"
   },
   {
    "duration": 39,
    "start_time": "2025-01-28T12:34:23.534Z"
   },
   {
    "duration": 493,
    "start_time": "2025-01-28T12:34:23.575Z"
   },
   {
    "duration": 464,
    "start_time": "2025-01-28T12:38:06.140Z"
   },
   {
    "duration": 468,
    "start_time": "2025-01-28T12:38:50.768Z"
   },
   {
    "duration": 1469,
    "start_time": "2025-01-28T15:23:33.735Z"
   },
   {
    "duration": 304,
    "start_time": "2025-01-28T15:23:35.206Z"
   },
   {
    "duration": 20,
    "start_time": "2025-01-28T15:23:35.511Z"
   },
   {
    "duration": 29,
    "start_time": "2025-01-28T15:23:35.533Z"
   },
   {
    "duration": 42,
    "start_time": "2025-01-28T15:23:35.564Z"
   },
   {
    "duration": 30,
    "start_time": "2025-01-28T15:23:35.607Z"
   },
   {
    "duration": 258,
    "start_time": "2025-01-28T15:23:35.638Z"
   },
   {
    "duration": 140,
    "start_time": "2025-01-28T15:23:35.898Z"
   },
   {
    "duration": 200,
    "start_time": "2025-01-28T15:23:36.039Z"
   },
   {
    "duration": 145,
    "start_time": "2025-01-28T15:23:36.242Z"
   },
   {
    "duration": 222,
    "start_time": "2025-01-28T15:23:36.388Z"
   },
   {
    "duration": 34,
    "start_time": "2025-01-28T15:23:36.612Z"
   },
   {
    "duration": 52,
    "start_time": "2025-01-28T15:23:36.647Z"
   },
   {
    "duration": 454,
    "start_time": "2025-01-28T15:23:36.700Z"
   },
   {
    "duration": 543,
    "start_time": "2025-01-28T15:23:37.156Z"
   },
   {
    "duration": 547,
    "start_time": "2025-01-28T15:23:37.701Z"
   },
   {
    "duration": 132,
    "start_time": "2025-01-28T15:23:38.258Z"
   },
   {
    "duration": 31,
    "start_time": "2025-01-28T15:23:38.392Z"
   },
   {
    "duration": 560,
    "start_time": "2025-01-28T15:23:38.424Z"
   },
   {
    "duration": 6,
    "start_time": "2025-01-28T15:40:27.807Z"
   },
   {
    "duration": 8,
    "start_time": "2025-01-28T15:42:02.845Z"
   },
   {
    "duration": 6,
    "start_time": "2025-01-28T15:42:16.339Z"
   },
   {
    "duration": 6,
    "start_time": "2025-01-28T15:42:42.436Z"
   },
   {
    "duration": 6,
    "start_time": "2025-01-28T15:43:47.587Z"
   },
   {
    "duration": 5,
    "start_time": "2025-01-28T15:43:53.550Z"
   },
   {
    "duration": 5,
    "start_time": "2025-01-28T15:44:16.269Z"
   },
   {
    "duration": 7,
    "start_time": "2025-01-28T15:44:29.894Z"
   },
   {
    "duration": 6,
    "start_time": "2025-01-28T15:44:37.966Z"
   },
   {
    "duration": 8,
    "start_time": "2025-01-28T15:46:00.391Z"
   },
   {
    "duration": 6,
    "start_time": "2025-01-28T16:18:40.148Z"
   },
   {
    "duration": 5,
    "start_time": "2025-01-28T16:18:49.031Z"
   },
   {
    "duration": 5,
    "start_time": "2025-01-28T16:18:58.898Z"
   },
   {
    "duration": 12,
    "start_time": "2025-01-28T16:21:02.847Z"
   },
   {
    "duration": 13,
    "start_time": "2025-01-28T16:21:11.964Z"
   },
   {
    "duration": 6,
    "start_time": "2025-01-28T16:29:10.768Z"
   },
   {
    "duration": 13,
    "start_time": "2025-01-28T16:30:04.841Z"
   },
   {
    "duration": 6,
    "start_time": "2025-01-28T16:31:07.552Z"
   },
   {
    "duration": 6,
    "start_time": "2025-01-28T16:31:13.359Z"
   },
   {
    "duration": 5,
    "start_time": "2025-01-28T16:31:26.096Z"
   },
   {
    "duration": 6,
    "start_time": "2025-01-28T16:31:33.880Z"
   },
   {
    "duration": 6,
    "start_time": "2025-01-28T16:33:44.698Z"
   },
   {
    "duration": 22,
    "start_time": "2025-01-28T16:34:43.753Z"
   },
   {
    "duration": 55,
    "start_time": "2025-01-28T16:47:27.411Z"
   },
   {
    "duration": 53,
    "start_time": "2025-01-29T15:38:51.445Z"
   },
   {
    "duration": 1364,
    "start_time": "2025-01-29T15:39:00.915Z"
   },
   {
    "duration": 118,
    "start_time": "2025-01-29T15:39:02.281Z"
   },
   {
    "duration": 32,
    "start_time": "2025-01-29T15:39:02.400Z"
   },
   {
    "duration": 69,
    "start_time": "2025-01-29T15:39:02.435Z"
   },
   {
    "duration": 60,
    "start_time": "2025-01-29T15:39:02.507Z"
   },
   {
    "duration": 15,
    "start_time": "2025-01-29T15:39:02.569Z"
   },
   {
    "duration": 251,
    "start_time": "2025-01-29T15:39:02.585Z"
   },
   {
    "duration": 136,
    "start_time": "2025-01-29T15:39:02.837Z"
   },
   {
    "duration": 191,
    "start_time": "2025-01-29T15:39:02.975Z"
   },
   {
    "duration": 139,
    "start_time": "2025-01-29T15:39:03.168Z"
   },
   {
    "duration": 218,
    "start_time": "2025-01-29T15:39:03.309Z"
   },
   {
    "duration": 34,
    "start_time": "2025-01-29T15:39:04.566Z"
   },
   {
    "duration": 30,
    "start_time": "2025-01-29T15:39:04.622Z"
   },
   {
    "duration": 427,
    "start_time": "2025-01-29T15:39:04.714Z"
   },
   {
    "duration": 507,
    "start_time": "2025-01-29T15:39:05.143Z"
   },
   {
    "duration": 527,
    "start_time": "2025-01-29T15:39:05.652Z"
   },
   {
    "duration": 153,
    "start_time": "2025-01-29T15:39:06.181Z"
   },
   {
    "duration": 26,
    "start_time": "2025-01-29T15:39:06.335Z"
   },
   {
    "duration": 548,
    "start_time": "2025-01-29T15:39:06.362Z"
   },
   {
    "duration": 7,
    "start_time": "2025-01-29T15:39:06.912Z"
   },
   {
    "duration": 18,
    "start_time": "2025-01-29T15:39:06.933Z"
   },
   {
    "duration": 8,
    "start_time": "2025-01-29T15:39:06.953Z"
   },
   {
    "duration": 33,
    "start_time": "2025-01-29T15:39:06.964Z"
   },
   {
    "duration": 77,
    "start_time": "2025-01-29T15:39:07.775Z"
   },
   {
    "duration": 362,
    "start_time": "2025-01-29T15:39:52.121Z"
   },
   {
    "duration": 1205,
    "start_time": "2025-01-29T18:25:49.481Z"
   },
   {
    "duration": 115,
    "start_time": "2025-01-29T18:25:50.688Z"
   },
   {
    "duration": 21,
    "start_time": "2025-01-29T18:25:50.804Z"
   },
   {
    "duration": 33,
    "start_time": "2025-01-29T18:25:50.826Z"
   },
   {
    "duration": 14,
    "start_time": "2025-01-29T18:25:50.861Z"
   },
   {
    "duration": 8,
    "start_time": "2025-01-29T18:25:50.876Z"
   },
   {
    "duration": 247,
    "start_time": "2025-01-29T18:25:50.886Z"
   },
   {
    "duration": 136,
    "start_time": "2025-01-29T18:25:51.134Z"
   },
   {
    "duration": 232,
    "start_time": "2025-01-29T18:25:51.272Z"
   },
   {
    "duration": 152,
    "start_time": "2025-01-29T18:25:51.506Z"
   },
   {
    "duration": 219,
    "start_time": "2025-01-29T18:25:51.659Z"
   },
   {
    "duration": 32,
    "start_time": "2025-01-29T18:25:51.880Z"
   },
   {
    "duration": 46,
    "start_time": "2025-01-29T18:25:51.914Z"
   },
   {
    "duration": 413,
    "start_time": "2025-01-29T18:25:51.962Z"
   },
   {
    "duration": 562,
    "start_time": "2025-01-29T18:25:52.377Z"
   },
   {
    "duration": 537,
    "start_time": "2025-01-29T18:25:52.941Z"
   },
   {
    "duration": 151,
    "start_time": "2025-01-29T18:25:53.480Z"
   },
   {
    "duration": 41,
    "start_time": "2025-01-29T18:25:53.633Z"
   },
   {
    "duration": 519,
    "start_time": "2025-01-29T18:25:53.675Z"
   },
   {
    "duration": 6,
    "start_time": "2025-01-29T18:25:54.195Z"
   },
   {
    "duration": 11,
    "start_time": "2025-01-29T18:25:54.203Z"
   },
   {
    "duration": 6,
    "start_time": "2025-01-29T18:25:54.216Z"
   },
   {
    "duration": 42,
    "start_time": "2025-01-29T18:25:54.223Z"
   },
   {
    "duration": 1290,
    "start_time": "2025-01-30T03:51:42.977Z"
   },
   {
    "duration": 101,
    "start_time": "2025-01-30T03:51:44.268Z"
   },
   {
    "duration": 21,
    "start_time": "2025-01-30T03:51:44.371Z"
   },
   {
    "duration": 24,
    "start_time": "2025-01-30T03:51:44.394Z"
   },
   {
    "duration": 15,
    "start_time": "2025-01-30T03:51:44.419Z"
   },
   {
    "duration": 9,
    "start_time": "2025-01-30T03:51:44.436Z"
   },
   {
    "duration": 244,
    "start_time": "2025-01-30T03:51:44.446Z"
   },
   {
    "duration": 132,
    "start_time": "2025-01-30T03:51:44.692Z"
   },
   {
    "duration": 198,
    "start_time": "2025-01-30T03:51:44.826Z"
   },
   {
    "duration": 150,
    "start_time": "2025-01-30T03:51:45.027Z"
   },
   {
    "duration": 210,
    "start_time": "2025-01-30T03:51:45.179Z"
   },
   {
    "duration": 43,
    "start_time": "2025-01-30T03:51:45.391Z"
   },
   {
    "duration": 27,
    "start_time": "2025-01-30T03:51:45.436Z"
   },
   {
    "duration": 393,
    "start_time": "2025-01-30T03:51:45.465Z"
   },
   {
    "duration": 535,
    "start_time": "2025-01-30T03:51:45.860Z"
   },
   {
    "duration": 540,
    "start_time": "2025-01-30T03:51:46.397Z"
   },
   {
    "duration": 150,
    "start_time": "2025-01-30T03:51:46.939Z"
   },
   {
    "duration": 40,
    "start_time": "2025-01-30T03:51:47.091Z"
   },
   {
    "duration": 514,
    "start_time": "2025-01-30T03:51:47.132Z"
   },
   {
    "duration": 6,
    "start_time": "2025-01-30T03:51:47.648Z"
   },
   {
    "duration": 16,
    "start_time": "2025-01-30T03:51:47.656Z"
   },
   {
    "duration": 9,
    "start_time": "2025-01-30T03:51:47.674Z"
   },
   {
    "duration": 30,
    "start_time": "2025-01-30T03:51:47.685Z"
   },
   {
    "duration": 3,
    "start_time": "2025-01-30T04:14:29.046Z"
   },
   {
    "duration": 109,
    "start_time": "2025-01-30T04:14:29.613Z"
   },
   {
    "duration": 21,
    "start_time": "2025-01-30T04:14:30.585Z"
   },
   {
    "duration": 11,
    "start_time": "2025-01-30T04:14:31.318Z"
   },
   {
    "duration": 12,
    "start_time": "2025-01-30T04:14:32.904Z"
   },
   {
    "duration": 9,
    "start_time": "2025-01-30T04:14:33.166Z"
   },
   {
    "duration": 213,
    "start_time": "2025-01-30T04:14:34.346Z"
   },
   {
    "duration": 205,
    "start_time": "2025-01-30T04:16:05.134Z"
   },
   {
    "duration": 212,
    "start_time": "2025-01-30T04:17:18.523Z"
   },
   {
    "duration": 80,
    "start_time": "2025-01-30T04:19:56.921Z"
   },
   {
    "duration": 81,
    "start_time": "2025-01-30T05:01:18.983Z"
   },
   {
    "duration": 100,
    "start_time": "2025-01-30T05:03:15.231Z"
   },
   {
    "duration": 186,
    "start_time": "2025-01-30T05:05:23.862Z"
   },
   {
    "duration": 190,
    "start_time": "2025-01-30T05:05:44.560Z"
   },
   {
    "duration": 100,
    "start_time": "2025-01-30T05:06:15.883Z"
   },
   {
    "duration": 56,
    "start_time": "2025-01-30T05:06:39.547Z"
   },
   {
    "duration": 339,
    "start_time": "2025-01-30T05:14:17.811Z"
   },
   {
    "duration": 311,
    "start_time": "2025-01-30T05:14:37.961Z"
   },
   {
    "duration": 483,
    "start_time": "2025-01-30T05:14:55.550Z"
   },
   {
    "duration": 629,
    "start_time": "2025-01-30T05:16:24.533Z"
   },
   {
    "duration": 529,
    "start_time": "2025-01-30T05:23:11.041Z"
   },
   {
    "duration": 559,
    "start_time": "2025-01-30T05:23:30.566Z"
   },
   {
    "duration": 641,
    "start_time": "2025-01-30T05:23:53.538Z"
   },
   {
    "duration": 597,
    "start_time": "2025-01-30T05:26:05.820Z"
   },
   {
    "duration": 600,
    "start_time": "2025-01-30T05:26:37.277Z"
   },
   {
    "duration": 750,
    "start_time": "2025-01-30T05:27:59.911Z"
   },
   {
    "duration": 564,
    "start_time": "2025-01-30T05:28:20.393Z"
   },
   {
    "duration": 684,
    "start_time": "2025-01-30T05:36:02.437Z"
   },
   {
    "duration": 562,
    "start_time": "2025-01-30T05:36:46.967Z"
   },
   {
    "duration": 549,
    "start_time": "2025-01-30T05:37:26.604Z"
   },
   {
    "duration": 764,
    "start_time": "2025-01-30T05:38:03.985Z"
   },
   {
    "duration": 57,
    "start_time": "2025-01-30T05:38:04.794Z"
   },
   {
    "duration": 28,
    "start_time": "2025-01-30T05:38:05.380Z"
   },
   {
    "duration": 510,
    "start_time": "2025-01-30T05:38:06.738Z"
   },
   {
    "duration": 6,
    "start_time": "2025-01-30T05:38:07.250Z"
   },
   {
    "duration": 8,
    "start_time": "2025-01-30T05:38:07.257Z"
   },
   {
    "duration": 5,
    "start_time": "2025-01-30T05:38:07.266Z"
   },
   {
    "duration": 41,
    "start_time": "2025-01-30T05:38:07.273Z"
   },
   {
    "duration": 3,
    "start_time": "2025-01-30T06:06:18.413Z"
   },
   {
    "duration": 95,
    "start_time": "2025-01-30T06:06:19.479Z"
   },
   {
    "duration": 20,
    "start_time": "2025-01-30T06:06:21.125Z"
   },
   {
    "duration": 11,
    "start_time": "2025-01-30T06:06:22.242Z"
   },
   {
    "duration": 18,
    "start_time": "2025-01-30T06:06:23.147Z"
   },
   {
    "duration": 9,
    "start_time": "2025-01-30T06:06:23.429Z"
   },
   {
    "duration": 210,
    "start_time": "2025-01-30T06:06:25.201Z"
   },
   {
    "duration": 99,
    "start_time": "2025-01-30T06:06:28.552Z"
   },
   {
    "duration": 189,
    "start_time": "2025-01-30T06:06:30.883Z"
   },
   {
    "duration": 131,
    "start_time": "2025-01-30T06:06:32.965Z"
   },
   {
    "duration": 198,
    "start_time": "2025-01-30T06:06:34.526Z"
   },
   {
    "duration": 31,
    "start_time": "2025-01-30T06:06:37.970Z"
   },
   {
    "duration": 46,
    "start_time": "2025-01-30T06:06:41.554Z"
   },
   {
    "duration": 674,
    "start_time": "2025-01-30T06:06:50.965Z"
   },
   {
    "duration": 564,
    "start_time": "2025-01-30T06:07:04.942Z"
   },
   {
    "duration": 565,
    "start_time": "2025-01-30T06:07:55.552Z"
   },
   {
    "duration": 5,
    "start_time": "2025-01-30T06:08:06.511Z"
   },
   {
    "duration": 98,
    "start_time": "2025-01-30T06:08:06.606Z"
   },
   {
    "duration": 21,
    "start_time": "2025-01-30T06:08:06.756Z"
   },
   {
    "duration": 11,
    "start_time": "2025-01-30T06:08:06.856Z"
   },
   {
    "duration": 13,
    "start_time": "2025-01-30T06:08:07.376Z"
   },
   {
    "duration": 8,
    "start_time": "2025-01-30T06:08:07.538Z"
   },
   {
    "duration": 374,
    "start_time": "2025-01-30T06:08:08.411Z"
   },
   {
    "duration": 110,
    "start_time": "2025-01-30T06:08:08.787Z"
   },
   {
    "duration": 184,
    "start_time": "2025-01-30T06:08:09.843Z"
   },
   {
    "duration": 131,
    "start_time": "2025-01-30T06:08:11.130Z"
   },
   {
    "duration": 184,
    "start_time": "2025-01-30T06:08:12.331Z"
   },
   {
    "duration": 30,
    "start_time": "2025-01-30T06:08:13.974Z"
   },
   {
    "duration": 38,
    "start_time": "2025-01-30T06:08:15.854Z"
   },
   {
    "duration": 556,
    "start_time": "2025-01-30T06:08:19.051Z"
   },
   {
    "duration": 670,
    "start_time": "2025-01-30T09:03:38.170Z"
   },
   {
    "duration": 542,
    "start_time": "2025-01-30T09:04:52.259Z"
   },
   {
    "duration": 543,
    "start_time": "2025-01-30T09:04:58.077Z"
   },
   {
    "duration": 793,
    "start_time": "2025-01-30T09:05:39.867Z"
   },
   {
    "duration": 4,
    "start_time": "2025-01-30T09:05:58.405Z"
   },
   {
    "duration": 118,
    "start_time": "2025-01-30T09:05:58.504Z"
   },
   {
    "duration": 22,
    "start_time": "2025-01-30T09:05:58.648Z"
   },
   {
    "duration": 12,
    "start_time": "2025-01-30T09:05:58.741Z"
   },
   {
    "duration": 14,
    "start_time": "2025-01-30T09:05:58.851Z"
   },
   {
    "duration": 8,
    "start_time": "2025-01-30T09:05:58.874Z"
   },
   {
    "duration": 219,
    "start_time": "2025-01-30T09:05:59.024Z"
   },
   {
    "duration": 105,
    "start_time": "2025-01-30T09:06:00.215Z"
   },
   {
    "duration": 186,
    "start_time": "2025-01-30T09:06:01.254Z"
   },
   {
    "duration": 136,
    "start_time": "2025-01-30T09:06:02.221Z"
   },
   {
    "duration": 184,
    "start_time": "2025-01-30T09:06:03.156Z"
   },
   {
    "duration": 30,
    "start_time": "2025-01-30T09:06:04.948Z"
   },
   {
    "duration": 42,
    "start_time": "2025-01-30T09:06:06.014Z"
   },
   {
    "duration": 677,
    "start_time": "2025-01-30T09:06:10.456Z"
   },
   {
    "duration": 562,
    "start_time": "2025-01-30T09:06:59.919Z"
   },
   {
    "duration": 543,
    "start_time": "2025-01-30T09:07:00.560Z"
   },
   {
    "duration": 743,
    "start_time": "2025-01-30T09:07:08.154Z"
   },
   {
    "duration": 54,
    "start_time": "2025-01-30T09:09:10.788Z"
   },
   {
    "duration": 29,
    "start_time": "2025-01-30T09:09:20.973Z"
   },
   {
    "duration": 1126,
    "start_time": "2025-01-30T09:09:28.216Z"
   },
   {
    "duration": 102,
    "start_time": "2025-01-30T09:09:29.344Z"
   },
   {
    "duration": 18,
    "start_time": "2025-01-30T09:09:29.448Z"
   },
   {
    "duration": 10,
    "start_time": "2025-01-30T09:09:29.468Z"
   },
   {
    "duration": 37,
    "start_time": "2025-01-30T09:09:29.479Z"
   },
   {
    "duration": 7,
    "start_time": "2025-01-30T09:09:29.518Z"
   },
   {
    "duration": 255,
    "start_time": "2025-01-30T09:09:29.526Z"
   },
   {
    "duration": 107,
    "start_time": "2025-01-30T09:09:29.782Z"
   },
   {
    "duration": 207,
    "start_time": "2025-01-30T09:09:29.890Z"
   },
   {
    "duration": 147,
    "start_time": "2025-01-30T09:09:30.099Z"
   },
   {
    "duration": 208,
    "start_time": "2025-01-30T09:09:30.247Z"
   },
   {
    "duration": 33,
    "start_time": "2025-01-30T09:09:30.456Z"
   },
   {
    "duration": 53,
    "start_time": "2025-01-30T09:09:30.491Z"
   },
   {
    "duration": 652,
    "start_time": "2025-01-30T09:09:30.546Z"
   },
   {
    "duration": 544,
    "start_time": "2025-01-30T09:09:31.200Z"
   },
   {
    "duration": 51,
    "start_time": "2025-01-30T09:09:31.746Z"
   },
   {
    "duration": 26,
    "start_time": "2025-01-30T09:09:31.813Z"
   },
   {
    "duration": 521,
    "start_time": "2025-01-30T09:09:31.840Z"
   },
   {
    "duration": 6,
    "start_time": "2025-01-30T09:09:32.363Z"
   },
   {
    "duration": 43,
    "start_time": "2025-01-30T09:09:32.370Z"
   },
   {
    "duration": 30,
    "start_time": "2025-01-30T09:09:32.414Z"
   },
   {
    "duration": 26,
    "start_time": "2025-01-30T09:09:32.446Z"
   },
   {
    "duration": 232,
    "start_time": "2025-01-30T09:11:45.623Z"
   },
   {
    "duration": 226,
    "start_time": "2025-01-30T09:11:56.234Z"
   },
   {
    "duration": 216,
    "start_time": "2025-01-30T09:12:01.303Z"
   },
   {
    "duration": 344,
    "start_time": "2025-01-30T09:13:00.387Z"
   },
   {
    "duration": 216,
    "start_time": "2025-01-30T09:13:14.508Z"
   },
   {
    "duration": 227,
    "start_time": "2025-01-30T09:26:39.413Z"
   },
   {
    "duration": 215,
    "start_time": "2025-01-30T09:28:41.770Z"
   },
   {
    "duration": 324,
    "start_time": "2025-01-30T09:28:55.930Z"
   },
   {
    "duration": 250,
    "start_time": "2025-01-30T09:29:12.728Z"
   },
   {
    "duration": 5,
    "start_time": "2025-01-30T09:41:56.254Z"
   },
   {
    "duration": 6,
    "start_time": "2025-01-30T09:45:50.315Z"
   },
   {
    "duration": 6,
    "start_time": "2025-01-30T09:49:33.918Z"
   },
   {
    "duration": 6,
    "start_time": "2025-01-30T09:49:38.647Z"
   },
   {
    "duration": 6,
    "start_time": "2025-01-30T09:49:43.705Z"
   },
   {
    "duration": 6,
    "start_time": "2025-01-30T09:49:48.564Z"
   },
   {
    "duration": 6,
    "start_time": "2025-01-30T09:49:52.071Z"
   },
   {
    "duration": 5,
    "start_time": "2025-01-30T09:54:59.806Z"
   },
   {
    "duration": 7,
    "start_time": "2025-01-30T09:56:19.155Z"
   },
   {
    "duration": 9,
    "start_time": "2025-01-30T10:00:07.002Z"
   },
   {
    "duration": 1645,
    "start_time": "2025-01-30T10:10:49.215Z"
   },
   {
    "duration": 118,
    "start_time": "2025-01-30T10:27:49.504Z"
   },
   {
    "duration": 140,
    "start_time": "2025-01-30T10:28:33.590Z"
   },
   {
    "duration": 131,
    "start_time": "2025-01-30T10:29:40.397Z"
   },
   {
    "duration": 5,
    "start_time": "2025-01-30T10:33:09.958Z"
   },
   {
    "duration": 5,
    "start_time": "2025-01-30T10:33:20.749Z"
   },
   {
    "duration": 5,
    "start_time": "2025-01-30T10:36:40.999Z"
   },
   {
    "duration": 6,
    "start_time": "2025-01-30T10:45:18.751Z"
   },
   {
    "duration": 5,
    "start_time": "2025-01-30T10:45:32.266Z"
   },
   {
    "duration": 5,
    "start_time": "2025-01-30T10:45:35.448Z"
   },
   {
    "duration": 5,
    "start_time": "2025-01-30T10:45:39.080Z"
   },
   {
    "duration": 5,
    "start_time": "2025-01-30T10:45:44.789Z"
   },
   {
    "duration": 102,
    "start_time": "2025-01-30T10:48:53.388Z"
   },
   {
    "duration": 74,
    "start_time": "2025-01-30T10:49:16.328Z"
   },
   {
    "duration": 11,
    "start_time": "2025-01-30T10:49:21.135Z"
   },
   {
    "duration": 10,
    "start_time": "2025-01-30T10:50:56.428Z"
   },
   {
    "duration": 10,
    "start_time": "2025-01-30T10:51:24.728Z"
   },
   {
    "duration": 1174,
    "start_time": "2025-01-30T18:26:03.276Z"
   },
   {
    "duration": 318,
    "start_time": "2025-01-30T18:26:04.452Z"
   },
   {
    "duration": 20,
    "start_time": "2025-01-30T18:26:04.771Z"
   },
   {
    "duration": 26,
    "start_time": "2025-01-30T18:26:04.792Z"
   },
   {
    "duration": 13,
    "start_time": "2025-01-30T18:26:04.819Z"
   },
   {
    "duration": 16,
    "start_time": "2025-01-30T18:26:04.834Z"
   },
   {
    "duration": 254,
    "start_time": "2025-01-30T18:26:04.851Z"
   },
   {
    "duration": 114,
    "start_time": "2025-01-30T18:26:05.107Z"
   },
   {
    "duration": 237,
    "start_time": "2025-01-30T18:26:05.222Z"
   },
   {
    "duration": 141,
    "start_time": "2025-01-30T18:26:05.462Z"
   },
   {
    "duration": 248,
    "start_time": "2025-01-30T18:26:05.605Z"
   },
   {
    "duration": 32,
    "start_time": "2025-01-30T18:26:05.855Z"
   },
   {
    "duration": 58,
    "start_time": "2025-01-30T18:26:05.888Z"
   },
   {
    "duration": 649,
    "start_time": "2025-01-30T18:26:05.948Z"
   },
   {
    "duration": 573,
    "start_time": "2025-01-30T18:26:06.599Z"
   },
   {
    "duration": 72,
    "start_time": "2025-01-30T18:26:07.174Z"
   },
   {
    "duration": 26,
    "start_time": "2025-01-30T18:26:07.248Z"
   },
   {
    "duration": 127,
    "start_time": "2025-01-30T18:26:07.276Z"
   },
   {
    "duration": 0,
    "start_time": "2025-01-30T18:26:07.404Z"
   },
   {
    "duration": 0,
    "start_time": "2025-01-30T18:26:07.417Z"
   },
   {
    "duration": 0,
    "start_time": "2025-01-30T18:26:07.418Z"
   },
   {
    "duration": 0,
    "start_time": "2025-01-30T18:26:07.419Z"
   },
   {
    "duration": 0,
    "start_time": "2025-01-30T18:26:07.421Z"
   },
   {
    "duration": 0,
    "start_time": "2025-01-30T18:26:07.422Z"
   },
   {
    "duration": 1387,
    "start_time": "2025-01-30T18:33:18.989Z"
   },
   {
    "duration": 111,
    "start_time": "2025-01-30T18:33:20.378Z"
   },
   {
    "duration": 23,
    "start_time": "2025-01-30T18:33:20.490Z"
   },
   {
    "duration": 25,
    "start_time": "2025-01-30T18:33:20.515Z"
   },
   {
    "duration": 21,
    "start_time": "2025-01-30T18:33:20.541Z"
   },
   {
    "duration": 8,
    "start_time": "2025-01-30T18:33:20.564Z"
   },
   {
    "duration": 243,
    "start_time": "2025-01-30T18:33:20.573Z"
   },
   {
    "duration": 115,
    "start_time": "2025-01-30T18:33:20.818Z"
   },
   {
    "duration": 220,
    "start_time": "2025-01-30T18:33:20.934Z"
   },
   {
    "duration": 139,
    "start_time": "2025-01-30T18:33:21.157Z"
   },
   {
    "duration": 235,
    "start_time": "2025-01-30T18:33:21.298Z"
   },
   {
    "duration": 32,
    "start_time": "2025-01-30T18:33:21.534Z"
   },
   {
    "duration": 39,
    "start_time": "2025-01-30T18:33:21.567Z"
   },
   {
    "duration": 653,
    "start_time": "2025-01-30T18:33:21.607Z"
   },
   {
    "duration": 571,
    "start_time": "2025-01-30T18:33:22.262Z"
   },
   {
    "duration": 54,
    "start_time": "2025-01-30T18:33:22.834Z"
   },
   {
    "duration": 49,
    "start_time": "2025-01-30T18:33:22.889Z"
   },
   {
    "duration": 6,
    "start_time": "2025-01-30T18:33:22.939Z"
   },
   {
    "duration": 511,
    "start_time": "2025-01-30T18:33:22.946Z"
   },
   {
    "duration": 9,
    "start_time": "2025-01-30T18:33:23.459Z"
   },
   {
    "duration": 46,
    "start_time": "2025-01-30T18:33:23.470Z"
   },
   {
    "duration": 22,
    "start_time": "2025-01-30T18:33:23.518Z"
   },
   {
    "duration": 257,
    "start_time": "2025-01-30T18:33:23.542Z"
   },
   {
    "duration": 5,
    "start_time": "2025-01-30T18:33:23.801Z"
   },
   {
    "duration": 1379,
    "start_time": "2025-01-31T06:23:49.246Z"
   },
   {
    "duration": 103,
    "start_time": "2025-01-31T06:23:50.628Z"
   },
   {
    "duration": 20,
    "start_time": "2025-01-31T06:23:50.733Z"
   },
   {
    "duration": 10,
    "start_time": "2025-01-31T06:23:50.755Z"
   },
   {
    "duration": 49,
    "start_time": "2025-01-31T06:23:50.767Z"
   },
   {
    "duration": 8,
    "start_time": "2025-01-31T06:23:50.818Z"
   },
   {
    "duration": 252,
    "start_time": "2025-01-31T06:23:50.828Z"
   },
   {
    "duration": 106,
    "start_time": "2025-01-31T06:23:51.082Z"
   },
   {
    "duration": 236,
    "start_time": "2025-01-31T06:23:51.200Z"
   },
   {
    "duration": 136,
    "start_time": "2025-01-31T06:23:51.439Z"
   },
   {
    "duration": 234,
    "start_time": "2025-01-31T06:23:51.577Z"
   },
   {
    "duration": 32,
    "start_time": "2025-01-31T06:23:51.813Z"
   },
   {
    "duration": 74,
    "start_time": "2025-01-31T06:23:51.847Z"
   },
   {
    "duration": 648,
    "start_time": "2025-01-31T06:23:51.923Z"
   },
   {
    "duration": 565,
    "start_time": "2025-01-31T06:23:52.573Z"
   },
   {
    "duration": 65,
    "start_time": "2025-01-31T06:23:53.140Z"
   },
   {
    "duration": 27,
    "start_time": "2025-01-31T06:23:53.207Z"
   },
   {
    "duration": 5,
    "start_time": "2025-01-31T06:23:53.236Z"
   },
   {
    "duration": 546,
    "start_time": "2025-01-31T06:23:53.242Z"
   },
   {
    "duration": 26,
    "start_time": "2025-01-31T06:23:53.790Z"
   },
   {
    "duration": 7,
    "start_time": "2025-01-31T06:23:53.819Z"
   },
   {
    "duration": 21,
    "start_time": "2025-01-31T06:23:53.829Z"
   },
   {
    "duration": 172,
    "start_time": "2025-01-31T06:23:53.851Z"
   },
   {
    "duration": 5,
    "start_time": "2025-01-31T06:23:54.025Z"
   },
   {
    "duration": 16,
    "start_time": "2025-01-31T06:26:42.042Z"
   },
   {
    "duration": 6,
    "start_time": "2025-01-31T06:31:18.570Z"
   },
   {
    "duration": 6,
    "start_time": "2025-01-31T06:33:01.391Z"
   },
   {
    "duration": 6,
    "start_time": "2025-01-31T06:33:23.957Z"
   },
   {
    "duration": 6,
    "start_time": "2025-01-31T06:46:57.930Z"
   },
   {
    "duration": 5,
    "start_time": "2025-01-31T06:48:40.210Z"
   },
   {
    "duration": 5,
    "start_time": "2025-01-31T06:52:05.318Z"
   },
   {
    "duration": 5,
    "start_time": "2025-01-31T06:53:58.017Z"
   },
   {
    "duration": 9,
    "start_time": "2025-01-31T06:55:56.666Z"
   },
   {
    "duration": 1265,
    "start_time": "2025-01-31T09:38:53.862Z"
   },
   {
    "duration": 117,
    "start_time": "2025-01-31T09:38:55.129Z"
   },
   {
    "duration": 20,
    "start_time": "2025-01-31T09:38:55.248Z"
   },
   {
    "duration": 36,
    "start_time": "2025-01-31T09:38:55.270Z"
   },
   {
    "duration": 14,
    "start_time": "2025-01-31T09:38:55.307Z"
   },
   {
    "duration": 10,
    "start_time": "2025-01-31T09:38:55.323Z"
   },
   {
    "duration": 341,
    "start_time": "2025-01-31T09:38:55.334Z"
   },
   {
    "duration": 125,
    "start_time": "2025-01-31T09:38:55.677Z"
   },
   {
    "duration": 255,
    "start_time": "2025-01-31T09:38:55.804Z"
   },
   {
    "duration": 151,
    "start_time": "2025-01-31T09:38:56.061Z"
   },
   {
    "duration": 248,
    "start_time": "2025-01-31T09:38:56.214Z"
   },
   {
    "duration": 46,
    "start_time": "2025-01-31T09:38:56.464Z"
   },
   {
    "duration": 50,
    "start_time": "2025-01-31T09:38:56.511Z"
   },
   {
    "duration": 681,
    "start_time": "2025-01-31T09:38:56.562Z"
   },
   {
    "duration": 579,
    "start_time": "2025-01-31T09:38:57.245Z"
   },
   {
    "duration": 74,
    "start_time": "2025-01-31T09:38:57.826Z"
   },
   {
    "duration": 69,
    "start_time": "2025-01-31T09:38:57.902Z"
   },
   {
    "duration": 21,
    "start_time": "2025-01-31T09:38:57.973Z"
   },
   {
    "duration": 21,
    "start_time": "2025-01-31T09:38:57.996Z"
   },
   {
    "duration": 9,
    "start_time": "2025-01-31T09:38:58.019Z"
   },
   {
    "duration": 82,
    "start_time": "2025-01-31T09:38:58.029Z"
   },
   {
    "duration": 109,
    "start_time": "2025-01-31T09:38:58.113Z"
   },
   {
    "duration": 141,
    "start_time": "2025-01-31T09:38:58.223Z"
   },
   {
    "duration": 5,
    "start_time": "2025-01-31T09:38:58.366Z"
   },
   {
    "duration": 1404,
    "start_time": "2025-01-31T09:41:34.313Z"
   },
   {
    "duration": 107,
    "start_time": "2025-01-31T09:41:35.719Z"
   },
   {
    "duration": 22,
    "start_time": "2025-01-31T09:41:35.828Z"
   },
   {
    "duration": 25,
    "start_time": "2025-01-31T09:41:35.972Z"
   },
   {
    "duration": 95,
    "start_time": "2025-01-31T09:41:36.000Z"
   },
   {
    "duration": 129,
    "start_time": "2025-01-31T09:41:36.097Z"
   },
   {
    "duration": 40,
    "start_time": "2025-01-31T09:41:36.229Z"
   },
   {
    "duration": 60,
    "start_time": "2025-01-31T09:41:36.271Z"
   },
   {
    "duration": 16,
    "start_time": "2025-01-31T09:41:36.334Z"
   },
   {
    "duration": 249,
    "start_time": "2025-01-31T09:41:36.353Z"
   },
   {
    "duration": 114,
    "start_time": "2025-01-31T09:41:36.603Z"
   },
   {
    "duration": 283,
    "start_time": "2025-01-31T09:41:36.719Z"
   },
   {
    "duration": 142,
    "start_time": "2025-01-31T09:41:37.005Z"
   },
   {
    "duration": 297,
    "start_time": "2025-01-31T09:41:37.149Z"
   },
   {
    "duration": 67,
    "start_time": "2025-01-31T09:41:37.447Z"
   },
   {
    "duration": 43,
    "start_time": "2025-01-31T09:41:37.516Z"
   },
   {
    "duration": 724,
    "start_time": "2025-01-31T09:41:37.561Z"
   },
   {
    "duration": 569,
    "start_time": "2025-01-31T09:41:38.287Z"
   },
   {
    "duration": 72,
    "start_time": "2025-01-31T09:41:38.857Z"
   },
   {
    "duration": 28,
    "start_time": "2025-01-31T09:41:38.931Z"
   },
   {
    "duration": 7,
    "start_time": "2025-01-31T09:41:38.960Z"
   },
   {
    "duration": 100,
    "start_time": "2025-01-31T09:41:38.968Z"
   },
   {
    "duration": 9,
    "start_time": "2025-01-31T09:41:39.070Z"
   },
   {
    "duration": 15,
    "start_time": "2025-01-31T09:41:39.081Z"
   },
   {
    "duration": 15,
    "start_time": "2025-01-31T09:41:39.098Z"
   },
   {
    "duration": 151,
    "start_time": "2025-01-31T09:41:39.115Z"
   },
   {
    "duration": 6,
    "start_time": "2025-01-31T09:41:39.268Z"
   },
   {
    "duration": 1318,
    "start_time": "2025-01-31T09:41:44.811Z"
   },
   {
    "duration": 106,
    "start_time": "2025-01-31T09:41:46.131Z"
   },
   {
    "duration": 22,
    "start_time": "2025-01-31T09:41:46.239Z"
   },
   {
    "duration": 45,
    "start_time": "2025-01-31T09:41:46.263Z"
   },
   {
    "duration": 15,
    "start_time": "2025-01-31T09:41:46.310Z"
   },
   {
    "duration": 9,
    "start_time": "2025-01-31T09:41:46.326Z"
   },
   {
    "duration": 265,
    "start_time": "2025-01-31T09:41:46.337Z"
   },
   {
    "duration": 113,
    "start_time": "2025-01-31T09:41:46.604Z"
   },
   {
    "duration": 243,
    "start_time": "2025-01-31T09:41:46.719Z"
   },
   {
    "duration": 151,
    "start_time": "2025-01-31T09:41:46.964Z"
   },
   {
    "duration": 244,
    "start_time": "2025-01-31T09:41:47.117Z"
   },
   {
    "duration": 63,
    "start_time": "2025-01-31T09:41:47.363Z"
   },
   {
    "duration": 41,
    "start_time": "2025-01-31T09:41:47.428Z"
   },
   {
    "duration": 666,
    "start_time": "2025-01-31T09:41:47.470Z"
   },
   {
    "duration": 566,
    "start_time": "2025-01-31T09:41:48.138Z"
   },
   {
    "duration": 55,
    "start_time": "2025-01-31T09:41:48.705Z"
   },
   {
    "duration": 53,
    "start_time": "2025-01-31T09:41:48.762Z"
   },
   {
    "duration": 6,
    "start_time": "2025-01-31T09:41:48.817Z"
   },
   {
    "duration": 37,
    "start_time": "2025-01-31T09:41:48.824Z"
   },
   {
    "duration": 10,
    "start_time": "2025-01-31T09:41:48.863Z"
   },
   {
    "duration": 31,
    "start_time": "2025-01-31T09:41:48.874Z"
   },
   {
    "duration": 15,
    "start_time": "2025-01-31T09:41:48.907Z"
   },
   {
    "duration": 178,
    "start_time": "2025-01-31T09:41:48.924Z"
   },
   {
    "duration": 5,
    "start_time": "2025-01-31T09:41:49.103Z"
   },
   {
    "duration": 10,
    "start_time": "2025-01-31T09:41:55.527Z"
   },
   {
    "duration": 6,
    "start_time": "2025-01-31T09:41:56.746Z"
   },
   {
    "duration": 12,
    "start_time": "2025-01-31T09:41:56.976Z"
   },
   {
    "duration": 6031,
    "start_time": "2025-01-31T20:47:36.709Z"
   },
   {
    "duration": 384,
    "start_time": "2025-01-31T20:47:42.742Z"
   },
   {
    "duration": 101,
    "start_time": "2025-01-31T20:47:43.127Z"
   },
   {
    "duration": 15,
    "start_time": "2025-01-31T20:47:43.230Z"
   },
   {
    "duration": 16,
    "start_time": "2025-01-31T20:47:43.318Z"
   },
   {
    "duration": 96,
    "start_time": "2025-01-31T20:47:43.336Z"
   },
   {
    "duration": 995,
    "start_time": "2025-01-31T20:47:43.435Z"
   },
   {
    "duration": 602,
    "start_time": "2025-01-31T20:47:44.432Z"
   },
   {
    "duration": 822,
    "start_time": "2025-01-31T20:47:45.036Z"
   },
   {
    "duration": 283,
    "start_time": "2025-01-31T20:47:45.860Z"
   },
   {
    "duration": 502,
    "start_time": "2025-01-31T20:47:46.145Z"
   },
   {
    "duration": 87,
    "start_time": "2025-01-31T20:47:46.648Z"
   },
   {
    "duration": 79,
    "start_time": "2025-01-31T20:47:46.736Z"
   },
   {
    "duration": 1199,
    "start_time": "2025-01-31T20:47:46.818Z"
   },
   {
    "duration": 578,
    "start_time": "2025-01-31T20:47:48.018Z"
   },
   {
    "duration": 59,
    "start_time": "2025-01-31T20:47:48.598Z"
   },
   {
    "duration": 32,
    "start_time": "2025-01-31T20:47:48.659Z"
   },
   {
    "duration": 5,
    "start_time": "2025-01-31T20:47:48.693Z"
   },
   {
    "duration": 71,
    "start_time": "2025-01-31T20:47:48.699Z"
   },
   {
    "duration": 8,
    "start_time": "2025-01-31T20:47:48.772Z"
   },
   {
    "duration": 7,
    "start_time": "2025-01-31T20:47:48.782Z"
   },
   {
    "duration": 14,
    "start_time": "2025-01-31T20:47:48.790Z"
   },
   {
    "duration": 145,
    "start_time": "2025-01-31T20:47:48.805Z"
   },
   {
    "duration": 4,
    "start_time": "2025-01-31T20:47:48.952Z"
   },
   {
    "duration": 51,
    "start_time": "2025-02-08T10:09:34.870Z"
   },
   {
    "duration": 1500,
    "start_time": "2025-02-08T10:09:42.733Z"
   },
   {
    "duration": 109,
    "start_time": "2025-02-08T10:09:44.235Z"
   },
   {
    "duration": 28,
    "start_time": "2025-02-08T10:09:44.346Z"
   },
   {
    "duration": 19,
    "start_time": "2025-02-08T10:09:44.377Z"
   },
   {
    "duration": 16,
    "start_time": "2025-02-08T10:09:44.400Z"
   },
   {
    "duration": 7,
    "start_time": "2025-02-08T10:09:44.418Z"
   },
   {
    "duration": 273,
    "start_time": "2025-02-08T10:09:44.426Z"
   },
   {
    "duration": 115,
    "start_time": "2025-02-08T10:09:44.700Z"
   },
   {
    "duration": 261,
    "start_time": "2025-02-08T10:09:44.816Z"
   },
   {
    "duration": 185,
    "start_time": "2025-02-08T10:09:45.079Z"
   },
   {
    "duration": 250,
    "start_time": "2025-02-08T10:09:45.266Z"
   },
   {
    "duration": 47,
    "start_time": "2025-02-08T10:09:45.517Z"
   },
   {
    "duration": 38,
    "start_time": "2025-02-08T10:09:45.572Z"
   },
   {
    "duration": 669,
    "start_time": "2025-02-08T10:09:45.612Z"
   },
   {
    "duration": 590,
    "start_time": "2025-02-08T10:09:46.283Z"
   },
   {
    "duration": 53,
    "start_time": "2025-02-08T10:09:46.877Z"
   },
   {
    "duration": 55,
    "start_time": "2025-02-08T10:09:46.931Z"
   },
   {
    "duration": 6,
    "start_time": "2025-02-08T10:09:46.987Z"
   },
   {
    "duration": 27,
    "start_time": "2025-02-08T10:09:46.995Z"
   },
   {
    "duration": 47,
    "start_time": "2025-02-08T10:09:47.024Z"
   },
   {
    "duration": 6,
    "start_time": "2025-02-08T10:09:47.074Z"
   },
   {
    "duration": 29,
    "start_time": "2025-02-08T10:09:47.082Z"
   },
   {
    "duration": 192,
    "start_time": "2025-02-08T10:09:47.112Z"
   },
   {
    "duration": 5,
    "start_time": "2025-02-08T10:09:47.306Z"
   },
   {
    "duration": 7,
    "start_time": "2025-02-08T10:11:38.042Z"
   },
   {
    "duration": 1504,
    "start_time": "2025-02-21T03:58:54.057Z"
   },
   {
    "duration": 118,
    "start_time": "2025-02-21T04:00:38.099Z"
   },
   {
    "duration": 97,
    "start_time": "2025-02-21T04:00:51.866Z"
   },
   {
    "duration": 100,
    "start_time": "2025-02-21T04:01:10.604Z"
   },
   {
    "duration": 21,
    "start_time": "2025-02-21T04:02:15.236Z"
   },
   {
    "duration": 13,
    "start_time": "2025-02-21T04:02:49.081Z"
   },
   {
    "duration": 16,
    "start_time": "2025-02-21T04:03:48.705Z"
   },
   {
    "duration": 8,
    "start_time": "2025-02-21T04:04:29.816Z"
   },
   {
    "duration": 251,
    "start_time": "2025-02-21T04:05:28.635Z"
   },
   {
    "duration": 249,
    "start_time": "2025-02-21T04:05:57.173Z"
   },
   {
    "duration": 240,
    "start_time": "2025-02-21T04:06:07.050Z"
   },
   {
    "duration": 118,
    "start_time": "2025-02-21T04:07:11.124Z"
   },
   {
    "duration": 238,
    "start_time": "2025-02-21T04:11:57.621Z"
   },
   {
    "duration": 142,
    "start_time": "2025-02-21T04:12:46.065Z"
   },
   {
    "duration": 238,
    "start_time": "2025-02-21T04:13:45.779Z"
   },
   {
    "duration": 39,
    "start_time": "2025-02-21T04:15:06.542Z"
   },
   {
    "duration": 43,
    "start_time": "2025-02-21T04:15:46.006Z"
   },
   {
    "duration": 116,
    "start_time": "2025-02-21T04:15:51.979Z"
   },
   {
    "duration": 42,
    "start_time": "2025-02-21T04:15:59.759Z"
   },
   {
    "duration": 584,
    "start_time": "2025-02-21T04:17:00.142Z"
   },
   {
    "duration": 566,
    "start_time": "2025-02-21T04:18:28.001Z"
   },
   {
    "duration": 61,
    "start_time": "2025-02-21T04:20:45.651Z"
   },
   {
    "duration": 58,
    "start_time": "2025-02-21T04:20:51.016Z"
   },
   {
    "duration": 58,
    "start_time": "2025-02-21T04:20:57.986Z"
   },
   {
    "duration": 29,
    "start_time": "2025-02-21T04:24:07.472Z"
   },
   {
    "duration": 27,
    "start_time": "2025-02-21T04:24:16.117Z"
   },
   {
    "duration": 31,
    "start_time": "2025-02-21T04:24:22.007Z"
   },
   {
    "duration": 7,
    "start_time": "2025-02-21T04:26:06.410Z"
   },
   {
    "duration": 20,
    "start_time": "2025-02-21T04:30:55.455Z"
   },
   {
    "duration": 11,
    "start_time": "2025-02-21T04:54:23.007Z"
   },
   {
    "duration": 6,
    "start_time": "2025-02-21T04:57:14.129Z"
   },
   {
    "duration": 13,
    "start_time": "2025-02-21T04:58:06.316Z"
   }
  ],
  "kernelspec": {
   "display_name": "Python 3 (ipykernel)",
   "language": "python",
   "name": "python3"
  },
  "language_info": {
   "codemirror_mode": {
    "name": "ipython",
    "version": 3
   },
   "file_extension": ".py",
   "mimetype": "text/x-python",
   "name": "python",
   "nbconvert_exporter": "python",
   "pygments_lexer": "ipython3",
   "version": "3.11.7"
  },
  "toc": {
   "base_numbering": 1,
   "nav_menu": {},
   "number_sections": true,
   "sideBar": true,
   "skip_h1_title": true,
   "title_cell": "Table of Contents",
   "title_sidebar": "Contents",
   "toc_cell": false,
   "toc_position": {},
   "toc_section_display": true,
   "toc_window_display": false
  }
 },
 "nbformat": 4,
 "nbformat_minor": 5
}
